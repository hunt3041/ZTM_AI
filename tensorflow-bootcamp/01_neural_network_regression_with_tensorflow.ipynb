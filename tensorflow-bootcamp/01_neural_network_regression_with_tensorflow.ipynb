{
 "cells": [
  {
   "cell_type": "markdown",
   "metadata": {},
   "source": [
    "# Introduction to Regression with Neural Networks in TensorFlow\n",
    "\n",
    "There are many definitions for a regression problem but in our case, we're going to simplify it: predicting a numerical variable based on some other combination of variables, even shorter... predicting a number."
   ]
  },
  {
   "cell_type": "code",
   "execution_count": 1,
   "metadata": {},
   "outputs": [
    {
     "name": "stderr",
     "output_type": "stream",
     "text": [
      "2024-07-20 14:57:22.104167: I tensorflow/core/util/port.cc:113] oneDNN custom operations are on. You may see slightly different numerical results due to floating-point round-off errors from different computation orders. To turn them off, set the environment variable `TF_ENABLE_ONEDNN_OPTS=0`.\n",
      "2024-07-20 14:57:22.287069: E external/local_xla/xla/stream_executor/cuda/cuda_dnn.cc:9261] Unable to register cuDNN factory: Attempting to register factory for plugin cuDNN when one has already been registered\n",
      "2024-07-20 14:57:22.287100: E external/local_xla/xla/stream_executor/cuda/cuda_fft.cc:607] Unable to register cuFFT factory: Attempting to register factory for plugin cuFFT when one has already been registered\n",
      "2024-07-20 14:57:22.313839: E external/local_xla/xla/stream_executor/cuda/cuda_blas.cc:1515] Unable to register cuBLAS factory: Attempting to register factory for plugin cuBLAS when one has already been registered\n",
      "2024-07-20 14:57:22.374084: I tensorflow/core/platform/cpu_feature_guard.cc:182] This TensorFlow binary is optimized to use available CPU instructions in performance-critical operations.\n",
      "To enable the following instructions: AVX2 AVX_VNNI FMA, in other operations, rebuild TensorFlow with the appropriate compiler flags.\n"
     ]
    },
    {
     "name": "stdout",
     "output_type": "stream",
     "text": [
      "2.15.1\n"
     ]
    }
   ],
   "source": [
    "# Import TensorFlow\n",
    "import tensorflow as tf\n",
    "print(tf.__version__)"
   ]
  },
  {
   "cell_type": "markdown",
   "metadata": {},
   "source": [
    "## Creating data to view and fit"
   ]
  },
  {
   "cell_type": "code",
   "execution_count": 2,
   "metadata": {},
   "outputs": [
    {
     "data": {
      "text/plain": [
       "<matplotlib.collections.PathCollection at 0x7f541be9d790>"
      ]
     },
     "execution_count": 2,
     "metadata": {},
     "output_type": "execute_result"
    },
    {
     "data": {
      "image/png": "[encoded data removed]",
      "text/plain": [
       "<Figure size 640x480 with 1 Axes>"
      ]
     },
     "metadata": {},
     "output_type": "display_data"
    }
   ],
   "source": [
    "import numpy as np\n",
    "import matplotlib.pyplot as plt\n",
    "\n",
    "# Create features\n",
    "X = np.array([-7., -4., -1., 2., 5., 8., 11., 14.])\n",
    "\n",
    "# Create labels\n",
    "y = np.array([3., 6., 9., 12., 15., 18., 21., 24.])\n",
    "\n",
    "# Visualize it\n",
    "plt.scatter(X, y)"
   ]
  },
  {
   "cell_type": "code",
   "execution_count": 3,
   "metadata": {},
   "outputs": [
    {
     "data": {
      "text/plain": [
       "array([ True,  True,  True,  True,  True,  True,  True,  True])"
      ]
     },
     "execution_count": 3,
     "metadata": {},
     "output_type": "execute_result"
    }
   ],
   "source": [
    "y == X + 10"
   ]
  },
  {
   "cell_type": "markdown",
   "metadata": {},
   "source": [
    "## Input and output shapes"
   ]
  },
  {
   "cell_type": "code",
   "execution_count": 4,
   "metadata": {},
   "outputs": [
    {
     "name": "stderr",
     "output_type": "stream",
     "text": [
      "2024-07-20 14:57:25.380548: I external/local_xla/xla/stream_executor/cuda/cuda_executor.cc:887] could not open file to read NUMA node: /sys/bus/pci/devices/0000:01:00.0/numa_node\n",
      "Your kernel may have been built without NUMA support.\n",
      "2024-07-20 14:57:25.414550: I external/local_xla/xla/stream_executor/cuda/cuda_executor.cc:887] could not open file to read NUMA node: /sys/bus/pci/devices/0000:01:00.0/numa_node\n",
      "Your kernel may have been built without NUMA support.\n",
      "2024-07-20 14:57:25.414577: I external/local_xla/xla/stream_executor/cuda/cuda_executor.cc:887] could not open file to read NUMA node: /sys/bus/pci/devices/0000:01:00.0/numa_node\n",
      "Your kernel may have been built without NUMA support.\n",
      "2024-07-20 14:57:25.416968: I external/local_xla/xla/stream_executor/cuda/cuda_executor.cc:887] could not open file to read NUMA node: /sys/bus/pci/devices/0000:01:00.0/numa_node\n",
      "Your kernel may have been built without NUMA support.\n",
      "2024-07-20 14:57:25.416986: I external/local_xla/xla/stream_executor/cuda/cuda_executor.cc:887] could not open file to read NUMA node: /sys/bus/pci/devices/0000:01:00.0/numa_node\n",
      "Your kernel may have been built without NUMA support.\n",
      "2024-07-20 14:57:25.416993: I external/local_xla/xla/stream_executor/cuda/cuda_executor.cc:887] could not open file to read NUMA node: /sys/bus/pci/devices/0000:01:00.0/numa_node\n",
      "Your kernel may have been built without NUMA support.\n",
      "2024-07-20 14:57:25.550821: I external/local_xla/xla/stream_executor/cuda/cuda_executor.cc:887] could not open file to read NUMA node: /sys/bus/pci/devices/0000:01:00.0/numa_node\n",
      "Your kernel may have been built without NUMA support.\n",
      "2024-07-20 14:57:25.550850: I external/local_xla/xla/stream_executor/cuda/cuda_executor.cc:887] could not open file to read NUMA node: /sys/bus/pci/devices/0000:01:00.0/numa_node\n",
      "Your kernel may have been built without NUMA support.\n",
      "2024-07-20 14:57:25.550855: I tensorflow/core/common_runtime/gpu/gpu_device.cc:2022] Could not identify NUMA node of platform GPU id 0, defaulting to 0.  Your kernel may not have been built with NUMA support.\n",
      "2024-07-20 14:57:25.550872: I external/local_xla/xla/stream_executor/cuda/cuda_executor.cc:887] could not open file to read NUMA node: /sys/bus/pci/devices/0000:01:00.0/numa_node\n",
      "Your kernel may have been built without NUMA support.\n",
      "2024-07-20 14:57:25.550886: I tensorflow/core/common_runtime/gpu/gpu_device.cc:1929] Created device /job:localhost/replica:0/task:0/device:GPU:0 with 9706 MB memory:  -> device: 0, name: NVIDIA GeForce RTX 3060, pci bus id: 0000:01:00.0, compute capability: 8.6\n"
     ]
    },
    {
     "data": {
      "text/plain": [
       "(<tf.Tensor: shape=(3,), dtype=string, numpy=array([b'bedroom', b'bathroom', b'garage'], dtype=object)>,\n",
       " <tf.Tensor: shape=(1,), dtype=int32, numpy=array([939700], dtype=int32)>)"
      ]
     },
     "execution_count": 4,
     "metadata": {},
     "output_type": "execute_result"
    }
   ],
   "source": [
    "# Create a demo tensor for our housing price prediction problem\n",
    "house_info = tf.constant(['bedroom', 'bathroom', 'garage'])\n",
    "house_price = tf.constant([939700])\n",
    "house_info, house_price"
   ]
  },
  {
   "cell_type": "code",
   "execution_count": 5,
   "metadata": {},
   "outputs": [
    {
     "data": {
      "text/plain": [
       "((8,), (8,))"
      ]
     },
     "execution_count": 5,
     "metadata": {},
     "output_type": "execute_result"
    }
   ],
   "source": [
    "input_shape = X.shape\n",
    "output_shape = y.shape\n",
    "input_shape, output_shape"
   ]
  },
  {
   "cell_type": "code",
   "execution_count": 6,
   "metadata": {},
   "outputs": [
    {
     "data": {
      "text/plain": [
       "(<tf.Tensor: shape=(8,), dtype=float64, numpy=array([-7., -4., -1.,  2.,  5.,  8., 11., 14.])>,\n",
       " <tf.Tensor: shape=(8,), dtype=float64, numpy=array([ 3.,  6.,  9., 12., 15., 18., 21., 24.])>)"
      ]
     },
     "execution_count": 6,
     "metadata": {},
     "output_type": "execute_result"
    }
   ],
   "source": [
    "# Turn our NumPy arrays into tensors\n",
    "X = tf.constant(X)\n",
    "y = tf.constant(y)\n",
    "X, y"
   ]
  },
  {
   "cell_type": "markdown",
   "metadata": {},
   "source": [
    "## Steps in modelling with TensorFlow\n",
    "1. **Creating a model** - define the input and output layers, as well as the hidden layers of a deep learning model.\n",
    "2. **Compiling a model** - define the loss function (in other words, the function which tells our model how wrong it is) and the optimizer (tells our model how to improve the patterns its learning) and evaluation metrics (what we can use to interpret the performance of our model).\n",
    "3. **Fitting a model** - letting the model try to find patterns between X and y (features and labels)."
   ]
  },
  {
   "cell_type": "code",
   "execution_count": 7,
   "metadata": {},
   "outputs": [
    {
     "name": "stdout",
     "output_type": "stream",
     "text": [
      "Epoch 1/5\n",
      "1/1 [==============================] - 1s 1s/step - loss: 8.3228 - mae: 8.3228\n",
      "Epoch 2/5\n",
      "1/1 [==============================] - 0s 4ms/step - loss: 8.1903 - mae: 8.1903\n",
      "Epoch 3/5\n",
      "1/1 [==============================] - 0s 4ms/step - loss: 8.0578 - mae: 8.0578\n",
      "Epoch 4/5\n",
      "1/1 [==============================] - 0s 5ms/step - loss: 7.9253 - mae: 7.9253\n",
      "Epoch 5/5\n",
      "1/1 [==============================] - 0s 5ms/step - loss: 7.7928 - mae: 7.7928\n"
     ]
    },
    {
     "name": "stderr",
     "output_type": "stream",
     "text": [
      "2024-07-20 14:57:26.976882: I external/local_xla/xla/service/service.cc:168] XLA service 0x7f5316936560 initialized for platform CUDA (this does not guarantee that XLA will be used). Devices:\n",
      "2024-07-20 14:57:26.976911: I external/local_xla/xla/service/service.cc:176]   StreamExecutor device (0): NVIDIA GeForce RTX 3060, Compute Capability 8.6\n",
      "2024-07-20 14:57:26.992036: I external/local_xla/xla/stream_executor/cuda/cuda_dnn.cc:454] Loaded cuDNN version 8906\n",
      "WARNING: All log messages before absl::InitializeLog() is called are written to STDERR\n",
      "I0000 00:00:1721487447.016223     113 device_compiler.h:186] Compiled cluster using XLA!  This line is logged at most once for the lifetime of the process.\n"
     ]
    },
    {
     "data": {
      "text/plain": [
       "<keras.src.callbacks.History at 0x7f541bebe050>"
      ]
     },
     "execution_count": 7,
     "metadata": {},
     "output_type": "execute_result"
    }
   ],
   "source": [
    "# Set the random seed\n",
    "tf.random.set_seed(42)\n",
    "\n",
    "# 1. Create a model using the Sequential API\n",
    "model = tf.keras.Sequential([\n",
    "    tf.keras.layers.Dense(1)       \n",
    "])\n",
    "\n",
    "# 2. Compile the model\n",
    "model.compile(loss=tf.keras.losses.mae, # mae is short for mean absolute error\n",
    "              optimizer=tf.keras.optimizers.SGD(), # sgd is short for stochastic gradient descent\n",
    "              metrics=['mae'])\n",
    "\n",
    "# 3. Fit the model\n",
    "model.fit(tf.expand_dims(X, axis=-1), y, epochs=5)"
   ]
  },
  {
   "cell_type": "code",
   "execution_count": 8,
   "metadata": {},
   "outputs": [
    {
     "data": {
      "text/plain": [
       "(<tf.Tensor: shape=(8,), dtype=float64, numpy=array([-7., -4., -1.,  2.,  5.,  8., 11., 14.])>,\n",
       " <tf.Tensor: shape=(8,), dtype=float64, numpy=array([ 3.,  6.,  9., 12., 15., 18., 21., 24.])>)"
      ]
     },
     "execution_count": 8,
     "metadata": {},
     "output_type": "execute_result"
    }
   ],
   "source": [
    "# Check out X and y\n",
    "X, y"
   ]
  },
  {
   "cell_type": "code",
   "execution_count": 9,
   "metadata": {},
   "outputs": [
    {
     "name": "stdout",
     "output_type": "stream",
     "text": [
      "1/1 [==============================] - 0s 57ms/step\n"
     ]
    },
    {
     "data": {
      "text/plain": [
       "array([[28.171299]], dtype=float32)"
      ]
     },
     "execution_count": 9,
     "metadata": {},
     "output_type": "execute_result"
    }
   ],
   "source": [
    "# Try and make a prediciton using our model\n",
    "model.predict([17.0])"
   ]
  },
  {
   "cell_type": "markdown",
   "metadata": {},
   "source": [
    "### Improving our model\n",
    "\n",
    "We can imporve our model, by altering the steps we took to create a model.\n",
    "\n",
    "1. **Creating a model** - here we might add more layers, increase the number of hidden units (all called neurons) within each of the hidden layers, change the activation function of each layer. \n",
    "2. **Compiling a model** - here we might change the optimization function or perhaps the **learning rate** of the optimization function. \n",
    "3. **Fitting a model** - here we might fit a model for more **epochs** (leave it training for longer) or on more data (give the model more examples to learn from)."
   ]
  },
  {
   "cell_type": "code",
   "execution_count": 10,
   "metadata": {},
   "outputs": [
    {
     "name": "stdout",
     "output_type": "stream",
     "text": [
      "Epoch 1/100\n",
      "1/1 [==============================] - 0s 162ms/step - loss: 7.7489 - mae: 7.7489\n",
      "Epoch 2/100\n",
      "1/1 [==============================] - 0s 5ms/step - loss: 7.6164 - mae: 7.6164\n",
      "Epoch 3/100\n",
      "1/1 [==============================] - 0s 5ms/step - loss: 7.4850 - mae: 7.4850\n",
      "Epoch 4/100\n",
      "1/1 [==============================] - 0s 5ms/step - loss: 7.4794 - mae: 7.4794\n",
      "Epoch 5/100\n",
      "1/1 [==============================] - 0s 5ms/step - loss: 7.4738 - mae: 7.4738\n",
      "Epoch 6/100\n",
      "1/1 [==============================] - 0s 4ms/step - loss: 7.4681 - mae: 7.4681\n",
      "Epoch 7/100\n",
      "1/1 [==============================] - 0s 5ms/step - loss: 7.4625 - mae: 7.4625\n",
      "Epoch 8/100\n",
      "1/1 [==============================] - 0s 4ms/step - loss: 7.4569 - mae: 7.4569\n",
      "Epoch 9/100\n",
      "1/1 [==============================] - 0s 4ms/step - loss: 7.4513 - mae: 7.4513\n",
      "Epoch 10/100\n",
      "1/1 [==============================] - 0s 4ms/step - loss: 7.4456 - mae: 7.4456\n",
      "Epoch 11/100\n",
      "1/1 [==============================] - 0s 4ms/step - loss: 7.4400 - mae: 7.4400\n",
      "Epoch 12/100\n",
      "1/1 [==============================] - 0s 4ms/step - loss: 7.4344 - mae: 7.4344\n",
      "Epoch 13/100\n",
      "1/1 [==============================] - 0s 4ms/step - loss: 7.4288 - mae: 7.4288\n",
      "Epoch 14/100\n",
      "1/1 [==============================] - 0s 5ms/step - loss: 7.4231 - mae: 7.4231\n",
      "Epoch 15/100\n",
      "1/1 [==============================] - 0s 4ms/step - loss: 7.4175 - mae: 7.4175\n",
      "Epoch 16/100\n",
      "1/1 [==============================] - 0s 4ms/step - loss: 7.4119 - mae: 7.4119\n",
      "Epoch 17/100\n",
      "1/1 [==============================] - 0s 5ms/step - loss: 7.4063 - mae: 7.4063\n",
      "Epoch 18/100\n",
      "1/1 [==============================] - 0s 4ms/step - loss: 7.4006 - mae: 7.4006\n",
      "Epoch 19/100\n",
      "1/1 [==============================] - 0s 5ms/step - loss: 7.3950 - mae: 7.3950\n",
      "Epoch 20/100\n",
      "1/1 [==============================] - 0s 4ms/step - loss: 7.3894 - mae: 7.3894\n",
      "Epoch 21/100\n",
      "1/1 [==============================] - 0s 6ms/step - loss: 7.3837 - mae: 7.3837\n",
      "Epoch 22/100\n",
      "1/1 [==============================] - 0s 5ms/step - loss: 7.3781 - mae: 7.3781\n",
      "Epoch 23/100\n",
      "1/1 [==============================] - 0s 5ms/step - loss: 7.3725 - mae: 7.3725\n",
      "Epoch 24/100\n",
      "1/1 [==============================] - 0s 4ms/step - loss: 7.3669 - mae: 7.3669\n",
      "Epoch 25/100\n",
      "1/1 [==============================] - 0s 5ms/step - loss: 7.3612 - mae: 7.3612\n",
      "Epoch 26/100\n",
      "1/1 [==============================] - 0s 5ms/step - loss: 7.3556 - mae: 7.3556\n",
      "Epoch 27/100\n",
      "1/1 [==============================] - 0s 4ms/step - loss: 7.3500 - mae: 7.3500\n",
      "Epoch 28/100\n",
      "1/1 [==============================] - 0s 4ms/step - loss: 7.3444 - mae: 7.3444\n",
      "Epoch 29/100\n",
      "1/1 [==============================] - 0s 4ms/step - loss: 7.3388 - mae: 7.3388\n",
      "Epoch 30/100\n",
      "1/1 [==============================] - 0s 4ms/step - loss: 7.3331 - mae: 7.3331\n",
      "Epoch 31/100\n",
      "1/1 [==============================] - 0s 4ms/step - loss: 7.3275 - mae: 7.3275\n",
      "Epoch 32/100\n",
      "1/1 [==============================] - 0s 4ms/step - loss: 7.3219 - mae: 7.3219\n",
      "Epoch 33/100\n",
      "1/1 [==============================] - 0s 4ms/step - loss: 7.3162 - mae: 7.3162\n",
      "Epoch 34/100\n",
      "1/1 [==============================] - 0s 4ms/step - loss: 7.3106 - mae: 7.3106\n",
      "Epoch 35/100\n",
      "1/1 [==============================] - 0s 4ms/step - loss: 7.3050 - mae: 7.3050\n",
      "Epoch 36/100\n",
      "1/1 [==============================] - 0s 4ms/step - loss: 7.2994 - mae: 7.2994\n",
      "Epoch 37/100\n",
      "1/1 [==============================] - 0s 4ms/step - loss: 7.2938 - mae: 7.2938\n",
      "Epoch 38/100\n",
      "1/1 [==============================] - 0s 4ms/step - loss: 7.2881 - mae: 7.2881\n",
      "Epoch 39/100\n",
      "1/1 [==============================] - 0s 5ms/step - loss: 7.2825 - mae: 7.2825\n",
      "Epoch 40/100\n",
      "1/1 [==============================] - 0s 4ms/step - loss: 7.2769 - mae: 7.2769\n",
      "Epoch 41/100\n",
      "1/1 [==============================] - 0s 4ms/step - loss: 7.2713 - mae: 7.2713\n",
      "Epoch 42/100\n",
      "1/1 [==============================] - 0s 4ms/step - loss: 7.2656 - mae: 7.2656\n",
      "Epoch 43/100\n",
      "1/1 [==============================] - 0s 5ms/step - loss: 7.2600 - mae: 7.2600\n",
      "Epoch 44/100\n",
      "1/1 [==============================] - 0s 5ms/step - loss: 7.2544 - mae: 7.2544\n",
      "Epoch 45/100\n",
      "1/1 [==============================] - 0s 4ms/step - loss: 7.2487 - mae: 7.2487\n",
      "Epoch 46/100\n",
      "1/1 [==============================] - 0s 5ms/step - loss: 7.2431 - mae: 7.2431\n",
      "Epoch 47/100\n",
      "1/1 [==============================] - 0s 5ms/step - loss: 7.2375 - mae: 7.2375\n",
      "Epoch 48/100\n",
      "1/1 [==============================] - 0s 5ms/step - loss: 7.2319 - mae: 7.2319\n",
      "Epoch 49/100\n",
      "1/1 [==============================] - 0s 5ms/step - loss: 7.2263 - mae: 7.2263\n",
      "Epoch 50/100\n",
      "1/1 [==============================] - 0s 4ms/step - loss: 7.2206 - mae: 7.2206\n",
      "Epoch 51/100\n",
      "1/1 [==============================] - 0s 4ms/step - loss: 7.2150 - mae: 7.2150\n",
      "Epoch 52/100\n",
      "1/1 [==============================] - 0s 5ms/step - loss: 7.2094 - mae: 7.2094\n",
      "Epoch 53/100\n",
      "1/1 [==============================] - 0s 5ms/step - loss: 7.2038 - mae: 7.2038\n",
      "Epoch 54/100\n",
      "1/1 [==============================] - 0s 5ms/step - loss: 7.1981 - mae: 7.1981\n",
      "Epoch 55/100\n",
      "1/1 [==============================] - 0s 5ms/step - loss: 7.1925 - mae: 7.1925\n",
      "Epoch 56/100\n",
      "1/1 [==============================] - 0s 5ms/step - loss: 7.1869 - mae: 7.1869\n",
      "Epoch 57/100\n",
      "1/1 [==============================] - 0s 5ms/step - loss: 7.1812 - mae: 7.1812\n",
      "Epoch 58/100\n",
      "1/1 [==============================] - 0s 5ms/step - loss: 7.1756 - mae: 7.1756\n",
      "Epoch 59/100\n",
      "1/1 [==============================] - 0s 4ms/step - loss: 7.1700 - mae: 7.1700\n",
      "Epoch 60/100\n",
      "1/1 [==============================] - 0s 4ms/step - loss: 7.1644 - mae: 7.1644\n",
      "Epoch 61/100\n",
      "1/1 [==============================] - 0s 5ms/step - loss: 7.1588 - mae: 7.1588\n",
      "Epoch 62/100\n",
      "1/1 [==============================] - 0s 5ms/step - loss: 7.1531 - mae: 7.1531\n",
      "Epoch 63/100\n",
      "1/1 [==============================] - 0s 5ms/step - loss: 7.1475 - mae: 7.1475\n",
      "Epoch 64/100\n",
      "1/1 [==============================] - 0s 4ms/step - loss: 7.1419 - mae: 7.1419\n",
      "Epoch 65/100\n",
      "1/1 [==============================] - 0s 4ms/step - loss: 7.1363 - mae: 7.1363\n",
      "Epoch 66/100\n",
      "1/1 [==============================] - 0s 5ms/step - loss: 7.1306 - mae: 7.1306\n",
      "Epoch 67/100\n",
      "1/1 [==============================] - 0s 4ms/step - loss: 7.1250 - mae: 7.1250\n",
      "Epoch 68/100\n",
      "1/1 [==============================] - 0s 4ms/step - loss: 7.1194 - mae: 7.1194\n",
      "Epoch 69/100\n",
      "1/1 [==============================] - 0s 4ms/step - loss: 7.1138 - mae: 7.1138\n",
      "Epoch 70/100\n",
      "1/1 [==============================] - 0s 5ms/step - loss: 7.1081 - mae: 7.1081\n",
      "Epoch 71/100\n",
      "1/1 [==============================] - 0s 4ms/step - loss: 7.1025 - mae: 7.1025\n",
      "Epoch 72/100\n",
      "1/1 [==============================] - 0s 5ms/step - loss: 7.0969 - mae: 7.0969\n",
      "Epoch 73/100\n",
      "1/1 [==============================] - 0s 4ms/step - loss: 7.0913 - mae: 7.0913\n",
      "Epoch 74/100\n",
      "1/1 [==============================] - 0s 5ms/step - loss: 7.0856 - mae: 7.0856\n",
      "Epoch 75/100\n",
      "1/1 [==============================] - 0s 5ms/step - loss: 7.0800 - mae: 7.0800\n",
      "Epoch 76/100\n",
      "1/1 [==============================] - 0s 5ms/step - loss: 7.0744 - mae: 7.0744\n",
      "Epoch 77/100\n",
      "1/1 [==============================] - 0s 4ms/step - loss: 7.0687 - mae: 7.0687\n",
      "Epoch 78/100\n",
      "1/1 [==============================] - 0s 5ms/step - loss: 7.0631 - mae: 7.0631\n",
      "Epoch 79/100\n",
      "1/1 [==============================] - 0s 6ms/step - loss: 7.0575 - mae: 7.0575\n",
      "Epoch 80/100\n",
      "1/1 [==============================] - 0s 5ms/step - loss: 7.0519 - mae: 7.0519\n",
      "Epoch 81/100\n",
      "1/1 [==============================] - 0s 5ms/step - loss: 7.0463 - mae: 7.0463\n",
      "Epoch 82/100\n",
      "1/1 [==============================] - 0s 5ms/step - loss: 7.0406 - mae: 7.0406\n",
      "Epoch 83/100\n",
      "1/1 [==============================] - 0s 4ms/step - loss: 7.0350 - mae: 7.0350\n",
      "Epoch 84/100\n",
      "1/1 [==============================] - 0s 5ms/step - loss: 7.0294 - mae: 7.0294\n",
      "Epoch 85/100\n",
      "1/1 [==============================] - 0s 5ms/step - loss: 7.0238 - mae: 7.0238\n",
      "Epoch 86/100\n",
      "1/1 [==============================] - 0s 4ms/step - loss: 7.0181 - mae: 7.0181\n",
      "Epoch 87/100\n",
      "1/1 [==============================] - 0s 4ms/step - loss: 7.0125 - mae: 7.0125\n",
      "Epoch 88/100\n",
      "1/1 [==============================] - 0s 5ms/step - loss: 7.0069 - mae: 7.0069\n",
      "Epoch 89/100\n",
      "1/1 [==============================] - 0s 5ms/step - loss: 7.0013 - mae: 7.0013\n",
      "Epoch 90/100\n",
      "1/1 [==============================] - 0s 4ms/step - loss: 6.9956 - mae: 6.9956\n",
      "Epoch 91/100\n",
      "1/1 [==============================] - 0s 4ms/step - loss: 6.9900 - mae: 6.9900\n",
      "Epoch 92/100\n",
      "1/1 [==============================] - 0s 4ms/step - loss: 6.9844 - mae: 6.9844\n",
      "Epoch 93/100\n",
      "1/1 [==============================] - 0s 4ms/step - loss: 6.9788 - mae: 6.9788\n",
      "Epoch 94/100\n",
      "1/1 [==============================] - 0s 4ms/step - loss: 6.9731 - mae: 6.9731\n",
      "Epoch 95/100\n",
      "1/1 [==============================] - 0s 4ms/step - loss: 6.9675 - mae: 6.9675\n",
      "Epoch 96/100\n",
      "1/1 [==============================] - 0s 4ms/step - loss: 6.9619 - mae: 6.9619\n",
      "Epoch 97/100\n",
      "1/1 [==============================] - 0s 4ms/step - loss: 6.9563 - mae: 6.9563\n",
      "Epoch 98/100\n",
      "1/1 [==============================] - 0s 4ms/step - loss: 6.9506 - mae: 6.9506\n",
      "Epoch 99/100\n",
      "1/1 [==============================] - 0s 5ms/step - loss: 6.9450 - mae: 6.9450\n",
      "Epoch 100/100\n",
      "1/1 [==============================] - 0s 4ms/step - loss: 6.9394 - mae: 6.9394\n"
     ]
    },
    {
     "data": {
      "text/plain": [
       "<keras.src.callbacks.History at 0x7f54100766d0>"
      ]
     },
     "execution_count": 10,
     "metadata": {},
     "output_type": "execute_result"
    }
   ],
   "source": [
    "# Let's rebuild our model\n",
    "\n",
    "# 1. Create the model\n",
    "model = tf.keras.Sequential([\n",
    "    tf.keras.layers.Dense(1)           \n",
    "])\n",
    "\n",
    "# 2. Compile the model \n",
    "model.compile(loss=tf.keras.losses.mae,\n",
    "              optimizer=tf.keras.optimizers.SGD(),\n",
    "              metrics=['mae'])\n",
    "\n",
    "# 3. Fit the model \n",
    "model.fit(tf.expand_dims(X, axis=-1), y, epochs=100)"
   ]
  },
  {
   "cell_type": "code",
   "execution_count": 11,
   "metadata": {},
   "outputs": [
    {
     "data": {
      "text/plain": [
       "(<tf.Tensor: shape=(8,), dtype=float64, numpy=array([-7., -4., -1.,  2.,  5.,  8., 11., 14.])>,\n",
       " <tf.Tensor: shape=(8,), dtype=float64, numpy=array([ 3.,  6.,  9., 12., 15., 18., 21., 24.])>)"
      ]
     },
     "execution_count": 11,
     "metadata": {},
     "output_type": "execute_result"
    }
   ],
   "source": [
    "# Remind ourselves of the data\n",
    "X, y"
   ]
  },
  {
   "cell_type": "code",
   "execution_count": 12,
   "metadata": {},
   "outputs": [
    {
     "name": "stdout",
     "output_type": "stream",
     "text": [
      "1/1 [==============================] - 0s 32ms/step\n"
     ]
    },
    {
     "data": {
      "text/plain": [
       "array([[29.878962]], dtype=float32)"
      ]
     },
     "execution_count": 12,
     "metadata": {},
     "output_type": "execute_result"
    }
   ],
   "source": [
    "# Let's see if our model's prediction has improved...\n",
    "model.predict([17.])"
   ]
  },
  {
   "cell_type": "code",
   "execution_count": 13,
   "metadata": {},
   "outputs": [
    {
     "name": "stdout",
     "output_type": "stream",
     "text": [
      "Epoch 1/100\n",
      "1/1 [==============================] - 0s 279ms/step - loss: 14.0359 - mae: 14.0359\n",
      "Epoch 2/100\n",
      "1/1 [==============================] - 0s 5ms/step - loss: 13.4584 - mae: 13.4584\n",
      "Epoch 3/100\n",
      "1/1 [==============================] - 0s 4ms/step - loss: 12.8887 - mae: 12.8887\n",
      "Epoch 4/100\n",
      "1/1 [==============================] - 0s 5ms/step - loss: 12.3215 - mae: 12.3215\n",
      "Epoch 5/100\n",
      "1/1 [==============================] - 0s 5ms/step - loss: 11.7565 - mae: 11.7565\n",
      "Epoch 6/100\n",
      "1/1 [==============================] - 0s 4ms/step - loss: 11.1821 - mae: 11.1821\n",
      "Epoch 7/100\n",
      "1/1 [==============================] - 0s 5ms/step - loss: 10.5923 - mae: 10.5923\n",
      "Epoch 8/100\n",
      "1/1 [==============================] - 0s 4ms/step - loss: 9.9840 - mae: 9.9840\n",
      "Epoch 9/100\n",
      "1/1 [==============================] - 0s 4ms/step - loss: 9.3522 - mae: 9.3522\n",
      "Epoch 10/100\n",
      "1/1 [==============================] - 0s 4ms/step - loss: 8.6878 - mae: 8.6878\n",
      "Epoch 11/100\n",
      "1/1 [==============================] - 0s 4ms/step - loss: 8.0469 - mae: 8.0469\n",
      "Epoch 12/100\n",
      "1/1 [==============================] - 0s 4ms/step - loss: 7.3541 - mae: 7.3541\n",
      "Epoch 13/100\n",
      "1/1 [==============================] - 0s 5ms/step - loss: 6.6094 - mae: 6.6094\n",
      "Epoch 14/100\n",
      "1/1 [==============================] - 0s 4ms/step - loss: 5.8062 - mae: 5.8062\n",
      "Epoch 15/100\n",
      "1/1 [==============================] - 0s 4ms/step - loss: 4.9366 - mae: 4.9366\n",
      "Epoch 16/100\n",
      "1/1 [==============================] - 0s 4ms/step - loss: 4.1318 - mae: 4.1318\n",
      "Epoch 17/100\n",
      "1/1 [==============================] - 0s 5ms/step - loss: 4.0361 - mae: 4.0361\n",
      "Epoch 18/100\n",
      "1/1 [==============================] - 0s 5ms/step - loss: 3.9380 - mae: 3.9380\n",
      "Epoch 19/100\n",
      "1/1 [==============================] - 0s 5ms/step - loss: 3.9332 - mae: 3.9332\n",
      "Epoch 20/100\n",
      "1/1 [==============================] - 0s 5ms/step - loss: 3.9206 - mae: 3.9206\n",
      "Epoch 21/100\n",
      "1/1 [==============================] - 0s 5ms/step - loss: 3.9480 - mae: 3.9480\n",
      "Epoch 22/100\n",
      "1/1 [==============================] - 0s 5ms/step - loss: 3.8945 - mae: 3.8945\n",
      "Epoch 23/100\n",
      "1/1 [==============================] - 0s 6ms/step - loss: 3.9548 - mae: 3.9548\n",
      "Epoch 24/100\n",
      "1/1 [==============================] - 0s 5ms/step - loss: 3.8869 - mae: 3.8869\n",
      "Epoch 25/100\n",
      "1/1 [==============================] - 0s 5ms/step - loss: 3.9421 - mae: 3.9421\n",
      "Epoch 26/100\n",
      "1/1 [==============================] - 0s 5ms/step - loss: 3.8936 - mae: 3.8936\n",
      "Epoch 27/100\n",
      "1/1 [==============================] - 0s 6ms/step - loss: 3.9166 - mae: 3.9166\n",
      "Epoch 28/100\n",
      "1/1 [==============================] - 0s 7ms/step - loss: 3.9095 - mae: 3.9095\n",
      "Epoch 29/100\n",
      "1/1 [==============================] - 0s 8ms/step - loss: 3.8984 - mae: 3.8984\n",
      "Epoch 30/100\n",
      "1/1 [==============================] - 0s 7ms/step - loss: 3.9163 - mae: 3.9163\n",
      "Epoch 31/100\n",
      "1/1 [==============================] - 0s 5ms/step - loss: 3.8720 - mae: 3.8720\n",
      "Epoch 32/100\n",
      "1/1 [==============================] - 0s 6ms/step - loss: 3.9234 - mae: 3.9234\n",
      "Epoch 33/100\n",
      "1/1 [==============================] - 0s 6ms/step - loss: 3.8559 - mae: 3.8559\n",
      "Epoch 34/100\n",
      "1/1 [==============================] - 0s 6ms/step - loss: 3.9193 - mae: 3.9193\n",
      "Epoch 35/100\n",
      "1/1 [==============================] - 0s 7ms/step - loss: 3.8628 - mae: 3.8628\n",
      "Epoch 36/100\n",
      "1/1 [==============================] - 0s 7ms/step - loss: 3.9011 - mae: 3.9011\n",
      "Epoch 37/100\n",
      "1/1 [==============================] - 0s 6ms/step - loss: 3.8788 - mae: 3.8788\n",
      "Epoch 38/100\n",
      "1/1 [==============================] - 0s 7ms/step - loss: 3.8749 - mae: 3.8749\n",
      "Epoch 39/100\n",
      "1/1 [==============================] - 0s 8ms/step - loss: 3.8859 - mae: 3.8859\n",
      "Epoch 40/100\n",
      "1/1 [==============================] - 0s 8ms/step - loss: 3.8483 - mae: 3.8483\n",
      "Epoch 41/100\n",
      "1/1 [==============================] - 0s 8ms/step - loss: 3.8931 - mae: 3.8931\n",
      "Epoch 42/100\n",
      "1/1 [==============================] - 0s 8ms/step - loss: 3.8260 - mae: 3.8260\n",
      "Epoch 43/100\n",
      "1/1 [==============================] - 0s 8ms/step - loss: 3.8951 - mae: 3.8951\n",
      "Epoch 44/100\n",
      "1/1 [==============================] - 0s 6ms/step - loss: 3.8397 - mae: 3.8397\n",
      "Epoch 45/100\n",
      "1/1 [==============================] - 0s 7ms/step - loss: 3.8770 - mae: 3.8770\n",
      "Epoch 46/100\n",
      "1/1 [==============================] - 0s 7ms/step - loss: 3.8492 - mae: 3.8492\n",
      "Epoch 47/100\n",
      "1/1 [==============================] - 0s 5ms/step - loss: 3.8502 - mae: 3.8502\n",
      "Epoch 48/100\n",
      "1/1 [==============================] - 0s 5ms/step - loss: 3.8565 - mae: 3.8565\n",
      "Epoch 49/100\n",
      "1/1 [==============================] - 0s 6ms/step - loss: 3.8233 - mae: 3.8233\n",
      "Epoch 50/100\n",
      "1/1 [==============================] - 0s 6ms/step - loss: 3.8640 - mae: 3.8640\n",
      "Epoch 51/100\n",
      "1/1 [==============================] - 0s 5ms/step - loss: 3.7972 - mae: 3.7972\n",
      "Epoch 52/100\n",
      "1/1 [==============================] - 0s 5ms/step - loss: 3.8755 - mae: 3.8755\n",
      "Epoch 53/100\n",
      "1/1 [==============================] - 0s 6ms/step - loss: 3.8134 - mae: 3.8134\n",
      "Epoch 54/100\n",
      "1/1 [==============================] - 0s 5ms/step - loss: 3.8512 - mae: 3.8512\n",
      "Epoch 55/100\n",
      "1/1 [==============================] - 0s 5ms/step - loss: 3.8208 - mae: 3.8208\n",
      "Epoch 56/100\n",
      "1/1 [==============================] - 0s 6ms/step - loss: 3.8242 - mae: 3.8242\n",
      "Epoch 57/100\n",
      "1/1 [==============================] - 0s 5ms/step - loss: 3.8283 - mae: 3.8283\n",
      "Epoch 58/100\n",
      "1/1 [==============================] - 0s 6ms/step - loss: 3.7971 - mae: 3.7971\n",
      "Epoch 59/100\n",
      "1/1 [==============================] - 0s 5ms/step - loss: 3.8359 - mae: 3.8359\n",
      "Epoch 60/100\n",
      "1/1 [==============================] - 0s 6ms/step - loss: 3.7739 - mae: 3.7739\n",
      "Epoch 61/100\n",
      "1/1 [==============================] - 0s 6ms/step - loss: 3.8526 - mae: 3.8526\n",
      "Epoch 62/100\n",
      "1/1 [==============================] - 0s 5ms/step - loss: 3.7858 - mae: 3.7858\n",
      "Epoch 63/100\n",
      "1/1 [==============================] - 0s 5ms/step - loss: 3.8242 - mae: 3.8242\n",
      "Epoch 64/100\n",
      "1/1 [==============================] - 0s 5ms/step - loss: 3.7934 - mae: 3.7934\n",
      "Epoch 65/100\n",
      "1/1 [==============================] - 0s 7ms/step - loss: 3.7969 - mae: 3.7969\n",
      "Epoch 66/100\n",
      "1/1 [==============================] - 0s 6ms/step - loss: 3.8011 - mae: 3.8011\n",
      "Epoch 67/100\n",
      "1/1 [==============================] - 0s 6ms/step - loss: 3.7695 - mae: 3.7695\n",
      "Epoch 68/100\n",
      "1/1 [==============================] - 0s 6ms/step - loss: 3.8114 - mae: 3.8114\n",
      "Epoch 69/100\n",
      "1/1 [==============================] - 0s 6ms/step - loss: 3.7517 - mae: 3.7517\n",
      "Epoch 70/100\n",
      "1/1 [==============================] - 0s 6ms/step - loss: 3.8233 - mae: 3.8233\n",
      "Epoch 71/100\n",
      "1/1 [==============================] - 0s 7ms/step - loss: 3.7593 - mae: 3.7593\n",
      "Epoch 72/100\n",
      "1/1 [==============================] - 0s 7ms/step - loss: 3.7958 - mae: 3.7958\n",
      "Epoch 73/100\n",
      "1/1 [==============================] - 0s 6ms/step - loss: 3.7671 - mae: 3.7671\n",
      "Epoch 74/100\n",
      "1/1 [==============================] - 0s 6ms/step - loss: 3.7683 - mae: 3.7683\n",
      "Epoch 75/100\n",
      "1/1 [==============================] - 0s 5ms/step - loss: 3.7750 - mae: 3.7750\n",
      "Epoch 76/100\n",
      "1/1 [==============================] - 0s 5ms/step - loss: 3.7418 - mae: 3.7418\n",
      "Epoch 77/100\n",
      "1/1 [==============================] - 0s 4ms/step - loss: 3.7919 - mae: 3.7919\n",
      "Epoch 78/100\n",
      "1/1 [==============================] - 0s 5ms/step - loss: 3.7260 - mae: 3.7260\n",
      "Epoch 79/100\n",
      "1/1 [==============================] - 0s 5ms/step - loss: 3.7939 - mae: 3.7939\n",
      "Epoch 80/100\n",
      "1/1 [==============================] - 0s 5ms/step - loss: 3.7338 - mae: 3.7338\n",
      "Epoch 81/100\n",
      "1/1 [==============================] - 0s 6ms/step - loss: 3.7662 - mae: 3.7662\n",
      "Epoch 82/100\n",
      "1/1 [==============================] - 0s 5ms/step - loss: 3.7418 - mae: 3.7418\n",
      "Epoch 83/100\n",
      "1/1 [==============================] - 0s 6ms/step - loss: 3.7383 - mae: 3.7383\n",
      "Epoch 84/100\n",
      "1/1 [==============================] - 0s 5ms/step - loss: 3.7500 - mae: 3.7500\n",
      "Epoch 85/100\n",
      "1/1 [==============================] - 0s 6ms/step - loss: 3.7184 - mae: 3.7184\n",
      "Epoch 86/100\n",
      "1/1 [==============================] - 0s 4ms/step - loss: 3.7670 - mae: 3.7670\n",
      "Epoch 87/100\n",
      "1/1 [==============================] - 0s 5ms/step - loss: 3.7013 - mae: 3.7013\n",
      "Epoch 88/100\n",
      "1/1 [==============================] - 0s 5ms/step - loss: 3.7633 - mae: 3.7633\n",
      "Epoch 89/100\n",
      "1/1 [==============================] - 0s 5ms/step - loss: 3.7094 - mae: 3.7094\n",
      "Epoch 90/100\n",
      "1/1 [==============================] - 0s 5ms/step - loss: 3.7352 - mae: 3.7352\n",
      "Epoch 91/100\n",
      "1/1 [==============================] - 0s 5ms/step - loss: 3.7176 - mae: 3.7176\n",
      "Epoch 92/100\n",
      "1/1 [==============================] - 0s 5ms/step - loss: 3.7070 - mae: 3.7070\n",
      "Epoch 93/100\n",
      "1/1 [==============================] - 0s 5ms/step - loss: 3.7320 - mae: 3.7320\n",
      "Epoch 94/100\n",
      "1/1 [==============================] - 0s 5ms/step - loss: 3.6869 - mae: 3.6869\n",
      "Epoch 95/100\n",
      "1/1 [==============================] - 0s 5ms/step - loss: 3.7431 - mae: 3.7431\n",
      "Epoch 96/100\n",
      "1/1 [==============================] - 0s 5ms/step - loss: 3.6776 - mae: 3.6776\n",
      "Epoch 97/100\n",
      "1/1 [==============================] - 0s 5ms/step - loss: 3.7313 - mae: 3.7313\n",
      "Epoch 98/100\n",
      "1/1 [==============================] - 0s 7ms/step - loss: 3.6859 - mae: 3.6859\n",
      "Epoch 99/100\n",
      "1/1 [==============================] - 0s 7ms/step - loss: 3.7029 - mae: 3.7029\n",
      "Epoch 100/100\n",
      "1/1 [==============================] - 0s 7ms/step - loss: 3.6943 - mae: 3.6943\n"
     ]
    },
    {
     "data": {
      "text/plain": [
       "<keras.src.callbacks.History at 0x7f53f510e850>"
      ]
     },
     "execution_count": 13,
     "metadata": {},
     "output_type": "execute_result"
    }
   ],
   "source": [
    "# Let's see if we can make another change to improve the model\n",
    "\n",
    "# 1. Create the model (this time with an extra hidden layer with 100 hidden neurons)\n",
    "model = tf.keras.Sequential([\n",
    "    tf.keras.layers.Dense(100, activation='relu'),\n",
    "    tf.keras.layers.Dense(1)\n",
    "])\n",
    "\n",
    "# 2. Compile the model \n",
    "model.compile(loss='mae',\n",
    "              optimizer=tf.keras.optimizers.SGD(),\n",
    "              metrics=['mae'])\n",
    "\n",
    "# 3. Fit the model\n",
    "model.fit(tf.expand_dims(X, axis=-1), y, epochs=100)"
   ]
  },
  {
   "cell_type": "code",
   "execution_count": 14,
   "metadata": {},
   "outputs": [
    {
     "data": {
      "text/plain": [
       "(<tf.Tensor: shape=(8,), dtype=float64, numpy=array([-7., -4., -1.,  2.,  5.,  8., 11., 14.])>,\n",
       " <tf.Tensor: shape=(8,), dtype=float64, numpy=array([ 3.,  6.,  9., 12., 15., 18., 21., 24.])>)"
      ]
     },
     "execution_count": 14,
     "metadata": {},
     "output_type": "execute_result"
    }
   ],
   "source": [
    "# Let's remind ourselves of the data\n",
    "X, y"
   ]
  },
  {
   "cell_type": "code",
   "execution_count": 15,
   "metadata": {},
   "outputs": [
    {
     "name": "stdout",
     "output_type": "stream",
     "text": [
      "1/1 [==============================] - 0s 38ms/step\n"
     ]
    },
    {
     "data": {
      "text/plain": [
       "array([[31.630016]], dtype=float32)"
      ]
     },
     "execution_count": 15,
     "metadata": {},
     "output_type": "execute_result"
    }
   ],
   "source": [
    "model.predict([17.])"
   ]
  },
  {
   "cell_type": "code",
   "execution_count": 16,
   "metadata": {},
   "outputs": [
    {
     "name": "stdout",
     "output_type": "stream",
     "text": [
      "Epoch 1/100\n",
      "1/1 [==============================] - 0s 399ms/step - loss: 12.9089 - mae: 12.9089\n",
      "Epoch 2/100\n",
      "1/1 [==============================] - 0s 5ms/step - loss: 12.1964 - mae: 12.1964\n",
      "Epoch 3/100\n",
      "1/1 [==============================] - 0s 5ms/step - loss: 11.4830 - mae: 11.4830\n",
      "Epoch 4/100\n",
      "1/1 [==============================] - 0s 5ms/step - loss: 10.7667 - mae: 10.7667\n",
      "Epoch 5/100\n",
      "1/1 [==============================] - 0s 5ms/step - loss: 10.0454 - mae: 10.0454\n",
      "Epoch 6/100\n"
     ]
    },
    {
     "name": "stderr",
     "output_type": "stream",
     "text": [
      "2024-07-20 14:57:29.642872: I tensorflow/compiler/mlir/tensorflow/utils/dump_mlir_util.cc:269] disabling MLIR crash reproducer, set env var `MLIR_CRASH_REPRODUCER_DIRECTORY` to enable.\n"
     ]
    },
    {
     "name": "stdout",
     "output_type": "stream",
     "text": [
      "1/1 [==============================] - 0s 7ms/step - loss: 9.3174 - mae: 9.3174\n",
      "Epoch 7/100\n",
      "1/1 [==============================] - 0s 5ms/step - loss: 8.5803 - mae: 8.5803\n",
      "Epoch 8/100\n",
      "1/1 [==============================] - 0s 5ms/step - loss: 7.8313 - mae: 7.8313\n",
      "Epoch 9/100\n",
      "1/1 [==============================] - 0s 5ms/step - loss: 7.0675 - mae: 7.0675\n",
      "Epoch 10/100\n",
      "1/1 [==============================] - 0s 5ms/step - loss: 6.7983 - mae: 6.7983\n",
      "Epoch 11/100\n",
      "1/1 [==============================] - 0s 6ms/step - loss: 7.1333 - mae: 7.1333\n",
      "Epoch 12/100\n",
      "1/1 [==============================] - 0s 7ms/step - loss: 7.4166 - mae: 7.4166\n",
      "Epoch 13/100\n",
      "1/1 [==============================] - 0s 5ms/step - loss: 7.7471 - mae: 7.7471\n",
      "Epoch 14/100\n",
      "1/1 [==============================] - 0s 6ms/step - loss: 7.8332 - mae: 7.8332\n",
      "Epoch 15/100\n",
      "1/1 [==============================] - 0s 6ms/step - loss: 7.7213 - mae: 7.7213\n",
      "Epoch 16/100\n",
      "1/1 [==============================] - 0s 6ms/step - loss: 7.4619 - mae: 7.4619\n",
      "Epoch 17/100\n",
      "1/1 [==============================] - 0s 5ms/step - loss: 7.0921 - mae: 7.0921\n",
      "Epoch 18/100\n",
      "1/1 [==============================] - 0s 5ms/step - loss: 6.8078 - mae: 6.8078\n",
      "Epoch 19/100\n",
      "1/1 [==============================] - 0s 6ms/step - loss: 6.5139 - mae: 6.5139\n",
      "Epoch 20/100\n",
      "1/1 [==============================] - 0s 5ms/step - loss: 6.2115 - mae: 6.2115\n",
      "Epoch 21/100\n",
      "1/1 [==============================] - 0s 5ms/step - loss: 6.1340 - mae: 6.1340\n",
      "Epoch 22/100\n",
      "1/1 [==============================] - 0s 5ms/step - loss: 6.1272 - mae: 6.1272\n",
      "Epoch 23/100\n",
      "1/1 [==============================] - 0s 5ms/step - loss: 6.2619 - mae: 6.2619\n",
      "Epoch 24/100\n",
      "1/1 [==============================] - 0s 5ms/step - loss: 6.2927 - mae: 6.2927\n",
      "Epoch 25/100\n",
      "1/1 [==============================] - 0s 5ms/step - loss: 6.2335 - mae: 6.2335\n",
      "Epoch 26/100\n",
      "1/1 [==============================] - 0s 5ms/step - loss: 6.0945 - mae: 6.0945\n",
      "Epoch 27/100\n",
      "1/1 [==============================] - 0s 6ms/step - loss: 5.8835 - mae: 5.8835\n",
      "Epoch 28/100\n",
      "1/1 [==============================] - 0s 5ms/step - loss: 5.6254 - mae: 5.6254\n",
      "Epoch 29/100\n",
      "1/1 [==============================] - 0s 5ms/step - loss: 5.5243 - mae: 5.5243\n",
      "Epoch 30/100\n",
      "1/1 [==============================] - 0s 5ms/step - loss: 5.4202 - mae: 5.4202\n",
      "Epoch 31/100\n",
      "1/1 [==============================] - 0s 5ms/step - loss: 5.3380 - mae: 5.3380\n",
      "Epoch 32/100\n",
      "1/1 [==============================] - 0s 6ms/step - loss: 5.3183 - mae: 5.3183\n",
      "Epoch 33/100\n",
      "1/1 [==============================] - 0s 5ms/step - loss: 5.2564 - mae: 5.2564\n",
      "Epoch 34/100\n",
      "1/1 [==============================] - 0s 5ms/step - loss: 5.1553 - mae: 5.1553\n",
      "Epoch 35/100\n",
      "1/1 [==============================] - 0s 5ms/step - loss: 5.0181 - mae: 5.0181\n",
      "Epoch 36/100\n",
      "1/1 [==============================] - 0s 5ms/step - loss: 4.8475 - mae: 4.8475\n",
      "Epoch 37/100\n",
      "1/1 [==============================] - 0s 5ms/step - loss: 4.7328 - mae: 4.7328\n",
      "Epoch 38/100\n",
      "1/1 [==============================] - 0s 5ms/step - loss: 4.6348 - mae: 4.6348\n",
      "Epoch 39/100\n",
      "1/1 [==============================] - 0s 5ms/step - loss: 4.5297 - mae: 4.5297\n",
      "Epoch 40/100\n",
      "1/1 [==============================] - 0s 5ms/step - loss: 4.4268 - mae: 4.4268\n",
      "Epoch 41/100\n",
      "1/1 [==============================] - 0s 4ms/step - loss: 4.2917 - mae: 4.2917\n",
      "Epoch 42/100\n",
      "1/1 [==============================] - 0s 6ms/step - loss: 4.1456 - mae: 4.1456\n",
      "Epoch 43/100\n",
      "1/1 [==============================] - 0s 5ms/step - loss: 3.9955 - mae: 3.9955\n",
      "Epoch 44/100\n",
      "1/1 [==============================] - 0s 5ms/step - loss: 3.8385 - mae: 3.8385\n",
      "Epoch 45/100\n",
      "1/1 [==============================] - 0s 5ms/step - loss: 3.7293 - mae: 3.7293\n",
      "Epoch 46/100\n",
      "1/1 [==============================] - 0s 6ms/step - loss: 3.6058 - mae: 3.6058\n",
      "Epoch 47/100\n",
      "1/1 [==============================] - 0s 6ms/step - loss: 3.4305 - mae: 3.4305\n",
      "Epoch 48/100\n",
      "1/1 [==============================] - 0s 5ms/step - loss: 3.2058 - mae: 3.2058\n",
      "Epoch 49/100\n",
      "1/1 [==============================] - 0s 5ms/step - loss: 3.0368 - mae: 3.0368\n",
      "Epoch 50/100\n",
      "1/1 [==============================] - 0s 5ms/step - loss: 2.8681 - mae: 2.8681\n",
      "Epoch 51/100\n",
      "1/1 [==============================] - 0s 5ms/step - loss: 2.7999 - mae: 2.7999\n",
      "Epoch 52/100\n",
      "1/1 [==============================] - 0s 6ms/step - loss: 2.5848 - mae: 2.5848\n",
      "Epoch 53/100\n",
      "1/1 [==============================] - 0s 5ms/step - loss: 2.2652 - mae: 2.2652\n",
      "Epoch 54/100\n",
      "1/1 [==============================] - 0s 5ms/step - loss: 2.0335 - mae: 2.0335\n",
      "Epoch 55/100\n",
      "1/1 [==============================] - 0s 5ms/step - loss: 1.9119 - mae: 1.9119\n",
      "Epoch 56/100\n",
      "1/1 [==============================] - 0s 6ms/step - loss: 1.7239 - mae: 1.7239\n",
      "Epoch 57/100\n",
      "1/1 [==============================] - 0s 6ms/step - loss: 1.4651 - mae: 1.4651\n",
      "Epoch 58/100\n",
      "1/1 [==============================] - 0s 6ms/step - loss: 1.1390 - mae: 1.1390\n",
      "Epoch 59/100\n",
      "1/1 [==============================] - 0s 5ms/step - loss: 0.8647 - mae: 0.8647\n",
      "Epoch 60/100\n",
      "1/1 [==============================] - 0s 7ms/step - loss: 0.6434 - mae: 0.6434\n",
      "Epoch 61/100\n",
      "1/1 [==============================] - 0s 6ms/step - loss: 0.2790 - mae: 0.2790\n",
      "Epoch 62/100\n",
      "1/1 [==============================] - 0s 6ms/step - loss: 0.0623 - mae: 0.0623\n",
      "Epoch 63/100\n",
      "1/1 [==============================] - 0s 6ms/step - loss: 0.4837 - mae: 0.4837\n",
      "Epoch 64/100\n",
      "1/1 [==============================] - 0s 6ms/step - loss: 0.6170 - mae: 0.6170\n",
      "Epoch 65/100\n",
      "1/1 [==============================] - 0s 6ms/step - loss: 0.6550 - mae: 0.6550\n",
      "Epoch 66/100\n",
      "1/1 [==============================] - 0s 6ms/step - loss: 0.9197 - mae: 0.9197\n",
      "Epoch 67/100\n",
      "1/1 [==============================] - 0s 5ms/step - loss: 0.9546 - mae: 0.9546\n",
      "Epoch 68/100\n",
      "1/1 [==============================] - 0s 6ms/step - loss: 0.8132 - mae: 0.8132\n",
      "Epoch 69/100\n",
      "1/1 [==============================] - 0s 6ms/step - loss: 0.8500 - mae: 0.8500\n",
      "Epoch 70/100\n",
      "1/1 [==============================] - 0s 6ms/step - loss: 0.8600 - mae: 0.8600\n",
      "Epoch 71/100\n",
      "1/1 [==============================] - 0s 7ms/step - loss: 0.6654 - mae: 0.6654\n",
      "Epoch 72/100\n",
      "1/1 [==============================] - 0s 8ms/step - loss: 0.5585 - mae: 0.5585\n",
      "Epoch 73/100\n",
      "1/1 [==============================] - 0s 6ms/step - loss: 0.4439 - mae: 0.4439\n",
      "Epoch 74/100\n",
      "1/1 [==============================] - 0s 6ms/step - loss: 0.2230 - mae: 0.2230\n",
      "Epoch 75/100\n",
      "1/1 [==============================] - 0s 6ms/step - loss: 0.1295 - mae: 0.1295\n",
      "Epoch 76/100\n",
      "1/1 [==============================] - 0s 6ms/step - loss: 0.2438 - mae: 0.2438\n",
      "Epoch 77/100\n",
      "1/1 [==============================] - 0s 5ms/step - loss: 0.3008 - mae: 0.3008\n",
      "Epoch 78/100\n",
      "1/1 [==============================] - 0s 6ms/step - loss: 0.4030 - mae: 0.4030\n",
      "Epoch 79/100\n",
      "1/1 [==============================] - 0s 6ms/step - loss: 0.4670 - mae: 0.4670\n",
      "Epoch 80/100\n",
      "1/1 [==============================] - 0s 5ms/step - loss: 0.3882 - mae: 0.3882\n",
      "Epoch 81/100\n",
      "1/1 [==============================] - 0s 5ms/step - loss: 0.4424 - mae: 0.4424\n",
      "Epoch 82/100\n",
      "1/1 [==============================] - 0s 5ms/step - loss: 0.3696 - mae: 0.3696\n",
      "Epoch 83/100\n",
      "1/1 [==============================] - 0s 5ms/step - loss: 0.3306 - mae: 0.3306\n",
      "Epoch 84/100\n",
      "1/1 [==============================] - 0s 5ms/step - loss: 0.2705 - mae: 0.2705\n",
      "Epoch 85/100\n",
      "1/1 [==============================] - 0s 6ms/step - loss: 0.0677 - mae: 0.0677\n",
      "Epoch 86/100\n",
      "1/1 [==============================] - 0s 6ms/step - loss: 0.0875 - mae: 0.0875\n",
      "Epoch 87/100\n",
      "1/1 [==============================] - 0s 5ms/step - loss: 0.2090 - mae: 0.2090\n",
      "Epoch 88/100\n",
      "1/1 [==============================] - 0s 7ms/step - loss: 0.2080 - mae: 0.2080\n",
      "Epoch 89/100\n",
      "1/1 [==============================] - 0s 6ms/step - loss: 0.2748 - mae: 0.2748\n",
      "Epoch 90/100\n",
      "1/1 [==============================] - 0s 7ms/step - loss: 0.2262 - mae: 0.2262\n",
      "Epoch 91/100\n",
      "1/1 [==============================] - 0s 6ms/step - loss: 0.2533 - mae: 0.2533\n",
      "Epoch 92/100\n",
      "1/1 [==============================] - 0s 8ms/step - loss: 0.1559 - mae: 0.1559\n",
      "Epoch 93/100\n",
      "1/1 [==============================] - 0s 7ms/step - loss: 0.2163 - mae: 0.2163\n",
      "Epoch 94/100\n",
      "1/1 [==============================] - 0s 6ms/step - loss: 0.2319 - mae: 0.2319\n",
      "Epoch 95/100\n",
      "1/1 [==============================] - 0s 5ms/step - loss: 0.1685 - mae: 0.1685\n",
      "Epoch 96/100\n",
      "1/1 [==============================] - 0s 4ms/step - loss: 0.2378 - mae: 0.2378\n",
      "Epoch 97/100\n",
      "1/1 [==============================] - 0s 6ms/step - loss: 0.1536 - mae: 0.1536\n",
      "Epoch 98/100\n",
      "1/1 [==============================] - 0s 5ms/step - loss: 0.2463 - mae: 0.2463\n",
      "Epoch 99/100\n",
      "1/1 [==============================] - 0s 5ms/step - loss: 0.1950 - mae: 0.1950\n",
      "Epoch 100/100\n",
      "1/1 [==============================] - 0s 5ms/step - loss: 0.1417 - mae: 0.1417\n"
     ]
    },
    {
     "data": {
      "text/plain": [
       "<keras.src.callbacks.History at 0x7f53edf0b1d0>"
      ]
     },
     "execution_count": 16,
     "metadata": {},
     "output_type": "execute_result"
    }
   ],
   "source": [
    "model = tf.keras.Sequential([\n",
    "    tf.keras.layers.Dense(50, activation=None),\n",
    "    tf.keras.layers.Dense(1)\n",
    "])\n",
    "\n",
    "model.compile(loss='mae',\n",
    "              optimizer=tf.keras.optimizers.Adam(learning_rate=.01),\n",
    "              metrics=['mae'])\n",
    "\n",
    "model.fit(tf.expand_dims(X, axis=-1), y, epochs=100)"
   ]
  },
  {
   "cell_type": "code",
   "execution_count": 17,
   "metadata": {},
   "outputs": [
    {
     "name": "stdout",
     "output_type": "stream",
     "text": [
      "1/1 [==============================] - 0s 39ms/step\n"
     ]
    },
    {
     "data": {
      "text/plain": [
       "array([[26.621065]], dtype=float32)"
      ]
     },
     "execution_count": 17,
     "metadata": {},
     "output_type": "execute_result"
    }
   ],
   "source": [
    "model.predict([17.0])"
   ]
  },
  {
   "cell_type": "markdown",
   "metadata": {},
   "source": [
    "### Evaluating a model\n",
    "\n",
    "```\n",
    "Build a model -> fit it -> evaluate -> tweak a model -> fit it -> evaluate it -> tweak a model ..."
   ]
  },
  {
   "cell_type": "markdown",
   "metadata": {},
   "source": [
    "When it comes to evaluation... there are 3 words you should memorize:\n",
    "\n",
    "> \"visualize, visualize, visualize\"\n",
    "\n",
    "It's a good idea to visualize:\n",
    "* The data - what data are we working with? What does it look like?\n",
    "* The training of a model - how does a model perform while it learns?\n",
    "* The predictions of the model - how do the predictions of a model line up against the ground truth (the original labels)?"
   ]
  },
  {
   "cell_type": "code",
   "execution_count": 18,
   "metadata": {},
   "outputs": [
    {
     "data": {
      "text/plain": [
       "<tf.Tensor: shape=(50,), dtype=int32, numpy=\n",
       "array([-100,  -96,  -92,  -88,  -84,  -80,  -76,  -72,  -68,  -64,  -60,\n",
       "        -56,  -52,  -48,  -44,  -40,  -36,  -32,  -28,  -24,  -20,  -16,\n",
       "        -12,   -8,   -4,    0,    4,    8,   12,   16,   20,   24,   28,\n",
       "         32,   36,   40,   44,   48,   52,   56,   60,   64,   68,   72,\n",
       "         76,   80,   84,   88,   92,   96], dtype=int32)>"
      ]
     },
     "execution_count": 18,
     "metadata": {},
     "output_type": "execute_result"
    }
   ],
   "source": [
    "# Make a bigger dataset\n",
    "X = tf.range(-100, 100, 4)\n",
    "X"
   ]
  },
  {
   "cell_type": "code",
   "execution_count": 19,
   "metadata": {},
   "outputs": [
    {
     "data": {
      "text/plain": [
       "<tf.Tensor: shape=(50,), dtype=int32, numpy=\n",
       "array([-90, -86, -82, -78, -74, -70, -66, -62, -58, -54, -50, -46, -42,\n",
       "       -38, -34, -30, -26, -22, -18, -14, -10,  -6,  -2,   2,   6,  10,\n",
       "        14,  18,  22,  26,  30,  34,  38,  42,  46,  50,  54,  58,  62,\n",
       "        66,  70,  74,  78,  82,  86,  90,  94,  98, 102, 106], dtype=int32)>"
      ]
     },
     "execution_count": 19,
     "metadata": {},
     "output_type": "execute_result"
    }
   ],
   "source": [
    "# Make labels for the dataset\n",
    "y = X + 10\n",
    "y"
   ]
  },
  {
   "cell_type": "code",
   "execution_count": 20,
   "metadata": {},
   "outputs": [
    {
     "data": {
      "text/plain": [
       "<matplotlib.collections.PathCollection at 0x7f53ea91c050>"
      ]
     },
     "execution_count": 20,
     "metadata": {},
     "output_type": "execute_result"
    },
    {
     "data": {
      "image/png": "[encoded data removed]",
      "text/plain": [
       "<Figure size 640x480 with 1 Axes>"
      ]
     },
     "metadata": {},
     "output_type": "display_data"
    }
   ],
   "source": [
    "# Visualize the data\n",
    "plt.scatter(X, y)"
   ]
  },
  {
   "cell_type": "markdown",
   "metadata": {},
   "source": [
    "### The 3 sets... \n",
    "\n",
    "* Training set - the model learns from this data, which is typically 70-80% of the total data you have available.\n",
    "* Validation set - the model tets tuned on this data, which is typically 10-15% f the data available.\n",
    "* Test set - the model gets evaluated on this data to test what it has learned, this set is typically 10-15% of the total data available."
   ]
  },
  {
   "cell_type": "code",
   "execution_count": 21,
   "metadata": {},
   "outputs": [
    {
     "data": {
      "text/plain": [
       "50"
      ]
     },
     "execution_count": 21,
     "metadata": {},
     "output_type": "execute_result"
    }
   ],
   "source": [
    "# Check the length of how many samples we have\n",
    "len(X)"
   ]
  },
  {
   "cell_type": "code",
   "execution_count": 22,
   "metadata": {},
   "outputs": [
    {
     "data": {
      "text/plain": [
       "(40, 10, 40, 10)"
      ]
     },
     "execution_count": 22,
     "metadata": {},
     "output_type": "execute_result"
    }
   ],
   "source": [
    "# Split the data into train and test sets\n",
    "X_train = X[:40]\n",
    "y_train = y[:40]\n",
    "\n",
    "X_test = X[40:]\n",
    "y_test = y[40:]\n",
    "\n",
    "len(X_train), len(X_test), len(y_train), len(y_test)"
   ]
  },
  {
   "cell_type": "markdown",
   "metadata": {},
   "source": [
    "### Visualizing the data\n",
    "\n",
    "Now we've got our data into training and test sets, lets visualize it."
   ]
  },
  {
   "cell_type": "code",
   "execution_count": 23,
   "metadata": {},
   "outputs": [
    {
     "data": {
      "text/plain": [
       "<matplotlib.collections.PathCollection at 0x7f53ea9f32d0>"
      ]
     },
     "execution_count": 23,
     "metadata": {},
     "output_type": "execute_result"
    },
    {
     "data": {
      "image/png": "[encoded data removed]",
      "text/plain": [
       "<Figure size 1000x700 with 1 Axes>"
      ]
     },
     "metadata": {},
     "output_type": "display_data"
    }
   ],
   "source": [
    "plt.figure(figsize=(10, 7))\n",
    "# Plot training data in blue\n",
    "plt.scatter(X_train, y_train, c='b', label='Training data')\n",
    "# Plot the test data in green\n",
    "plt.scatter(X_test, y_test, c='g', label='Testing data')"
   ]
  },
  {
   "cell_type": "code",
   "execution_count": 24,
   "metadata": {},
   "outputs": [],
   "source": [
    "# Let's have a look at how to build a neural network for our data\n",
    "\n",
    "# 1. Create a model\n",
    "model = tf.keras.Sequential([\n",
    "    tf.keras.layers.Dense(1)\n",
    "])\n",
    "\n",
    "# 2. Compile the model\n",
    "model.compile(loss='mae', \n",
    "              optimizer=tf.keras.optimizers.SGD(),\n",
    "              metrics=['mae'])\n",
    "\n",
    "# 3. Fit the model\n",
    "# model.fit(tf.expand_dims(X_train, axis=-1), y, epochs=100)"
   ]
  },
  {
   "cell_type": "code",
   "execution_count": 25,
   "metadata": {},
   "outputs": [],
   "source": [
    "# Let's create a model which builds automatically by defining the input_shape argument int he first layer\n",
    "tf.random.set_seed(42)\n",
    "\n",
    "# 1. Create a model (same as above)\n",
    "model = tf.keras.Sequential([\n",
    "    tf.keras.layers.Dense(1, input_shape=[1]), \n",
    "    tf.keras.layers.Dense(100, activation='relu'), \n",
    "    tf.keras.layers.Dense(100, activation='relu'),\n",
    "    tf.keras.layers.Dense(1)\n",
    "])\n",
    "\n",
    "# 2. Compile the model\n",
    "model.compile(loss='mae',\n",
    "              optimizer=tf.keras.optimizers.Adam(),\n",
    "              metrics=['mae'])\n"
   ]
  },
  {
   "cell_type": "code",
   "execution_count": 26,
   "metadata": {},
   "outputs": [
    {
     "name": "stdout",
     "output_type": "stream",
     "text": [
      "Model: \"sequential_5\"\n",
      "_________________________________________________________________\n",
      " Layer (type)                Output Shape              Param #   \n",
      "=================================================================\n",
      " dense_7 (Dense)             (None, 1)                 2         \n",
      "                                                                 \n",
      " dense_8 (Dense)             (None, 100)               200       \n",
      "                                                                 \n",
      " dense_9 (Dense)             (None, 100)               10100     \n",
      "                                                                 \n",
      " dense_10 (Dense)            (None, 1)                 101       \n",
      "                                                                 \n",
      "=================================================================\n",
      "Total params: 10403 (40.64 KB)\n",
      "Trainable params: 10403 (40.64 KB)\n",
      "Non-trainable params: 0 (0.00 Byte)\n",
      "_________________________________________________________________\n"
     ]
    }
   ],
   "source": [
    "model.summary()"
   ]
  },
  {
   "cell_type": "markdown",
   "metadata": {},
   "source": [
    "* Total params - total number of parameters in the model.\n",
    "* Trainable parameters - these are the parameters (patterns) the model can update as it trains.\n",
    "* Non-trainable params - these parameters aren't updated during training (this is typical when you bring in already learned patterns or parameters from other models during **transfer learning**)."
   ]
  },
  {
   "cell_type": "code",
   "execution_count": 27,
   "metadata": {},
   "outputs": [
    {
     "data": {
      "text/plain": [
       "<keras.src.callbacks.History at 0x7f53d8169710>"
      ]
     },
     "execution_count": 27,
     "metadata": {},
     "output_type": "execute_result"
    }
   ],
   "source": [
    "# Let's fit our model to the training data\n",
    "model.fit(tf.expand_dims(X_train, axis=-1), y_train, epochs=100, verbose=0)"
   ]
  },
  {
   "cell_type": "code",
   "execution_count": 28,
   "metadata": {},
   "outputs": [
    {
     "name": "stdout",
     "output_type": "stream",
     "text": [
      "Model: \"sequential_5\"\n",
      "_________________________________________________________________\n",
      " Layer (type)                Output Shape              Param #   \n",
      "=================================================================\n",
      " dense_7 (Dense)             (None, 1)                 2         \n",
      "                                                                 \n",
      " dense_8 (Dense)             (None, 100)               200       \n",
      "                                                                 \n",
      " dense_9 (Dense)             (None, 100)               10100     \n",
      "                                                                 \n",
      " dense_10 (Dense)            (None, 1)                 101       \n",
      "                                                                 \n",
      "=================================================================\n",
      "Total params: 10403 (40.64 KB)\n",
      "Trainable params: 10403 (40.64 KB)\n",
      "Non-trainable params: 0 (0.00 Byte)\n",
      "_________________________________________________________________\n"
     ]
    }
   ],
   "source": [
    "# Get a summary of our model\n",
    "model.summary()"
   ]
  },
  {
   "cell_type": "code",
   "execution_count": 29,
   "metadata": {},
   "outputs": [
    {
     "data": {
      "image/png": "[encoded data removed]",
      "text/plain": [
       "<IPython.core.display.Image object>"
      ]
     },
     "execution_count": 29,
     "metadata": {},
     "output_type": "execute_result"
    }
   ],
   "source": [
    "from tensorflow.keras.utils import plot_model\n",
    "\n",
    "plot_model(model=model, show_shapes=True)"
   ]
  },
  {
   "cell_type": "markdown",
   "metadata": {},
   "source": [
    "### Visualizing our model's predictions\n",
    "\n",
    "To visualize predictions, it's a good idea to plot them against the ground truth labels.\n",
    "\n",
    "Often you'll see this in the form of `y_test` or `y_true` vs. `y_pred` (ground truth vs. your model predictions)"
   ]
  },
  {
   "cell_type": "code",
   "execution_count": 30,
   "metadata": {},
   "outputs": [
    {
     "name": "stdout",
     "output_type": "stream",
     "text": [
      "WARNING:tensorflow:5 out of the last 5 calls to <function Model.make_predict_function.<locals>.predict_function at 0x7f53b81d53a0> triggered tf.function retracing. Tracing is expensive and the excessive number of tracings could be due to (1) creating @tf.function repeatedly in a loop, (2) passing tensors with different shapes, (3) passing Python objects instead of tensors. For (1), please define your @tf.function outside of the loop. For (2), @tf.function has reduce_retracing=True option that can avoid unnecessary retracing. For (3), please refer to https://www.tensorflow.org/guide/function#controlling_retracing and https://www.tensorflow.org/api_docs/python/tf/function for  more details.\n",
      "1/1 [==============================] - 0s 37ms/step\n"
     ]
    },
    {
     "data": {
      "text/plain": [
       "array([[ 72.493576],\n",
       "       [ 77.210335],\n",
       "       [ 81.92709 ],\n",
       "       [ 86.64386 ],\n",
       "       [ 91.36061 ],\n",
       "       [ 96.07737 ],\n",
       "       [100.79414 ],\n",
       "       [105.510895],\n",
       "       [110.22765 ],\n",
       "       [114.94441 ]], dtype=float32)"
      ]
     },
     "execution_count": 30,
     "metadata": {},
     "output_type": "execute_result"
    }
   ],
   "source": [
    "# Make some predictions\n",
    "y_pred = model.predict(X_test)\n",
    "y_pred"
   ]
  },
  {
   "cell_type": "code",
   "execution_count": 31,
   "metadata": {},
   "outputs": [
    {
     "data": {
      "text/plain": [
       "<tf.Tensor: shape=(10,), dtype=int32, numpy=array([ 70,  74,  78,  82,  86,  90,  94,  98, 102, 106], dtype=int32)>"
      ]
     },
     "execution_count": 31,
     "metadata": {},
     "output_type": "execute_result"
    }
   ],
   "source": [
    "y_test"
   ]
  },
  {
   "cell_type": "code",
   "execution_count": 32,
   "metadata": {},
   "outputs": [],
   "source": [
    "# Let's create a plotting function\n",
    "def plot_predictions(train_data=X_train, train_labels=y_train, test_data=X_test, test_labels=y_test, predictions=y_pred):\n",
    "    \"\"\"\n",
    "    Plots training data, and compares predictions to ground truth labels. \n",
    "    \"\"\"\n",
    "    \n",
    "    plt.figure(figsize=(10, 7))\n",
    "    # Plot trainnig data in blue\n",
    "    plt.scatter(train_data, train_labels, c='b', label='Training data')\n",
    "    # Plot testing data in green\n",
    "    plt.scatter(test_data, test_labels, c='g', label='Test data')\n",
    "    # Plot model's predictions in red\n",
    "    plt.scatter(test_data, predictions, c='r', label='Predictions')\n",
    "    # Show the legend\n",
    "    plt.legend()"
   ]
  },
  {
   "cell_type": "code",
   "execution_count": 33,
   "metadata": {},
   "outputs": [
    {
     "data": {
      "image/png": "[encoded data removed]",
      "text/plain": [
       "<Figure size 1000x700 with 1 Axes>"
      ]
     },
     "metadata": {},
     "output_type": "display_data"
    }
   ],
   "source": [
    "plot_predictions()"
   ]
  },
  {
   "cell_type": "markdown",
   "metadata": {},
   "source": [
    "### Evaluating our model's predictions with with regression evaluation metrics\n",
    "\n",
    "Depending on the problem that you're working on, there iwll be different evaluation metrics to evaluate your model's performance. \n",
    "\n",
    "Since we're working on a regression, two of the main metrics:\n",
    "* MAE - mean absolute error, \"one average, how wrong is each of my model's predictions?\"\n",
    "* MSE - mean squared error, \"square the average errors\""
   ]
  },
  {
   "cell_type": "code",
   "execution_count": 34,
   "metadata": {},
   "outputs": [
    {
     "name": "stdout",
     "output_type": "stream",
     "text": [
      "1/1 [==============================] - 0s 71ms/step - loss: 5.7190 - mae: 5.7190\n"
     ]
    },
    {
     "data": {
      "text/plain": [
       "[5.718995094299316, 5.718995094299316]"
      ]
     },
     "execution_count": 34,
     "metadata": {},
     "output_type": "execute_result"
    }
   ],
   "source": [
    "# Evaluate the model on the test set\n",
    "model.evaluate(X_test, y_test)"
   ]
  },
  {
   "cell_type": "code",
   "execution_count": 35,
   "metadata": {},
   "outputs": [
    {
     "data": {
      "text/plain": [
       "<tf.Tensor: shape=(10,), dtype=float32, numpy=\n",
       "array([16.005138, 12.873799, 10.829163, 10.      , 10.272122, 11.630948,\n",
       "       14.076487, 17.608715, 22.227654, 26.944412], dtype=float32)>"
      ]
     },
     "execution_count": 35,
     "metadata": {},
     "output_type": "execute_result"
    }
   ],
   "source": [
    "# Calculate the mean absolute error --- wrong shapes, not accurate\n",
    "tf.metrics.mean_absolute_error(y_test, y_pred)\n"
   ]
  },
  {
   "cell_type": "code",
   "execution_count": 36,
   "metadata": {},
   "outputs": [
    {
     "data": {
      "text/plain": [
       "<tf.Tensor: shape=(10,), dtype=float32, numpy=\n",
       "array([ 72.493576,  77.210335,  81.92709 ,  86.64386 ,  91.36061 ,\n",
       "        96.07737 , 100.79414 , 105.510895, 110.22765 , 114.94441 ],\n",
       "      dtype=float32)>"
      ]
     },
     "execution_count": 36,
     "metadata": {},
     "output_type": "execute_result"
    }
   ],
   "source": [
    "tf.squeeze(y_pred)"
   ]
  },
  {
   "cell_type": "code",
   "execution_count": 37,
   "metadata": {},
   "outputs": [
    {
     "data": {
      "text/plain": [
       "<tf.Tensor: shape=(), dtype=float32, numpy=5.718995>"
      ]
     },
     "execution_count": 37,
     "metadata": {},
     "output_type": "execute_result"
    }
   ],
   "source": [
    "# Calculate the correct mean absolute error\n",
    "mae = tf.metrics.mean_absolute_error(y_test, tf.squeeze(y_pred))\n",
    "mae"
   ]
  },
  {
   "cell_type": "code",
   "execution_count": 38,
   "metadata": {},
   "outputs": [
    {
     "data": {
      "text/plain": [
       "<tf.Tensor: shape=(), dtype=float32, numpy=36.945293>"
      ]
     },
     "execution_count": 38,
     "metadata": {},
     "output_type": "execute_result"
    }
   ],
   "source": [
    "# Calculate the mean squared error\n",
    "mse = tf.metrics.mean_squared_error(y_test, tf.squeeze(y_pred))\n",
    "mse"
   ]
  },
  {
   "cell_type": "code",
   "execution_count": 39,
   "metadata": {},
   "outputs": [],
   "source": [
    "# Make some function to reuse MAE and MSE\n",
    "def mae(y_true, y_pred):\n",
    "    return tf.metrics.mean_absolute_error(y_true, tf.squeeze(y_pred))\n",
    "\n",
    "def mse(y_true, y_pred):\n",
    "    return tf.metrics.mean_squared_error(y_true, tf.squeeze(y_pred))\n",
    "\n"
   ]
  },
  {
   "cell_type": "markdown",
   "metadata": {},
   "source": [
    "### Running experiments to improve our model\n",
    "\n",
    "How to improve model:\n",
    "1. Get more data - get more examples for your model to train on (more opportunities to learn patterns or relationships between features and labels). \n",
    "2. Make your model larger (using a more complex model) - this might come in the form of more layers or more hidden units in each layer.\n",
    "3. Train for longer - give your model more of a chance to find patterns in the data.\n",
    "\n",
    "Let's do 3 modelling experiments:\n",
    "\n",
    "1. `model_1` - same as the original model, 1 layer, trained for 100 epochs. \n",
    "2. `model_2` - 2 layers, trained for 100 epochs.\n",
    "3. `model_3` - 2 layers, trained for 500 epochs."
   ]
  },
  {
   "cell_type": "markdown",
   "metadata": {},
   "source": [
    "**Build model_1**"
   ]
  },
  {
   "cell_type": "code",
   "execution_count": 40,
   "metadata": {},
   "outputs": [
    {
     "name": "stdout",
     "output_type": "stream",
     "text": [
      "Epoch 1/100\n",
      "2/2 [==============================] - 0s 7ms/step - loss: 69.6135 - mae: 69.6135\n",
      "Epoch 2/100\n",
      "2/2 [==============================] - 0s 9ms/step - loss: 34.4102 - mae: 34.4102\n",
      "Epoch 3/100\n",
      "2/2 [==============================] - 0s 6ms/step - loss: 9.1098 - mae: 9.1098\n",
      "Epoch 4/100\n",
      "2/2 [==============================] - 0s 6ms/step - loss: 11.0927 - mae: 11.0927\n",
      "Epoch 5/100\n",
      "2/2 [==============================] - 0s 5ms/step - loss: 12.2684 - mae: 12.2684\n",
      "Epoch 6/100\n",
      "2/2 [==============================] - 0s 5ms/step - loss: 9.4942 - mae: 9.4942\n",
      "Epoch 7/100\n",
      "2/2 [==============================] - 0s 7ms/step - loss: 8.6264 - mae: 8.6264\n",
      "Epoch 8/100\n",
      "2/2 [==============================] - 0s 5ms/step - loss: 9.0670 - mae: 9.0670\n",
      "Epoch 9/100\n",
      "2/2 [==============================] - 0s 4ms/step - loss: 18.8564 - mae: 18.8564\n",
      "Epoch 10/100\n",
      "2/2 [==============================] - 0s 4ms/step - loss: 10.1860 - mae: 10.1860\n",
      "Epoch 11/100\n",
      "2/2 [==============================] - 0s 4ms/step - loss: 8.4375 - mae: 8.4375\n",
      "Epoch 12/100\n",
      "2/2 [==============================] - 0s 4ms/step - loss: 10.7251 - mae: 10.7251\n",
      "Epoch 13/100\n",
      "2/2 [==============================] - 0s 4ms/step - loss: 9.8339 - mae: 9.8339\n",
      "Epoch 14/100\n",
      "2/2 [==============================] - 0s 6ms/step - loss: 16.1191 - mae: 16.1191\n",
      "Epoch 15/100\n",
      "2/2 [==============================] - 0s 4ms/step - loss: 11.3453 - mae: 11.3453\n",
      "Epoch 16/100\n",
      "2/2 [==============================] - 0s 5ms/step - loss: 8.5802 - mae: 8.5802\n",
      "Epoch 17/100\n",
      "2/2 [==============================] - 0s 7ms/step - loss: 13.7082 - mae: 13.7082\n",
      "Epoch 18/100\n",
      "2/2 [==============================] - 0s 4ms/step - loss: 11.5497 - mae: 11.5497\n",
      "Epoch 19/100\n",
      "2/2 [==============================] - 0s 4ms/step - loss: 17.8478 - mae: 17.8478\n",
      "Epoch 20/100\n",
      "2/2 [==============================] - 0s 4ms/step - loss: 14.9830 - mae: 14.9830\n",
      "Epoch 21/100\n",
      "2/2 [==============================] - 0s 4ms/step - loss: 10.8657 - mae: 10.8657\n",
      "Epoch 22/100\n",
      "2/2 [==============================] - 0s 5ms/step - loss: 8.6178 - mae: 8.6178\n",
      "Epoch 23/100\n",
      "2/2 [==============================] - 0s 5ms/step - loss: 9.7251 - mae: 9.7251\n",
      "Epoch 24/100\n",
      "2/2 [==============================] - 0s 4ms/step - loss: 10.9772 - mae: 10.9772\n",
      "Epoch 25/100\n",
      "2/2 [==============================] - 0s 4ms/step - loss: 9.1809 - mae: 9.1809\n",
      "Epoch 26/100\n",
      "2/2 [==============================] - 0s 5ms/step - loss: 13.2150 - mae: 13.2150\n",
      "Epoch 27/100\n",
      "2/2 [==============================] - 0s 6ms/step - loss: 10.6864 - mae: 10.6864\n",
      "Epoch 28/100\n",
      "2/2 [==============================] - 0s 4ms/step - loss: 12.9087 - mae: 12.9087\n",
      "Epoch 29/100\n",
      "2/2 [==============================] - 0s 3ms/step - loss: 9.5290 - mae: 9.5290\n",
      "Epoch 30/100\n",
      "2/2 [==============================] - 0s 4ms/step - loss: 16.4333 - mae: 16.4333\n",
      "Epoch 31/100\n",
      "2/2 [==============================] - 0s 4ms/step - loss: 23.5727 - mae: 23.5727\n",
      "Epoch 32/100\n",
      "2/2 [==============================] - 0s 4ms/step - loss: 7.6262 - mae: 7.6262\n",
      "Epoch 33/100\n",
      "2/2 [==============================] - 0s 4ms/step - loss: 9.3223 - mae: 9.3223\n",
      "Epoch 34/100\n",
      "2/2 [==============================] - 0s 6ms/step - loss: 13.6889 - mae: 13.6889\n",
      "Epoch 35/100\n",
      "2/2 [==============================] - 0s 5ms/step - loss: 11.1760 - mae: 11.1760\n",
      "Epoch 36/100\n",
      "2/2 [==============================] - 0s 7ms/step - loss: 13.3984 - mae: 13.3984\n",
      "Epoch 37/100\n",
      "2/2 [==============================] - 0s 6ms/step - loss: 9.4675 - mae: 9.4675\n",
      "Epoch 38/100\n",
      "2/2 [==============================] - 0s 4ms/step - loss: 10.1192 - mae: 10.1192\n",
      "Epoch 39/100\n",
      "2/2 [==============================] - 0s 4ms/step - loss: 10.2281 - mae: 10.2281\n",
      "Epoch 40/100\n",
      "2/2 [==============================] - 0s 5ms/step - loss: 10.9724 - mae: 10.9724\n",
      "Epoch 41/100\n",
      "2/2 [==============================] - 0s 9ms/step - loss: 7.9494 - mae: 7.9494\n",
      "Epoch 42/100\n",
      "2/2 [==============================] - 0s 6ms/step - loss: 10.5971 - mae: 10.5971\n",
      "Epoch 43/100\n",
      "2/2 [==============================] - 0s 6ms/step - loss: 7.2293 - mae: 7.2293\n",
      "Epoch 44/100\n",
      "2/2 [==============================] - 0s 7ms/step - loss: 8.0114 - mae: 8.0114\n",
      "Epoch 45/100\n",
      "2/2 [==============================] - 0s 5ms/step - loss: 9.8043 - mae: 9.8043\n",
      "Epoch 46/100\n",
      "2/2 [==============================] - 0s 6ms/step - loss: 8.8791 - mae: 8.8791\n",
      "Epoch 47/100\n",
      "2/2 [==============================] - 0s 6ms/step - loss: 7.5929 - mae: 7.5929\n",
      "Epoch 48/100\n",
      "2/2 [==============================] - 0s 4ms/step - loss: 8.5975 - mae: 8.5975\n",
      "Epoch 49/100\n",
      "2/2 [==============================] - 0s 4ms/step - loss: 10.0088 - mae: 10.0088\n",
      "Epoch 50/100\n",
      "2/2 [==============================] - 0s 10ms/step - loss: 9.0498 - mae: 9.0498\n",
      "Epoch 51/100\n",
      "2/2 [==============================] - 0s 6ms/step - loss: 10.6773 - mae: 10.6773\n",
      "Epoch 52/100\n",
      "2/2 [==============================] - 0s 5ms/step - loss: 15.3192 - mae: 15.3192\n",
      "Epoch 53/100\n",
      "2/2 [==============================] - 0s 4ms/step - loss: 14.3366 - mae: 14.3366\n",
      "Epoch 54/100\n",
      "2/2 [==============================] - 0s 4ms/step - loss: 21.6372 - mae: 21.6372\n",
      "Epoch 55/100\n",
      "2/2 [==============================] - 0s 5ms/step - loss: 15.9871 - mae: 15.9871\n",
      "Epoch 56/100\n",
      "2/2 [==============================] - 0s 5ms/step - loss: 10.3117 - mae: 10.3117\n",
      "Epoch 57/100\n",
      "2/2 [==============================] - 0s 4ms/step - loss: 9.7788 - mae: 9.7788\n",
      "Epoch 58/100\n",
      "2/2 [==============================] - 0s 4ms/step - loss: 9.0661 - mae: 9.0661\n",
      "Epoch 59/100\n",
      "2/2 [==============================] - 0s 4ms/step - loss: 8.2683 - mae: 8.2683\n",
      "Epoch 60/100\n",
      "2/2 [==============================] - 0s 4ms/step - loss: 9.3685 - mae: 9.3685\n",
      "Epoch 61/100\n",
      "2/2 [==============================] - 0s 4ms/step - loss: 11.1734 - mae: 11.1734\n",
      "Epoch 62/100\n",
      "2/2 [==============================] - 0s 4ms/step - loss: 12.1012 - mae: 12.1012\n",
      "Epoch 63/100\n",
      "2/2 [==============================] - 0s 5ms/step - loss: 7.2851 - mae: 7.2851\n",
      "Epoch 64/100\n",
      "2/2 [==============================] - 0s 4ms/step - loss: 12.4345 - mae: 12.4345\n",
      "Epoch 65/100\n",
      "2/2 [==============================] - 0s 4ms/step - loss: 10.5093 - mae: 10.5093\n",
      "Epoch 66/100\n",
      "2/2 [==============================] - 0s 5ms/step - loss: 15.6330 - mae: 15.6330\n",
      "Epoch 67/100\n",
      "2/2 [==============================] - 0s 4ms/step - loss: 10.0344 - mae: 10.0344\n",
      "Epoch 68/100\n",
      "2/2 [==============================] - 0s 4ms/step - loss: 8.7419 - mae: 8.7419\n",
      "Epoch 69/100\n",
      "2/2 [==============================] - 0s 4ms/step - loss: 13.5113 - mae: 13.5113\n",
      "Epoch 70/100\n",
      "2/2 [==============================] - 0s 7ms/step - loss: 7.4870 - mae: 7.4870\n",
      "Epoch 71/100\n",
      "2/2 [==============================] - 0s 4ms/step - loss: 12.2362 - mae: 12.2362\n",
      "Epoch 72/100\n",
      "2/2 [==============================] - 0s 4ms/step - loss: 8.5547 - mae: 8.5547\n",
      "Epoch 73/100\n",
      "2/2 [==============================] - 0s 4ms/step - loss: 7.0575 - mae: 7.0575\n",
      "Epoch 74/100\n",
      "2/2 [==============================] - 0s 4ms/step - loss: 9.9552 - mae: 9.9552\n",
      "Epoch 75/100\n",
      "2/2 [==============================] - 0s 4ms/step - loss: 9.9486 - mae: 9.9486\n",
      "Epoch 76/100\n",
      "2/2 [==============================] - 0s 4ms/step - loss: 10.1164 - mae: 10.1164\n",
      "Epoch 77/100\n",
      "2/2 [==============================] - 0s 7ms/step - loss: 12.9563 - mae: 12.9563\n",
      "Epoch 78/100\n",
      "2/2 [==============================] - 0s 5ms/step - loss: 11.1684 - mae: 11.1684\n",
      "Epoch 79/100\n",
      "2/2 [==============================] - 0s 4ms/step - loss: 14.7235 - mae: 14.7235\n",
      "Epoch 80/100\n",
      "2/2 [==============================] - 0s 5ms/step - loss: 8.9372 - mae: 8.9372\n",
      "Epoch 81/100\n",
      "2/2 [==============================] - 0s 4ms/step - loss: 10.7778 - mae: 10.7778\n",
      "Epoch 82/100\n",
      "2/2 [==============================] - 0s 4ms/step - loss: 8.4126 - mae: 8.4126\n",
      "Epoch 83/100\n",
      "2/2 [==============================] - 0s 4ms/step - loss: 9.2350 - mae: 9.2350\n",
      "Epoch 84/100\n",
      "2/2 [==============================] - 0s 6ms/step - loss: 8.9572 - mae: 8.9572\n",
      "Epoch 85/100\n",
      "2/2 [==============================] - 0s 6ms/step - loss: 13.1949 - mae: 13.1949\n",
      "Epoch 86/100\n",
      "2/2 [==============================] - 0s 7ms/step - loss: 13.7233 - mae: 13.7233\n",
      "Epoch 87/100\n",
      "2/2 [==============================] - 0s 5ms/step - loss: 13.2080 - mae: 13.2080\n",
      "Epoch 88/100\n",
      "2/2 [==============================] - 0s 4ms/step - loss: 11.5360 - mae: 11.5360\n",
      "Epoch 89/100\n",
      "2/2 [==============================] - 0s 4ms/step - loss: 7.8230 - mae: 7.8230\n",
      "Epoch 90/100\n",
      "2/2 [==============================] - 0s 4ms/step - loss: 10.9519 - mae: 10.9519\n",
      "Epoch 91/100\n",
      "2/2 [==============================] - 0s 5ms/step - loss: 6.7669 - mae: 6.7669\n",
      "Epoch 92/100\n",
      "2/2 [==============================] - 0s 4ms/step - loss: 10.1448 - mae: 10.1448\n",
      "Epoch 93/100\n",
      "2/2 [==============================] - 0s 4ms/step - loss: 7.6201 - mae: 7.6201\n",
      "Epoch 94/100\n",
      "2/2 [==============================] - 0s 4ms/step - loss: 9.2530 - mae: 9.2530\n",
      "Epoch 95/100\n",
      "2/2 [==============================] - 0s 3ms/step - loss: 10.8393 - mae: 10.8393\n",
      "Epoch 96/100\n",
      "2/2 [==============================] - 0s 4ms/step - loss: 10.3156 - mae: 10.3156\n",
      "Epoch 97/100\n",
      "2/2 [==============================] - 0s 4ms/step - loss: 7.6906 - mae: 7.6906\n",
      "Epoch 98/100\n",
      "2/2 [==============================] - 0s 4ms/step - loss: 8.6273 - mae: 8.6273\n",
      "Epoch 99/100\n",
      "2/2 [==============================] - 0s 4ms/step - loss: 9.4056 - mae: 9.4056\n",
      "Epoch 100/100\n",
      "2/2 [==============================] - 0s 4ms/step - loss: 8.8525 - mae: 8.8525\n"
     ]
    },
    {
     "data": {
      "text/plain": [
       "<keras.src.callbacks.History at 0x7f5419b56a50>"
      ]
     },
     "execution_count": 40,
     "metadata": {},
     "output_type": "execute_result"
    }
   ],
   "source": [
    "# set random seed\n",
    "tf.random.set_seed(42)\n",
    "\n",
    "# 1. Create the model\n",
    "model_1 = tf.keras.Sequential([\n",
    "    tf.keras.layers.Dense(1)\n",
    "])\n",
    "\n",
    "# 2. Compile the model \n",
    "model_1.compile(loss=tf.keras.losses.mae,\n",
    "                optimizer=tf.keras.optimizers.SGD(),\n",
    "                metrics=['mae'])\n",
    "\n",
    "# 3. Fit the model \n",
    "model_1.fit(tf.expand_dims(X_train, axis=-1), y_train, epochs=100)\n",
    "\n"
   ]
  },
  {
   "cell_type": "code",
   "execution_count": 41,
   "metadata": {},
   "outputs": [
    {
     "name": "stdout",
     "output_type": "stream",
     "text": [
      "WARNING:tensorflow:6 out of the last 6 calls to <function Model.make_predict_function.<locals>.predict_function at 0x7f53b81d2200> triggered tf.function retracing. Tracing is expensive and the excessive number of tracings could be due to (1) creating @tf.function repeatedly in a loop, (2) passing tensors with different shapes, (3) passing Python objects instead of tensors. For (1), please define your @tf.function outside of the loop. For (2), @tf.function has reduce_retracing=True option that can avoid unnecessary retracing. For (3), please refer to https://www.tensorflow.org/guide/function#controlling_retracing and https://www.tensorflow.org/api_docs/python/tf/function for  more details.\n",
      "1/1 [==============================] - 0s 23ms/step\n"
     ]
    },
    {
     "data": {
      "image/png": "[encoded data removed]",
      "text/plain": [
       "<Figure size 1000x700 with 1 Axes>"
      ]
     },
     "metadata": {},
     "output_type": "display_data"
    }
   ],
   "source": [
    "# Make and plot predictions for model_1\n",
    "y_preds_1 = model_1.predict(X_test)\n",
    "plot_predictions(predictions=y_preds_1)"
   ]
  },
  {
   "cell_type": "code",
   "execution_count": 42,
   "metadata": {},
   "outputs": [
    {
     "data": {
      "text/plain": [
       "(<tf.Tensor: shape=(), dtype=float32, numpy=8.557459>,\n",
       " <tf.Tensor: shape=(), dtype=float32, numpy=79.70806>)"
      ]
     },
     "execution_count": 42,
     "metadata": {},
     "output_type": "execute_result"
    }
   ],
   "source": [
    "# Calculate model_1 evaluattion metrics\n",
    "mae_1 = mae(y_test, y_preds_1)\n",
    "mse_1 = mse(y_test, y_preds_1)\n",
    "mae_1, mse_1"
   ]
  },
  {
   "cell_type": "markdown",
   "metadata": {},
   "source": [
    "**Build `model_2`**\n",
    "\n",
    "* 2 dense layers, trained for 100 epochs"
   ]
  },
  {
   "cell_type": "code",
   "execution_count": 43,
   "metadata": {},
   "outputs": [
    {
     "name": "stdout",
     "output_type": "stream",
     "text": [
      "Epoch 1/100\n",
      "2/2 [==============================] - 0s 6ms/step - loss: 38.2729 - mse: 2032.0037\n",
      "Epoch 2/100\n",
      "2/2 [==============================] - 0s 6ms/step - loss: 29.9537 - mse: 1202.0747\n",
      "Epoch 3/100\n",
      "2/2 [==============================] - 0s 5ms/step - loss: 35.3591 - mse: 1865.1895\n",
      "Epoch 4/100\n",
      "2/2 [==============================] - 0s 4ms/step - loss: 25.9727 - mse: 978.9141\n",
      "Epoch 5/100\n",
      "2/2 [==============================] - 0s 4ms/step - loss: 14.2753 - mse: 250.3918\n",
      "Epoch 6/100\n",
      "2/2 [==============================] - 0s 5ms/step - loss: 11.4248 - mse: 147.8850\n",
      "Epoch 7/100\n",
      "2/2 [==============================] - 0s 4ms/step - loss: 12.4690 - mse: 203.9030\n",
      "Epoch 8/100\n",
      "2/2 [==============================] - 0s 4ms/step - loss: 10.9951 - mse: 144.5017\n",
      "Epoch 9/100\n",
      "2/2 [==============================] - 0s 4ms/step - loss: 39.1019 - mse: 2384.4185\n",
      "Epoch 10/100\n",
      "2/2 [==============================] - 0s 5ms/step - loss: 26.6712 - mse: 1000.0789\n",
      "Epoch 11/100\n",
      "2/2 [==============================] - 0s 4ms/step - loss: 11.7991 - mse: 219.1883\n",
      "Epoch 12/100\n",
      "2/2 [==============================] - 0s 4ms/step - loss: 23.5597 - mse: 786.8909\n",
      "Epoch 13/100\n",
      "2/2 [==============================] - 0s 4ms/step - loss: 21.2486 - mse: 644.4187\n",
      "Epoch 14/100\n",
      "2/2 [==============================] - 0s 4ms/step - loss: 23.7243 - mse: 863.6014\n",
      "Epoch 15/100\n",
      "2/2 [==============================] - 0s 5ms/step - loss: 15.7879 - mse: 339.3593\n",
      "Epoch 16/100\n",
      "2/2 [==============================] - 0s 4ms/step - loss: 10.4473 - mse: 125.0053\n",
      "Epoch 17/100\n",
      "2/2 [==============================] - 0s 5ms/step - loss: 19.7083 - mse: 528.7904\n",
      "Epoch 18/100\n",
      "2/2 [==============================] - 0s 4ms/step - loss: 13.3308 - mse: 278.4410\n",
      "Epoch 19/100\n",
      "2/2 [==============================] - 0s 4ms/step - loss: 16.3203 - mse: 427.4387\n",
      "Epoch 20/100\n",
      "2/2 [==============================] - 0s 4ms/step - loss: 8.2608 - mse: 93.6476\n",
      "Epoch 21/100\n",
      "2/2 [==============================] - 0s 3ms/step - loss: 14.4857 - mse: 290.3869\n",
      "Epoch 22/100\n",
      "2/2 [==============================] - 0s 4ms/step - loss: 12.9055 - mse: 247.4539\n",
      "Epoch 23/100\n",
      "2/2 [==============================] - 0s 4ms/step - loss: 15.5376 - mse: 316.2965\n",
      "Epoch 24/100\n",
      "2/2 [==============================] - 0s 4ms/step - loss: 15.3290 - mse: 317.9000\n",
      "Epoch 25/100\n",
      "2/2 [==============================] - 0s 4ms/step - loss: 14.3832 - mse: 273.5049\n",
      "Epoch 26/100\n",
      "2/2 [==============================] - 0s 4ms/step - loss: 19.4222 - mse: 572.2069\n",
      "Epoch 27/100\n",
      "2/2 [==============================] - 0s 4ms/step - loss: 11.4196 - mse: 165.9802\n",
      "Epoch 28/100\n",
      "2/2 [==============================] - 0s 4ms/step - loss: 28.8479 - mse: 1351.6267\n",
      "Epoch 29/100\n",
      "2/2 [==============================] - 0s 5ms/step - loss: 9.2554 - mse: 95.3176\n",
      "Epoch 30/100\n",
      "2/2 [==============================] - 0s 4ms/step - loss: 29.6339 - mse: 1585.0208\n",
      "Epoch 31/100\n",
      "2/2 [==============================] - 0s 4ms/step - loss: 53.7439 - mse: 5172.8013\n",
      "Epoch 32/100\n",
      "2/2 [==============================] - 0s 4ms/step - loss: 9.5287 - mse: 100.8544\n",
      "Epoch 33/100\n",
      "2/2 [==============================] - 0s 4ms/step - loss: 12.1123 - mse: 177.5140\n",
      "Epoch 34/100\n",
      "2/2 [==============================] - 0s 4ms/step - loss: 23.6606 - mse: 847.3517\n",
      "Epoch 35/100\n",
      "2/2 [==============================] - 0s 3ms/step - loss: 12.6630 - mse: 241.3216\n",
      "Epoch 36/100\n",
      "2/2 [==============================] - 0s 4ms/step - loss: 21.6199 - mse: 666.5382\n",
      "Epoch 37/100\n",
      "2/2 [==============================] - 0s 4ms/step - loss: 11.3100 - mse: 148.5687\n",
      "Epoch 38/100\n",
      "2/2 [==============================] - 0s 4ms/step - loss: 13.3398 - mse: 262.8718\n",
      "Epoch 39/100\n",
      "2/2 [==============================] - 0s 4ms/step - loss: 10.7327 - mse: 136.1184\n",
      "Epoch 40/100\n",
      "2/2 [==============================] - 0s 4ms/step - loss: 16.1339 - mse: 375.7848\n",
      "Epoch 41/100\n",
      "2/2 [==============================] - 0s 4ms/step - loss: 12.1605 - mse: 187.7381\n",
      "Epoch 42/100\n",
      "2/2 [==============================] - 0s 4ms/step - loss: 10.2001 - mse: 115.1289\n",
      "Epoch 43/100\n",
      "2/2 [==============================] - 0s 4ms/step - loss: 9.8936 - mse: 107.0474\n",
      "Epoch 44/100\n",
      "2/2 [==============================] - 0s 5ms/step - loss: 31.4701 - mse: 1621.2188\n",
      "Epoch 45/100\n",
      "2/2 [==============================] - 0s 4ms/step - loss: 12.2518 - mse: 188.8987\n",
      "Epoch 46/100\n",
      "2/2 [==============================] - 0s 3ms/step - loss: 16.8965 - mse: 426.9001\n",
      "Epoch 47/100\n",
      "2/2 [==============================] - 0s 4ms/step - loss: 15.9843 - mse: 348.0959\n",
      "Epoch 48/100\n",
      "2/2 [==============================] - 0s 4ms/step - loss: 8.9136 - mse: 128.4586\n",
      "Epoch 49/100\n",
      "2/2 [==============================] - 0s 4ms/step - loss: 13.4399 - mse: 263.5831\n",
      "Epoch 50/100\n",
      "2/2 [==============================] - 0s 4ms/step - loss: 14.9855 - mse: 299.4659\n",
      "Epoch 51/100\n",
      "2/2 [==============================] - 0s 4ms/step - loss: 13.5559 - mse: 252.4678\n",
      "Epoch 52/100\n",
      "2/2 [==============================] - 0s 4ms/step - loss: 17.9944 - mse: 451.5882\n",
      "Epoch 53/100\n",
      "2/2 [==============================] - 0s 4ms/step - loss: 22.5087 - mse: 735.1146\n",
      "Epoch 54/100\n",
      "2/2 [==============================] - 0s 4ms/step - loss: 27.4422 - mse: 1168.0391\n",
      "Epoch 55/100\n",
      "2/2 [==============================] - 0s 4ms/step - loss: 27.1549 - mse: 1125.3640\n",
      "Epoch 56/100\n",
      "2/2 [==============================] - 0s 4ms/step - loss: 11.5795 - mse: 173.8309\n",
      "Epoch 57/100\n",
      "2/2 [==============================] - 0s 4ms/step - loss: 13.6788 - mse: 241.0616\n",
      "Epoch 58/100\n",
      "2/2 [==============================] - 0s 4ms/step - loss: 10.1293 - mse: 114.7538\n",
      "Epoch 59/100\n",
      "2/2 [==============================] - 0s 4ms/step - loss: 14.6234 - mse: 307.4593\n",
      "Epoch 60/100\n",
      "2/2 [==============================] - 0s 5ms/step - loss: 10.0713 - mse: 119.6791\n",
      "Epoch 61/100\n",
      "2/2 [==============================] - 0s 6ms/step - loss: 15.1341 - mse: 315.9878\n",
      "Epoch 62/100\n",
      "2/2 [==============================] - 0s 6ms/step - loss: 12.0353 - mse: 202.6771\n",
      "Epoch 63/100\n",
      "2/2 [==============================] - 0s 4ms/step - loss: 10.3523 - mse: 139.4940\n",
      "Epoch 64/100\n",
      "2/2 [==============================] - 0s 4ms/step - loss: 24.1398 - mse: 857.4771\n",
      "Epoch 65/100\n",
      "2/2 [==============================] - 0s 4ms/step - loss: 10.5311 - mse: 133.4303\n",
      "Epoch 66/100\n",
      "2/2 [==============================] - 0s 4ms/step - loss: 21.1547 - mse: 659.6627\n",
      "Epoch 67/100\n",
      "2/2 [==============================] - 0s 4ms/step - loss: 10.5215 - mse: 128.7683\n",
      "Epoch 68/100\n",
      "2/2 [==============================] - 0s 4ms/step - loss: 14.3333 - mse: 309.5362\n",
      "Epoch 69/100\n",
      "2/2 [==============================] - 0s 4ms/step - loss: 10.6046 - mse: 128.7221\n",
      "Epoch 70/100\n",
      "2/2 [==============================] - 0s 4ms/step - loss: 12.6860 - mse: 204.3054\n",
      "Epoch 71/100\n",
      "2/2 [==============================] - 0s 4ms/step - loss: 13.1114 - mse: 230.9458\n",
      "Epoch 72/100\n",
      "2/2 [==============================] - 0s 3ms/step - loss: 19.5577 - mse: 542.9482\n",
      "Epoch 73/100\n",
      "2/2 [==============================] - 0s 4ms/step - loss: 11.1902 - mse: 192.1881\n",
      "Epoch 74/100\n",
      "2/2 [==============================] - 0s 4ms/step - loss: 21.8148 - mse: 740.5587\n",
      "Epoch 75/100\n",
      "2/2 [==============================] - 0s 4ms/step - loss: 7.2193 - mse: 71.7306\n",
      "Epoch 76/100\n",
      "2/2 [==============================] - 0s 4ms/step - loss: 9.4385 - mse: 149.6989\n",
      "Epoch 77/100\n",
      "2/2 [==============================] - 0s 4ms/step - loss: 22.0940 - mse: 729.2502\n",
      "Epoch 78/100\n",
      "2/2 [==============================] - 0s 4ms/step - loss: 17.6162 - mse: 471.5766\n",
      "Epoch 79/100\n",
      "2/2 [==============================] - 0s 4ms/step - loss: 14.8124 - mse: 321.0841\n",
      "Epoch 80/100\n",
      "2/2 [==============================] - 0s 4ms/step - loss: 25.0705 - mse: 958.5934\n",
      "Epoch 81/100\n",
      "2/2 [==============================] - 0s 4ms/step - loss: 10.8908 - mse: 139.8923\n",
      "Epoch 82/100\n",
      "2/2 [==============================] - 0s 4ms/step - loss: 12.7794 - mse: 233.0130\n",
      "Epoch 83/100\n",
      "2/2 [==============================] - 0s 4ms/step - loss: 17.5642 - mse: 402.2623\n",
      "Epoch 84/100\n",
      "2/2 [==============================] - 0s 5ms/step - loss: 7.3055 - mse: 73.3969\n",
      "Epoch 85/100\n",
      "2/2 [==============================] - 0s 3ms/step - loss: 15.0774 - mse: 317.2191\n",
      "Epoch 86/100\n",
      "2/2 [==============================] - 0s 4ms/step - loss: 15.3779 - mse: 317.8650\n",
      "Epoch 87/100\n",
      "2/2 [==============================] - 0s 5ms/step - loss: 19.2855 - mse: 529.3334\n",
      "Epoch 88/100\n",
      "2/2 [==============================] - 0s 5ms/step - loss: 29.3661 - mse: 1245.3501\n",
      "Epoch 89/100\n",
      "2/2 [==============================] - 0s 4ms/step - loss: 10.1246 - mse: 124.3978\n",
      "Epoch 90/100\n",
      "2/2 [==============================] - 0s 5ms/step - loss: 21.1443 - mse: 640.1917\n",
      "Epoch 91/100\n",
      "2/2 [==============================] - 0s 4ms/step - loss: 10.4961 - mse: 163.7504\n",
      "Epoch 92/100\n",
      "2/2 [==============================] - 0s 4ms/step - loss: 18.0541 - mse: 446.0377\n",
      "Epoch 93/100\n",
      "2/2 [==============================] - 0s 4ms/step - loss: 6.5625 - mse: 61.2894\n",
      "Epoch 94/100\n",
      "2/2 [==============================] - 0s 4ms/step - loss: 11.1508 - mse: 154.0152\n",
      "Epoch 95/100\n",
      "2/2 [==============================] - 0s 4ms/step - loss: 24.4524 - mse: 897.3861\n",
      "Epoch 96/100\n",
      "2/2 [==============================] - 0s 4ms/step - loss: 10.7582 - mse: 172.4783\n",
      "Epoch 97/100\n",
      "2/2 [==============================] - 0s 4ms/step - loss: 15.4149 - mse: 360.2115\n",
      "Epoch 98/100\n",
      "2/2 [==============================] - 0s 4ms/step - loss: 8.2641 - mse: 110.8061\n",
      "Epoch 99/100\n",
      "2/2 [==============================] - 0s 4ms/step - loss: 16.5833 - mse: 386.0936\n",
      "Epoch 100/100\n",
      "2/2 [==============================] - 0s 4ms/step - loss: 14.3503 - mse: 297.5063\n"
     ]
    },
    {
     "data": {
      "text/plain": [
       "<keras.src.callbacks.History at 0x7f53983aded0>"
      ]
     },
     "execution_count": 43,
     "metadata": {},
     "output_type": "execute_result"
    }
   ],
   "source": [
    "# Set the random seed\n",
    "tf.random.set_seed(42)\n",
    "\n",
    "# 1. Create the model\n",
    "model_2 = tf.keras.Sequential([\n",
    "    tf.keras.layers.Dense(10), \n",
    "    tf.keras.layers.Dense(1)\n",
    "])\n",
    "\n",
    "# 2. Compile the model\n",
    "model_2.compile(loss=tf.keras.losses.mae,\n",
    "                optimizer=tf.keras.optimizers.SGD(),\n",
    "                metrics=['mse'])\n",
    "\n",
    "# 3. Fit the model\n",
    "model_2.fit(tf.expand_dims(X_train, axis=-1), y_train, epochs=100)"
   ]
  },
  {
   "cell_type": "code",
   "execution_count": 44,
   "metadata": {},
   "outputs": [
    {
     "name": "stdout",
     "output_type": "stream",
     "text": [
      "1/1 [==============================] - 0s 20ms/step\n"
     ]
    },
    {
     "data": {
      "image/png": "[encoded data removed]",
      "text/plain": [
       "<Figure size 1000x700 with 1 Axes>"
      ]
     },
     "metadata": {},
     "output_type": "display_data"
    }
   ],
   "source": [
    "# Make and plot predicitons\n",
    "y_preds_2 = model.predict(X_test)\n",
    "plot_predictions(predictions=y_preds_2)"
   ]
  },
  {
   "cell_type": "code",
   "execution_count": 45,
   "metadata": {},
   "outputs": [
    {
     "data": {
      "text/plain": [
       "(<tf.Tensor: shape=(), dtype=float32, numpy=5.718995>,\n",
       " <tf.Tensor: shape=(), dtype=float32, numpy=36.945293>)"
      ]
     },
     "execution_count": 45,
     "metadata": {},
     "output_type": "execute_result"
    }
   ],
   "source": [
    "# Calculate model_2 evaluation metrics \n",
    "mae_2 = mae(y_test, y_preds_2)\n",
    "mse_2 = mse(y_test, y_preds_2)\n",
    "mae_2, mse_2"
   ]
  },
  {
   "cell_type": "markdown",
   "metadata": {},
   "source": [
    "**Build `model_3`**"
   ]
  },
  {
   "cell_type": "code",
   "execution_count": 46,
   "metadata": {},
   "outputs": [
    {
     "name": "stdout",
     "output_type": "stream",
     "text": [
      "Epoch 1/500\n",
      "2/2 [==============================] - 0s 5ms/step - loss: 14.6873 - mae: 14.6873\n",
      "Epoch 2/500\n",
      "2/2 [==============================] - 0s 4ms/step - loss: 24.7708 - mae: 24.7708\n",
      "Epoch 3/500\n",
      "2/2 [==============================] - 0s 4ms/step - loss: 19.8951 - mae: 19.8951\n",
      "Epoch 4/500\n",
      "2/2 [==============================] - 0s 5ms/step - loss: 14.3717 - mae: 14.3717\n",
      "Epoch 5/500\n",
      "2/2 [==============================] - 0s 4ms/step - loss: 16.5671 - mae: 16.5671\n",
      "Epoch 6/500\n",
      "2/2 [==============================] - 0s 4ms/step - loss: 11.2685 - mae: 11.2685\n",
      "Epoch 7/500\n",
      "2/2 [==============================] - 0s 3ms/step - loss: 12.3342 - mae: 12.3342\n",
      "Epoch 8/500\n",
      "2/2 [==============================] - 0s 5ms/step - loss: 10.9996 - mae: 10.9996\n",
      "Epoch 9/500\n",
      "2/2 [==============================] - 0s 4ms/step - loss: 39.0125 - mae: 39.0125\n",
      "Epoch 10/500\n",
      "2/2 [==============================] - 0s 5ms/step - loss: 26.5964 - mae: 26.5964\n",
      "Epoch 11/500\n",
      "2/2 [==============================] - 0s 4ms/step - loss: 11.8079 - mae: 11.8079\n",
      "Epoch 12/500\n",
      "2/2 [==============================] - 0s 4ms/step - loss: 23.6213 - mae: 23.6213\n",
      "Epoch 13/500\n",
      "2/2 [==============================] - 0s 5ms/step - loss: 21.2217 - mae: 21.2217\n",
      "Epoch 14/500\n",
      "2/2 [==============================] - 0s 5ms/step - loss: 23.6953 - mae: 23.6953\n",
      "Epoch 15/500\n",
      "2/2 [==============================] - 0s 4ms/step - loss: 15.7627 - mae: 15.7627\n",
      "Epoch 16/500\n",
      "2/2 [==============================] - 0s 3ms/step - loss: 10.4310 - mae: 10.4310\n",
      "Epoch 17/500\n",
      "2/2 [==============================] - 0s 4ms/step - loss: 19.6865 - mae: 19.6865\n",
      "Epoch 18/500\n",
      "2/2 [==============================] - 0s 4ms/step - loss: 13.3175 - mae: 13.3175\n",
      "Epoch 19/500\n",
      "2/2 [==============================] - 0s 4ms/step - loss: 16.3068 - mae: 16.3068\n",
      "Epoch 20/500\n",
      "2/2 [==============================] - 0s 4ms/step - loss: 8.2506 - mae: 8.2506\n",
      "Epoch 21/500\n",
      "2/2 [==============================] - 0s 4ms/step - loss: 14.4814 - mae: 14.4814\n",
      "Epoch 22/500\n",
      "2/2 [==============================] - 0s 4ms/step - loss: 12.9038 - mae: 12.9038\n",
      "Epoch 23/500\n",
      "2/2 [==============================] - 0s 4ms/step - loss: 15.5312 - mae: 15.5312\n",
      "Epoch 24/500\n",
      "2/2 [==============================] - 0s 4ms/step - loss: 15.3233 - mae: 15.3233\n",
      "Epoch 25/500\n",
      "2/2 [==============================] - 0s 5ms/step - loss: 14.3745 - mae: 14.3745\n",
      "Epoch 26/500\n",
      "2/2 [==============================] - 0s 4ms/step - loss: 19.4143 - mae: 19.4143\n",
      "Epoch 27/500\n",
      "2/2 [==============================] - 0s 5ms/step - loss: 11.4109 - mae: 11.4109\n",
      "Epoch 28/500\n",
      "2/2 [==============================] - 0s 4ms/step - loss: 28.8708 - mae: 28.8708\n",
      "Epoch 29/500\n",
      "2/2 [==============================] - 0s 4ms/step - loss: 9.2448 - mae: 9.2448\n",
      "Epoch 30/500\n",
      "2/2 [==============================] - 0s 4ms/step - loss: 29.6568 - mae: 29.6568\n",
      "Epoch 31/500\n",
      "2/2 [==============================] - 0s 4ms/step - loss: 53.7868 - mae: 53.7868\n",
      "Epoch 32/500\n",
      "2/2 [==============================] - 0s 4ms/step - loss: 9.5226 - mae: 9.5226\n",
      "Epoch 33/500\n",
      "2/2 [==============================] - 0s 6ms/step - loss: 12.1077 - mae: 12.1077\n",
      "Epoch 34/500\n",
      "2/2 [==============================] - 0s 6ms/step - loss: 23.6934 - mae: 23.6934\n",
      "Epoch 35/500\n",
      "2/2 [==============================] - 0s 4ms/step - loss: 12.6488 - mae: 12.6488\n",
      "Epoch 36/500\n",
      "2/2 [==============================] - 0s 5ms/step - loss: 21.6031 - mae: 21.6031\n",
      "Epoch 37/500\n",
      "2/2 [==============================] - 0s 4ms/step - loss: 11.3117 - mae: 11.3117\n",
      "Epoch 38/500\n",
      "2/2 [==============================] - 0s 6ms/step - loss: 13.3555 - mae: 13.3555\n",
      "Epoch 39/500\n",
      "2/2 [==============================] - 0s 4ms/step - loss: 10.7337 - mae: 10.7337\n",
      "Epoch 40/500\n",
      "2/2 [==============================] - 0s 4ms/step - loss: 16.1650 - mae: 16.1650\n",
      "Epoch 41/500\n",
      "2/2 [==============================] - 0s 5ms/step - loss: 12.1711 - mae: 12.1711\n",
      "Epoch 42/500\n",
      "2/2 [==============================] - 0s 4ms/step - loss: 10.2072 - mae: 10.2072\n",
      "Epoch 43/500\n",
      "2/2 [==============================] - 0s 4ms/step - loss: 9.8890 - mae: 9.8890\n",
      "Epoch 44/500\n",
      "2/2 [==============================] - 0s 4ms/step - loss: 31.5560 - mae: 31.5560\n",
      "Epoch 45/500\n",
      "2/2 [==============================] - 0s 4ms/step - loss: 12.2636 - mae: 12.2636\n",
      "Epoch 46/500\n",
      "2/2 [==============================] - 0s 4ms/step - loss: 16.9633 - mae: 16.9633\n",
      "Epoch 47/500\n",
      "2/2 [==============================] - 0s 4ms/step - loss: 15.9529 - mae: 15.9529\n",
      "Epoch 48/500\n",
      "2/2 [==============================] - 0s 4ms/step - loss: 8.8866 - mae: 8.8866\n",
      "Epoch 49/500\n",
      "2/2 [==============================] - 0s 4ms/step - loss: 13.4103 - mae: 13.4103\n",
      "Epoch 50/500\n",
      "2/2 [==============================] - 0s 4ms/step - loss: 14.9572 - mae: 14.9572\n",
      "Epoch 51/500\n",
      "2/2 [==============================] - 0s 4ms/step - loss: 13.5313 - mae: 13.5313\n",
      "Epoch 52/500\n",
      "2/2 [==============================] - 0s 4ms/step - loss: 17.9725 - mae: 17.9725\n",
      "Epoch 53/500\n",
      "2/2 [==============================] - 0s 4ms/step - loss: 22.4683 - mae: 22.4683\n",
      "Epoch 54/500\n",
      "2/2 [==============================] - 0s 5ms/step - loss: 27.5389 - mae: 27.5389\n",
      "Epoch 55/500\n",
      "2/2 [==============================] - 0s 4ms/step - loss: 27.2621 - mae: 27.2621\n",
      "Epoch 56/500\n",
      "2/2 [==============================] - 0s 4ms/step - loss: 11.6005 - mae: 11.6005\n",
      "Epoch 57/500\n",
      "2/2 [==============================] - 0s 4ms/step - loss: 13.7135 - mae: 13.7135\n",
      "Epoch 58/500\n",
      "2/2 [==============================] - 0s 4ms/step - loss: 10.1454 - mae: 10.1454\n",
      "Epoch 59/500\n",
      "2/2 [==============================] - 0s 4ms/step - loss: 14.6874 - mae: 14.6874\n",
      "Epoch 60/500\n",
      "2/2 [==============================] - 0s 4ms/step - loss: 10.0884 - mae: 10.0884\n",
      "Epoch 61/500\n",
      "2/2 [==============================] - 0s 5ms/step - loss: 15.1944 - mae: 15.1944\n",
      "Epoch 62/500\n",
      "2/2 [==============================] - 0s 4ms/step - loss: 12.0680 - mae: 12.0680\n",
      "Epoch 63/500\n",
      "2/2 [==============================] - 0s 4ms/step - loss: 10.3667 - mae: 10.3667\n",
      "Epoch 64/500\n",
      "2/2 [==============================] - 0s 4ms/step - loss: 24.2637 - mae: 24.2637\n",
      "Epoch 65/500\n",
      "2/2 [==============================] - 0s 4ms/step - loss: 10.5474 - mae: 10.5474\n",
      "Epoch 66/500\n",
      "2/2 [==============================] - 0s 4ms/step - loss: 21.2671 - mae: 21.2671\n",
      "Epoch 67/500\n",
      "2/2 [==============================] - 0s 4ms/step - loss: 10.5474 - mae: 10.5474\n",
      "Epoch 68/500\n",
      "2/2 [==============================] - 0s 4ms/step - loss: 14.7054 - mae: 14.7054\n",
      "Epoch 69/500\n",
      "2/2 [==============================] - 0s 5ms/step - loss: 10.6819 - mae: 10.6819\n",
      "Epoch 70/500\n",
      "2/2 [==============================] - 0s 5ms/step - loss: 12.7739 - mae: 12.7739\n",
      "Epoch 71/500\n",
      "2/2 [==============================] - 0s 4ms/step - loss: 13.1995 - mae: 13.1995\n",
      "Epoch 72/500\n",
      "2/2 [==============================] - 0s 5ms/step - loss: 19.7725 - mae: 19.7725\n",
      "Epoch 73/500\n",
      "2/2 [==============================] - 0s 4ms/step - loss: 11.2410 - mae: 11.2410\n",
      "Epoch 74/500\n",
      "2/2 [==============================] - 0s 3ms/step - loss: 22.0702 - mae: 22.0702\n",
      "Epoch 75/500\n",
      "2/2 [==============================] - 0s 5ms/step - loss: 6.9421 - mae: 6.9421\n",
      "Epoch 76/500\n",
      "2/2 [==============================] - 0s 4ms/step - loss: 11.4339 - mae: 11.4339\n",
      "Epoch 77/500\n",
      "2/2 [==============================] - 0s 4ms/step - loss: 21.5941 - mae: 21.5941\n",
      "Epoch 78/500\n",
      "2/2 [==============================] - 0s 4ms/step - loss: 18.5794 - mae: 18.5794\n",
      "Epoch 79/500\n",
      "2/2 [==============================] - 0s 3ms/step - loss: 15.9113 - mae: 15.9113\n",
      "Epoch 80/500\n",
      "2/2 [==============================] - 0s 4ms/step - loss: 23.5202 - mae: 23.5202\n",
      "Epoch 81/500\n",
      "2/2 [==============================] - 0s 4ms/step - loss: 10.9437 - mae: 10.9437\n",
      "Epoch 82/500\n",
      "2/2 [==============================] - 0s 4ms/step - loss: 12.7438 - mae: 12.7438\n",
      "Epoch 83/500\n",
      "2/2 [==============================] - 0s 4ms/step - loss: 17.5157 - mae: 17.5157\n",
      "Epoch 84/500\n",
      "2/2 [==============================] - 0s 5ms/step - loss: 7.2955 - mae: 7.2955\n",
      "Epoch 85/500\n",
      "2/2 [==============================] - 0s 3ms/step - loss: 15.0406 - mae: 15.0406\n",
      "Epoch 86/500\n",
      "2/2 [==============================] - 0s 4ms/step - loss: 15.3485 - mae: 15.3485\n",
      "Epoch 87/500\n",
      "2/2 [==============================] - 0s 4ms/step - loss: 19.2271 - mae: 19.2271\n",
      "Epoch 88/500\n",
      "2/2 [==============================] - 0s 4ms/step - loss: 29.5177 - mae: 29.5177\n",
      "Epoch 89/500\n",
      "2/2 [==============================] - 0s 4ms/step - loss: 10.1455 - mae: 10.1455\n",
      "Epoch 90/500\n",
      "2/2 [==============================] - 0s 3ms/step - loss: 21.2683 - mae: 21.2683\n",
      "Epoch 91/500\n",
      "2/2 [==============================] - 0s 4ms/step - loss: 10.5247 - mae: 10.5247\n",
      "Epoch 92/500\n",
      "2/2 [==============================] - 0s 4ms/step - loss: 18.1651 - mae: 18.1651\n",
      "Epoch 93/500\n",
      "2/2 [==============================] - 0s 4ms/step - loss: 6.5536 - mae: 6.5536\n",
      "Epoch 94/500\n",
      "2/2 [==============================] - 0s 4ms/step - loss: 11.1811 - mae: 11.1811\n",
      "Epoch 95/500\n",
      "2/2 [==============================] - 0s 5ms/step - loss: 24.6005 - mae: 24.6005\n",
      "Epoch 96/500\n",
      "2/2 [==============================] - 0s 3ms/step - loss: 10.7906 - mae: 10.7906\n",
      "Epoch 97/500\n",
      "2/2 [==============================] - 0s 4ms/step - loss: 15.5120 - mae: 15.5120\n",
      "Epoch 98/500\n",
      "2/2 [==============================] - 0s 4ms/step - loss: 9.0577 - mae: 9.0577\n",
      "Epoch 99/500\n",
      "2/2 [==============================] - 0s 4ms/step - loss: 10.8744 - mae: 10.8744\n",
      "Epoch 100/500\n",
      "2/2 [==============================] - 0s 4ms/step - loss: 27.1082 - mae: 27.1082\n",
      "Epoch 101/500\n",
      "2/2 [==============================] - 0s 4ms/step - loss: 15.0744 - mae: 15.0744\n",
      "Epoch 102/500\n",
      "2/2 [==============================] - 0s 4ms/step - loss: 10.6463 - mae: 10.6463\n",
      "Epoch 103/500\n",
      "2/2 [==============================] - 0s 4ms/step - loss: 9.1334 - mae: 9.1334\n",
      "Epoch 104/500\n",
      "2/2 [==============================] - 0s 4ms/step - loss: 23.5400 - mae: 23.5400\n",
      "Epoch 105/500\n",
      "2/2 [==============================] - 0s 4ms/step - loss: 10.7472 - mae: 10.7472\n",
      "Epoch 106/500\n",
      "2/2 [==============================] - 0s 3ms/step - loss: 11.2095 - mae: 11.2095\n",
      "Epoch 107/500\n",
      "2/2 [==============================] - 0s 4ms/step - loss: 21.1001 - mae: 21.1001\n",
      "Epoch 108/500\n",
      "2/2 [==============================] - 0s 4ms/step - loss: 6.3221 - mae: 6.3221\n",
      "Epoch 109/500\n",
      "2/2 [==============================] - 0s 4ms/step - loss: 10.5295 - mae: 10.5295\n",
      "Epoch 110/500\n",
      "2/2 [==============================] - 0s 4ms/step - loss: 10.4841 - mae: 10.4841\n",
      "Epoch 111/500\n",
      "2/2 [==============================] - 0s 4ms/step - loss: 16.5966 - mae: 16.5966\n",
      "Epoch 112/500\n",
      "2/2 [==============================] - 0s 4ms/step - loss: 9.4796 - mae: 9.4796\n",
      "Epoch 113/500\n",
      "2/2 [==============================] - 0s 4ms/step - loss: 17.4755 - mae: 17.4755\n",
      "Epoch 114/500\n",
      "2/2 [==============================] - 0s 4ms/step - loss: 16.8446 - mae: 16.8446\n",
      "Epoch 115/500\n",
      "2/2 [==============================] - 0s 4ms/step - loss: 11.0098 - mae: 11.0098\n",
      "Epoch 116/500\n",
      "2/2 [==============================] - 0s 4ms/step - loss: 22.8601 - mae: 22.8601\n",
      "Epoch 117/500\n",
      "2/2 [==============================] - 0s 4ms/step - loss: 9.4820 - mae: 9.4820\n",
      "Epoch 118/500\n",
      "2/2 [==============================] - 0s 4ms/step - loss: 10.5331 - mae: 10.5331\n",
      "Epoch 119/500\n",
      "2/2 [==============================] - 0s 4ms/step - loss: 8.0210 - mae: 8.0210\n",
      "Epoch 120/500\n",
      "2/2 [==============================] - 0s 4ms/step - loss: 38.4724 - mae: 38.4724\n",
      "Epoch 121/500\n",
      "2/2 [==============================] - 0s 4ms/step - loss: 11.4217 - mae: 11.4217\n",
      "Epoch 122/500\n",
      "2/2 [==============================] - 0s 7ms/step - loss: 25.6573 - mae: 25.6573\n",
      "Epoch 123/500\n",
      "2/2 [==============================] - 0s 5ms/step - loss: 29.6273 - mae: 29.6273\n",
      "Epoch 124/500\n",
      "2/2 [==============================] - 0s 4ms/step - loss: 17.0298 - mae: 17.0298\n",
      "Epoch 125/500\n",
      "2/2 [==============================] - 0s 4ms/step - loss: 9.4668 - mae: 9.4668\n",
      "Epoch 126/500\n",
      "2/2 [==============================] - 0s 3ms/step - loss: 9.5507 - mae: 9.5507\n",
      "Epoch 127/500\n",
      "2/2 [==============================] - 0s 3ms/step - loss: 12.2680 - mae: 12.2680\n",
      "Epoch 128/500\n",
      "2/2 [==============================] - 0s 4ms/step - loss: 15.2765 - mae: 15.2765\n",
      "Epoch 129/500\n",
      "2/2 [==============================] - 0s 3ms/step - loss: 9.6326 - mae: 9.6326\n",
      "Epoch 130/500\n",
      "2/2 [==============================] - 0s 4ms/step - loss: 20.6853 - mae: 20.6853\n",
      "Epoch 131/500\n",
      "2/2 [==============================] - 0s 4ms/step - loss: 9.3328 - mae: 9.3328\n",
      "Epoch 132/500\n",
      "2/2 [==============================] - 0s 5ms/step - loss: 16.7454 - mae: 16.7454\n",
      "Epoch 133/500\n",
      "2/2 [==============================] - 0s 5ms/step - loss: 7.7021 - mae: 7.7021\n",
      "Epoch 134/500\n",
      "2/2 [==============================] - 0s 4ms/step - loss: 19.1161 - mae: 19.1161\n",
      "Epoch 135/500\n",
      "2/2 [==============================] - 0s 4ms/step - loss: 10.7453 - mae: 10.7453\n",
      "Epoch 136/500\n",
      "2/2 [==============================] - 0s 5ms/step - loss: 18.7067 - mae: 18.7067\n",
      "Epoch 137/500\n",
      "2/2 [==============================] - 0s 5ms/step - loss: 23.7727 - mae: 23.7727\n",
      "Epoch 138/500\n",
      "2/2 [==============================] - 0s 3ms/step - loss: 9.3914 - mae: 9.3914\n",
      "Epoch 139/500\n",
      "2/2 [==============================] - 0s 4ms/step - loss: 9.0838 - mae: 9.0838\n",
      "Epoch 140/500\n",
      "2/2 [==============================] - 0s 4ms/step - loss: 17.1662 - mae: 17.1662\n",
      "Epoch 141/500\n",
      "2/2 [==============================] - 0s 5ms/step - loss: 8.3413 - mae: 8.3413\n",
      "Epoch 142/500\n",
      "2/2 [==============================] - 0s 4ms/step - loss: 34.3518 - mae: 34.3518\n",
      "Epoch 143/500\n",
      "2/2 [==============================] - 0s 4ms/step - loss: 23.3531 - mae: 23.3531\n",
      "Epoch 144/500\n",
      "2/2 [==============================] - 0s 5ms/step - loss: 10.4698 - mae: 10.4698\n",
      "Epoch 145/500\n",
      "2/2 [==============================] - 0s 5ms/step - loss: 25.8249 - mae: 25.8249\n",
      "Epoch 146/500\n",
      "2/2 [==============================] - 0s 4ms/step - loss: 9.9517 - mae: 9.9517\n",
      "Epoch 147/500\n",
      "2/2 [==============================] - 0s 4ms/step - loss: 14.7092 - mae: 14.7092\n",
      "Epoch 148/500\n",
      "2/2 [==============================] - 0s 4ms/step - loss: 17.8173 - mae: 17.8173\n",
      "Epoch 149/500\n",
      "2/2 [==============================] - 0s 4ms/step - loss: 8.4604 - mae: 8.4604\n",
      "Epoch 150/500\n",
      "2/2 [==============================] - 0s 4ms/step - loss: 7.6156 - mae: 7.6156\n",
      "Epoch 151/500\n",
      "2/2 [==============================] - 0s 5ms/step - loss: 18.9059 - mae: 18.9059\n",
      "Epoch 152/500\n",
      "2/2 [==============================] - 0s 4ms/step - loss: 10.4678 - mae: 10.4678\n",
      "Epoch 153/500\n",
      "2/2 [==============================] - 0s 4ms/step - loss: 30.4866 - mae: 30.4866\n",
      "Epoch 154/500\n",
      "2/2 [==============================] - 0s 4ms/step - loss: 9.9631 - mae: 9.9631\n",
      "Epoch 155/500\n",
      "2/2 [==============================] - 0s 5ms/step - loss: 15.7152 - mae: 15.7152\n",
      "Epoch 156/500\n",
      "2/2 [==============================] - 0s 4ms/step - loss: 17.6004 - mae: 17.6004\n",
      "Epoch 157/500\n",
      "2/2 [==============================] - 0s 4ms/step - loss: 31.2907 - mae: 31.2907\n",
      "Epoch 158/500\n",
      "2/2 [==============================] - 0s 4ms/step - loss: 10.2529 - mae: 10.2529\n",
      "Epoch 159/500\n",
      "2/2 [==============================] - 0s 5ms/step - loss: 8.7029 - mae: 8.7029\n",
      "Epoch 160/500\n",
      "2/2 [==============================] - 0s 4ms/step - loss: 20.8812 - mae: 20.8812\n",
      "Epoch 161/500\n",
      "2/2 [==============================] - 0s 4ms/step - loss: 11.8628 - mae: 11.8628\n",
      "Epoch 162/500\n",
      "2/2 [==============================] - 0s 5ms/step - loss: 21.8716 - mae: 21.8716\n",
      "Epoch 163/500\n",
      "2/2 [==============================] - 0s 4ms/step - loss: 19.5360 - mae: 19.5360\n",
      "Epoch 164/500\n",
      "2/2 [==============================] - 0s 4ms/step - loss: 11.4277 - mae: 11.4277\n",
      "Epoch 165/500\n",
      "2/2 [==============================] - 0s 3ms/step - loss: 11.6060 - mae: 11.6060\n",
      "Epoch 166/500\n",
      "2/2 [==============================] - 0s 4ms/step - loss: 21.3458 - mae: 21.3458\n",
      "Epoch 167/500\n",
      "2/2 [==============================] - 0s 4ms/step - loss: 26.9097 - mae: 26.9097\n",
      "Epoch 168/500\n",
      "2/2 [==============================] - 0s 5ms/step - loss: 10.0083 - mae: 10.0083\n",
      "Epoch 169/500\n",
      "2/2 [==============================] - 0s 4ms/step - loss: 23.1587 - mae: 23.1587\n",
      "Epoch 170/500\n",
      "2/2 [==============================] - 0s 4ms/step - loss: 9.5873 - mae: 9.5873\n",
      "Epoch 171/500\n",
      "2/2 [==============================] - 0s 5ms/step - loss: 15.8490 - mae: 15.8490\n",
      "Epoch 172/500\n",
      "2/2 [==============================] - 0s 4ms/step - loss: 13.8833 - mae: 13.8833\n",
      "Epoch 173/500\n",
      "2/2 [==============================] - 0s 4ms/step - loss: 22.5713 - mae: 22.5713\n",
      "Epoch 174/500\n",
      "2/2 [==============================] - 0s 5ms/step - loss: 11.3626 - mae: 11.3626\n",
      "Epoch 175/500\n",
      "2/2 [==============================] - 0s 4ms/step - loss: 20.1144 - mae: 20.1144\n",
      "Epoch 176/500\n",
      "2/2 [==============================] - 0s 4ms/step - loss: 7.4193 - mae: 7.4193\n",
      "Epoch 177/500\n",
      "2/2 [==============================] - 0s 5ms/step - loss: 8.6053 - mae: 8.6053\n",
      "Epoch 178/500\n",
      "2/2 [==============================] - 0s 5ms/step - loss: 15.5135 - mae: 15.5135\n",
      "Epoch 179/500\n",
      "2/2 [==============================] - 0s 3ms/step - loss: 9.2827 - mae: 9.2827\n",
      "Epoch 180/500\n",
      "2/2 [==============================] - 0s 7ms/step - loss: 8.1385 - mae: 8.1385\n",
      "Epoch 181/500\n",
      "2/2 [==============================] - 0s 4ms/step - loss: 18.7548 - mae: 18.7548\n",
      "Epoch 182/500\n",
      "2/2 [==============================] - 0s 6ms/step - loss: 10.7944 - mae: 10.7944\n",
      "Epoch 183/500\n",
      "2/2 [==============================] - 0s 5ms/step - loss: 11.4908 - mae: 11.4908\n",
      "Epoch 184/500\n",
      "2/2 [==============================] - 0s 3ms/step - loss: 29.7321 - mae: 29.7321\n",
      "Epoch 185/500\n",
      "2/2 [==============================] - 0s 4ms/step - loss: 7.5453 - mae: 7.5453\n",
      "Epoch 186/500\n",
      "2/2 [==============================] - 0s 6ms/step - loss: 16.4056 - mae: 16.4056\n",
      "Epoch 187/500\n",
      "2/2 [==============================] - 0s 5ms/step - loss: 10.7335 - mae: 10.7335\n",
      "Epoch 188/500\n",
      "2/2 [==============================] - 0s 4ms/step - loss: 22.5561 - mae: 22.5561\n",
      "Epoch 189/500\n",
      "2/2 [==============================] - 0s 3ms/step - loss: 11.6509 - mae: 11.6509\n",
      "Epoch 190/500\n",
      "2/2 [==============================] - 0s 5ms/step - loss: 9.4204 - mae: 9.4204\n",
      "Epoch 191/500\n",
      "2/2 [==============================] - 0s 5ms/step - loss: 15.5626 - mae: 15.5626\n",
      "Epoch 192/500\n",
      "2/2 [==============================] - 0s 4ms/step - loss: 12.8589 - mae: 12.8589\n",
      "Epoch 193/500\n",
      "2/2 [==============================] - 0s 5ms/step - loss: 27.8340 - mae: 27.8340\n",
      "Epoch 194/500\n",
      "2/2 [==============================] - 0s 4ms/step - loss: 7.1000 - mae: 7.1000\n",
      "Epoch 195/500\n",
      "2/2 [==============================] - 0s 4ms/step - loss: 7.0467 - mae: 7.0467\n",
      "Epoch 196/500\n",
      "2/2 [==============================] - 0s 4ms/step - loss: 21.9624 - mae: 21.9624\n",
      "Epoch 197/500\n",
      "2/2 [==============================] - 0s 4ms/step - loss: 20.9511 - mae: 20.9511\n",
      "Epoch 198/500\n",
      "2/2 [==============================] - 0s 4ms/step - loss: 12.5322 - mae: 12.5322\n",
      "Epoch 199/500\n",
      "2/2 [==============================] - 0s 4ms/step - loss: 18.0032 - mae: 18.0032\n",
      "Epoch 200/500\n",
      "2/2 [==============================] - 0s 4ms/step - loss: 13.8359 - mae: 13.8359\n",
      "Epoch 201/500\n",
      "2/2 [==============================] - 0s 4ms/step - loss: 6.0263 - mae: 6.0263\n",
      "Epoch 202/500\n",
      "2/2 [==============================] - 0s 4ms/step - loss: 22.8626 - mae: 22.8626\n",
      "Epoch 203/500\n",
      "2/2 [==============================] - 0s 4ms/step - loss: 8.9432 - mae: 8.9432\n",
      "Epoch 204/500\n",
      "2/2 [==============================] - 0s 4ms/step - loss: 18.8432 - mae: 18.8432\n",
      "Epoch 205/500\n",
      "2/2 [==============================] - 0s 4ms/step - loss: 9.3520 - mae: 9.3520\n",
      "Epoch 206/500\n",
      "2/2 [==============================] - 0s 4ms/step - loss: 10.4206 - mae: 10.4206\n",
      "Epoch 207/500\n",
      "2/2 [==============================] - 0s 4ms/step - loss: 21.1360 - mae: 21.1360\n",
      "Epoch 208/500\n",
      "2/2 [==============================] - 0s 4ms/step - loss: 16.4869 - mae: 16.4869\n",
      "Epoch 209/500\n",
      "2/2 [==============================] - 0s 4ms/step - loss: 14.3937 - mae: 14.3937\n",
      "Epoch 210/500\n",
      "2/2 [==============================] - 0s 4ms/step - loss: 19.4151 - mae: 19.4151\n",
      "Epoch 211/500\n",
      "2/2 [==============================] - 0s 4ms/step - loss: 10.3053 - mae: 10.3053\n",
      "Epoch 212/500\n",
      "2/2 [==============================] - 0s 4ms/step - loss: 20.2171 - mae: 20.2171\n",
      "Epoch 213/500\n",
      "2/2 [==============================] - 0s 4ms/step - loss: 15.0470 - mae: 15.0470\n",
      "Epoch 214/500\n",
      "2/2 [==============================] - 0s 4ms/step - loss: 14.5932 - mae: 14.5932\n",
      "Epoch 215/500\n",
      "2/2 [==============================] - 0s 4ms/step - loss: 23.3107 - mae: 23.3107\n",
      "Epoch 216/500\n",
      "2/2 [==============================] - 0s 4ms/step - loss: 13.3465 - mae: 13.3465\n",
      "Epoch 217/500\n",
      "2/2 [==============================] - 0s 4ms/step - loss: 9.8440 - mae: 9.8440\n",
      "Epoch 218/500\n",
      "2/2 [==============================] - 0s 4ms/step - loss: 12.5578 - mae: 12.5578\n",
      "Epoch 219/500\n",
      "2/2 [==============================] - 0s 4ms/step - loss: 4.9517 - mae: 4.9517\n",
      "Epoch 220/500\n",
      "2/2 [==============================] - 0s 5ms/step - loss: 7.1188 - mae: 7.1188\n",
      "Epoch 221/500\n",
      "2/2 [==============================] - 0s 4ms/step - loss: 35.4222 - mae: 35.4222\n",
      "Epoch 222/500\n",
      "2/2 [==============================] - 0s 4ms/step - loss: 34.8207 - mae: 34.8207\n",
      "Epoch 223/500\n",
      "2/2 [==============================] - 0s 5ms/step - loss: 7.9919 - mae: 7.9919\n",
      "Epoch 224/500\n",
      "2/2 [==============================] - 0s 7ms/step - loss: 14.7092 - mae: 14.7092\n",
      "Epoch 225/500\n",
      "2/2 [==============================] - 0s 5ms/step - loss: 16.7299 - mae: 16.7299\n",
      "Epoch 226/500\n",
      "2/2 [==============================] - 0s 6ms/step - loss: 15.9423 - mae: 15.9423\n",
      "Epoch 227/500\n",
      "2/2 [==============================] - 0s 4ms/step - loss: 16.1762 - mae: 16.1762\n",
      "Epoch 228/500\n",
      "2/2 [==============================] - 0s 4ms/step - loss: 9.3299 - mae: 9.3299\n",
      "Epoch 229/500\n",
      "2/2 [==============================] - 0s 4ms/step - loss: 17.9957 - mae: 17.9957\n",
      "Epoch 230/500\n",
      "2/2 [==============================] - 0s 5ms/step - loss: 15.5710 - mae: 15.5710\n",
      "Epoch 231/500\n",
      "2/2 [==============================] - 0s 4ms/step - loss: 21.1187 - mae: 21.1187\n",
      "Epoch 232/500\n",
      "2/2 [==============================] - 0s 3ms/step - loss: 25.4804 - mae: 25.4804\n",
      "Epoch 233/500\n",
      "2/2 [==============================] - 0s 4ms/step - loss: 16.4784 - mae: 16.4784\n",
      "Epoch 234/500\n",
      "2/2 [==============================] - 0s 4ms/step - loss: 7.3146 - mae: 7.3146\n",
      "Epoch 235/500\n",
      "2/2 [==============================] - 0s 4ms/step - loss: 17.1300 - mae: 17.1300\n",
      "Epoch 236/500\n",
      "2/2 [==============================] - 0s 4ms/step - loss: 7.1809 - mae: 7.1809\n",
      "Epoch 237/500\n",
      "2/2 [==============================] - 0s 6ms/step - loss: 9.2863 - mae: 9.2863\n",
      "Epoch 238/500\n",
      "2/2 [==============================] - 0s 4ms/step - loss: 8.1412 - mae: 8.1412\n",
      "Epoch 239/500\n",
      "2/2 [==============================] - 0s 4ms/step - loss: 17.2155 - mae: 17.2155\n",
      "Epoch 240/500\n",
      "2/2 [==============================] - 0s 5ms/step - loss: 8.9286 - mae: 8.9286\n",
      "Epoch 241/500\n",
      "2/2 [==============================] - 0s 4ms/step - loss: 13.2899 - mae: 13.2899\n",
      "Epoch 242/500\n",
      "2/2 [==============================] - 0s 4ms/step - loss: 8.8380 - mae: 8.8380\n",
      "Epoch 243/500\n",
      "2/2 [==============================] - 0s 5ms/step - loss: 19.0953 - mae: 19.0953\n",
      "Epoch 244/500\n",
      "2/2 [==============================] - 0s 6ms/step - loss: 13.9440 - mae: 13.9440\n",
      "Epoch 245/500\n",
      "2/2 [==============================] - 0s 4ms/step - loss: 14.5865 - mae: 14.5865\n",
      "Epoch 246/500\n",
      "2/2 [==============================] - 0s 5ms/step - loss: 15.7193 - mae: 15.7193\n",
      "Epoch 247/500\n",
      "2/2 [==============================] - 0s 7ms/step - loss: 17.5681 - mae: 17.5681\n",
      "Epoch 248/500\n",
      "2/2 [==============================] - 0s 4ms/step - loss: 13.1314 - mae: 13.1314\n",
      "Epoch 249/500\n",
      "2/2 [==============================] - 0s 5ms/step - loss: 14.4458 - mae: 14.4458\n",
      "Epoch 250/500\n",
      "2/2 [==============================] - 0s 3ms/step - loss: 27.8675 - mae: 27.8675\n",
      "Epoch 251/500\n",
      "2/2 [==============================] - 0s 6ms/step - loss: 7.4953 - mae: 7.4953\n",
      "Epoch 252/500\n",
      "2/2 [==============================] - 0s 6ms/step - loss: 37.9822 - mae: 37.9822\n",
      "Epoch 253/500\n",
      "2/2 [==============================] - 0s 5ms/step - loss: 22.8265 - mae: 22.8265\n",
      "Epoch 254/500\n",
      "2/2 [==============================] - 0s 5ms/step - loss: 7.4221 - mae: 7.4221\n",
      "Epoch 255/500\n",
      "2/2 [==============================] - 0s 4ms/step - loss: 25.7205 - mae: 25.7205\n",
      "Epoch 256/500\n",
      "2/2 [==============================] - 0s 5ms/step - loss: 13.6696 - mae: 13.6696\n",
      "Epoch 257/500\n",
      "2/2 [==============================] - 0s 5ms/step - loss: 8.3128 - mae: 8.3128\n",
      "Epoch 258/500\n",
      "2/2 [==============================] - 0s 4ms/step - loss: 13.1781 - mae: 13.1781\n",
      "Epoch 259/500\n",
      "2/2 [==============================] - 0s 6ms/step - loss: 9.5074 - mae: 9.5074\n",
      "Epoch 260/500\n",
      "2/2 [==============================] - 0s 4ms/step - loss: 38.4202 - mae: 38.4202\n",
      "Epoch 261/500\n",
      "2/2 [==============================] - 0s 5ms/step - loss: 15.4929 - mae: 15.4929\n",
      "Epoch 262/500\n",
      "2/2 [==============================] - 0s 4ms/step - loss: 5.7740 - mae: 5.7740\n",
      "Epoch 263/500\n",
      "2/2 [==============================] - 0s 3ms/step - loss: 14.6001 - mae: 14.6001\n",
      "Epoch 264/500\n",
      "2/2 [==============================] - 0s 4ms/step - loss: 18.7580 - mae: 18.7580\n",
      "Epoch 265/500\n",
      "2/2 [==============================] - 0s 5ms/step - loss: 13.0649 - mae: 13.0649\n",
      "Epoch 266/500\n",
      "2/2 [==============================] - 0s 3ms/step - loss: 10.5375 - mae: 10.5375\n",
      "Epoch 267/500\n",
      "2/2 [==============================] - 0s 4ms/step - loss: 6.4777 - mae: 6.4777\n",
      "Epoch 268/500\n",
      "2/2 [==============================] - 0s 6ms/step - loss: 23.1135 - mae: 23.1135\n",
      "Epoch 269/500\n",
      "2/2 [==============================] - 0s 5ms/step - loss: 26.6713 - mae: 26.6713\n",
      "Epoch 270/500\n",
      "2/2 [==============================] - 0s 6ms/step - loss: 7.5460 - mae: 7.5460\n",
      "Epoch 271/500\n",
      "2/2 [==============================] - 0s 6ms/step - loss: 12.6599 - mae: 12.6599\n",
      "Epoch 272/500\n",
      "2/2 [==============================] - 0s 4ms/step - loss: 25.9361 - mae: 25.9361\n",
      "Epoch 273/500\n",
      "2/2 [==============================] - 0s 4ms/step - loss: 12.8099 - mae: 12.8099\n",
      "Epoch 274/500\n",
      "2/2 [==============================] - 0s 7ms/step - loss: 13.9412 - mae: 13.9412\n",
      "Epoch 275/500\n",
      "2/2 [==============================] - 0s 4ms/step - loss: 29.7560 - mae: 29.7560\n",
      "Epoch 276/500\n",
      "2/2 [==============================] - 0s 5ms/step - loss: 9.5666 - mae: 9.5666\n",
      "Epoch 277/500\n",
      "2/2 [==============================] - 0s 7ms/step - loss: 29.9416 - mae: 29.9416\n",
      "Epoch 278/500\n",
      "2/2 [==============================] - 0s 5ms/step - loss: 10.4471 - mae: 10.4471\n",
      "Epoch 279/500\n",
      "2/2 [==============================] - 0s 4ms/step - loss: 15.9112 - mae: 15.9112\n",
      "Epoch 280/500\n",
      "2/2 [==============================] - 0s 6ms/step - loss: 20.8270 - mae: 20.8270\n",
      "Epoch 281/500\n",
      "2/2 [==============================] - 0s 4ms/step - loss: 18.7009 - mae: 18.7009\n",
      "Epoch 282/500\n",
      "2/2 [==============================] - 0s 4ms/step - loss: 7.0841 - mae: 7.0841\n",
      "Epoch 283/500\n",
      "2/2 [==============================] - 0s 6ms/step - loss: 8.2043 - mae: 8.2043\n",
      "Epoch 284/500\n",
      "2/2 [==============================] - 0s 5ms/step - loss: 25.2778 - mae: 25.2778\n",
      "Epoch 285/500\n",
      "2/2 [==============================] - 0s 4ms/step - loss: 13.9524 - mae: 13.9524\n",
      "Epoch 286/500\n",
      "2/2 [==============================] - 0s 4ms/step - loss: 6.8971 - mae: 6.8971\n",
      "Epoch 287/500\n",
      "2/2 [==============================] - 0s 4ms/step - loss: 24.4152 - mae: 24.4152\n",
      "Epoch 288/500\n",
      "2/2 [==============================] - 0s 4ms/step - loss: 20.5105 - mae: 20.5105\n",
      "Epoch 289/500\n",
      "2/2 [==============================] - 0s 4ms/step - loss: 11.8712 - mae: 11.8712\n",
      "Epoch 290/500\n",
      "2/2 [==============================] - 0s 7ms/step - loss: 16.4519 - mae: 16.4519\n",
      "Epoch 291/500\n",
      "2/2 [==============================] - 0s 4ms/step - loss: 16.6859 - mae: 16.6859\n",
      "Epoch 292/500\n",
      "2/2 [==============================] - 0s 4ms/step - loss: 8.7995 - mae: 8.7995\n",
      "Epoch 293/500\n",
      "2/2 [==============================] - 0s 4ms/step - loss: 15.6614 - mae: 15.6614\n",
      "Epoch 294/500\n",
      "2/2 [==============================] - 0s 5ms/step - loss: 23.5100 - mae: 23.5100\n",
      "Epoch 295/500\n",
      "2/2 [==============================] - 0s 4ms/step - loss: 16.1711 - mae: 16.1711\n",
      "Epoch 296/500\n",
      "2/2 [==============================] - 0s 4ms/step - loss: 4.9157 - mae: 4.9157\n",
      "Epoch 297/500\n",
      "2/2 [==============================] - 0s 9ms/step - loss: 11.0156 - mae: 11.0156\n",
      "Epoch 298/500\n",
      "2/2 [==============================] - 0s 4ms/step - loss: 23.3297 - mae: 23.3297\n",
      "Epoch 299/500\n",
      "2/2 [==============================] - 0s 4ms/step - loss: 17.3728 - mae: 17.3728\n",
      "Epoch 300/500\n",
      "2/2 [==============================] - 0s 7ms/step - loss: 6.9106 - mae: 6.9106\n",
      "Epoch 301/500\n",
      "2/2 [==============================] - 0s 5ms/step - loss: 24.7575 - mae: 24.7575\n",
      "Epoch 302/500\n",
      "2/2 [==============================] - 0s 5ms/step - loss: 8.2238 - mae: 8.2238\n",
      "Epoch 303/500\n",
      "2/2 [==============================] - 0s 6ms/step - loss: 21.1767 - mae: 21.1767\n",
      "Epoch 304/500\n",
      "2/2 [==============================] - 0s 5ms/step - loss: 13.7275 - mae: 13.7275\n",
      "Epoch 305/500\n",
      "2/2 [==============================] - 0s 4ms/step - loss: 7.0821 - mae: 7.0821\n",
      "Epoch 306/500\n",
      "2/2 [==============================] - 0s 7ms/step - loss: 19.3084 - mae: 19.3084\n",
      "Epoch 307/500\n",
      "2/2 [==============================] - 0s 5ms/step - loss: 8.9903 - mae: 8.9903\n",
      "Epoch 308/500\n",
      "2/2 [==============================] - 0s 4ms/step - loss: 20.5868 - mae: 20.5868\n",
      "Epoch 309/500\n",
      "2/2 [==============================] - 0s 4ms/step - loss: 13.5923 - mae: 13.5923\n",
      "Epoch 310/500\n",
      "2/2 [==============================] - 0s 6ms/step - loss: 6.6667 - mae: 6.6667\n",
      "Epoch 311/500\n",
      "2/2 [==============================] - 0s 4ms/step - loss: 13.6617 - mae: 13.6617\n",
      "Epoch 312/500\n",
      "2/2 [==============================] - 0s 5ms/step - loss: 30.0163 - mae: 30.0163\n",
      "Epoch 313/500\n",
      "2/2 [==============================] - 0s 5ms/step - loss: 7.5525 - mae: 7.5525\n",
      "Epoch 314/500\n",
      "2/2 [==============================] - 0s 6ms/step - loss: 9.9568 - mae: 9.9568\n",
      "Epoch 315/500\n",
      "2/2 [==============================] - 0s 4ms/step - loss: 23.8619 - mae: 23.8619\n",
      "Epoch 316/500\n",
      "2/2 [==============================] - 0s 4ms/step - loss: 16.2059 - mae: 16.2059\n",
      "Epoch 317/500\n",
      "2/2 [==============================] - 0s 4ms/step - loss: 20.7089 - mae: 20.7089\n",
      "Epoch 318/500\n",
      "2/2 [==============================] - 0s 4ms/step - loss: 8.7421 - mae: 8.7421\n",
      "Epoch 319/500\n",
      "2/2 [==============================] - 0s 6ms/step - loss: 15.3049 - mae: 15.3049\n",
      "Epoch 320/500\n",
      "2/2 [==============================] - 0s 4ms/step - loss: 8.3670 - mae: 8.3670\n",
      "Epoch 321/500\n",
      "2/2 [==============================] - 0s 3ms/step - loss: 14.7291 - mae: 14.7291\n",
      "Epoch 322/500\n",
      "2/2 [==============================] - 0s 5ms/step - loss: 12.7993 - mae: 12.7993\n",
      "Epoch 323/500\n",
      "2/2 [==============================] - 0s 4ms/step - loss: 19.0627 - mae: 19.0627\n",
      "Epoch 324/500\n",
      "2/2 [==============================] - 0s 3ms/step - loss: 17.0844 - mae: 17.0844\n",
      "Epoch 325/500\n",
      "2/2 [==============================] - 0s 3ms/step - loss: 9.2827 - mae: 9.2827\n",
      "Epoch 326/500\n",
      "2/2 [==============================] - 0s 5ms/step - loss: 19.8959 - mae: 19.8959\n",
      "Epoch 327/500\n",
      "2/2 [==============================] - 0s 3ms/step - loss: 28.1991 - mae: 28.1991\n",
      "Epoch 328/500\n",
      "2/2 [==============================] - 0s 4ms/step - loss: 11.6883 - mae: 11.6883\n",
      "Epoch 329/500\n",
      "2/2 [==============================] - 0s 4ms/step - loss: 16.3583 - mae: 16.3583\n",
      "Epoch 330/500\n",
      "2/2 [==============================] - 0s 5ms/step - loss: 7.3308 - mae: 7.3308\n",
      "Epoch 331/500\n",
      "2/2 [==============================] - 0s 4ms/step - loss: 22.6320 - mae: 22.6320\n",
      "Epoch 332/500\n",
      "2/2 [==============================] - 0s 3ms/step - loss: 13.3891 - mae: 13.3891\n",
      "Epoch 333/500\n",
      "2/2 [==============================] - 0s 6ms/step - loss: 10.2036 - mae: 10.2036\n",
      "Epoch 334/500\n",
      "2/2 [==============================] - 0s 4ms/step - loss: 6.6432 - mae: 6.6432\n",
      "Epoch 335/500\n",
      "2/2 [==============================] - 0s 4ms/step - loss: 6.2656 - mae: 6.2656\n",
      "Epoch 336/500\n",
      "2/2 [==============================] - 0s 5ms/step - loss: 34.6041 - mae: 34.6041\n",
      "Epoch 337/500\n",
      "2/2 [==============================] - 0s 5ms/step - loss: 27.0253 - mae: 27.0253\n",
      "Epoch 338/500\n",
      "2/2 [==============================] - 0s 5ms/step - loss: 14.0431 - mae: 14.0431\n",
      "Epoch 339/500\n",
      "2/2 [==============================] - 0s 4ms/step - loss: 11.5917 - mae: 11.5917\n",
      "Epoch 340/500\n",
      "2/2 [==============================] - 0s 3ms/step - loss: 8.8171 - mae: 8.8171\n",
      "Epoch 341/500\n",
      "2/2 [==============================] - 0s 5ms/step - loss: 23.4335 - mae: 23.4335\n",
      "Epoch 342/500\n",
      "2/2 [==============================] - 0s 5ms/step - loss: 13.9638 - mae: 13.9638\n",
      "Epoch 343/500\n",
      "2/2 [==============================] - 0s 6ms/step - loss: 14.8015 - mae: 14.8015\n",
      "Epoch 344/500\n",
      "2/2 [==============================] - 0s 5ms/step - loss: 13.3835 - mae: 13.3835\n",
      "Epoch 345/500\n",
      "2/2 [==============================] - 0s 4ms/step - loss: 31.0085 - mae: 31.0085\n",
      "Epoch 346/500\n",
      "2/2 [==============================] - 0s 4ms/step - loss: 10.6939 - mae: 10.6939\n",
      "Epoch 347/500\n",
      "2/2 [==============================] - 0s 5ms/step - loss: 25.7031 - mae: 25.7031\n",
      "Epoch 348/500\n",
      "2/2 [==============================] - 0s 7ms/step - loss: 12.9481 - mae: 12.9481\n",
      "Epoch 349/500\n",
      "2/2 [==============================] - 0s 7ms/step - loss: 13.1418 - mae: 13.1418\n",
      "Epoch 350/500\n",
      "2/2 [==============================] - 0s 4ms/step - loss: 15.4332 - mae: 15.4332\n",
      "Epoch 351/500\n",
      "2/2 [==============================] - 0s 4ms/step - loss: 32.9459 - mae: 32.9459\n",
      "Epoch 352/500\n",
      "2/2 [==============================] - 0s 7ms/step - loss: 14.1834 - mae: 14.1834\n",
      "Epoch 353/500\n",
      "2/2 [==============================] - 0s 4ms/step - loss: 15.9034 - mae: 15.9034\n",
      "Epoch 354/500\n",
      "2/2 [==============================] - 0s 5ms/step - loss: 19.0519 - mae: 19.0519\n",
      "Epoch 355/500\n",
      "2/2 [==============================] - 0s 3ms/step - loss: 34.2221 - mae: 34.2221\n",
      "Epoch 356/500\n",
      "2/2 [==============================] - 0s 4ms/step - loss: 8.2789 - mae: 8.2789\n",
      "Epoch 357/500\n",
      "2/2 [==============================] - 0s 4ms/step - loss: 21.7723 - mae: 21.7723\n",
      "Epoch 358/500\n",
      "2/2 [==============================] - 0s 4ms/step - loss: 19.9014 - mae: 19.9014\n",
      "Epoch 359/500\n",
      "2/2 [==============================] - 0s 5ms/step - loss: 11.0751 - mae: 11.0751\n",
      "Epoch 360/500\n",
      "2/2 [==============================] - 0s 6ms/step - loss: 20.3205 - mae: 20.3205\n",
      "Epoch 361/500\n",
      "2/2 [==============================] - 0s 4ms/step - loss: 10.9396 - mae: 10.9396\n",
      "Epoch 362/500\n",
      "2/2 [==============================] - 0s 4ms/step - loss: 6.8111 - mae: 6.8111\n",
      "Epoch 363/500\n",
      "2/2 [==============================] - 0s 4ms/step - loss: 23.8914 - mae: 23.8914\n",
      "Epoch 364/500\n",
      "2/2 [==============================] - 0s 5ms/step - loss: 29.6183 - mae: 29.6183\n",
      "Epoch 365/500\n",
      "2/2 [==============================] - 0s 7ms/step - loss: 8.3074 - mae: 8.3074\n",
      "Epoch 366/500\n",
      "2/2 [==============================] - 0s 4ms/step - loss: 6.0948 - mae: 6.0948\n",
      "Epoch 367/500\n",
      "2/2 [==============================] - 0s 4ms/step - loss: 34.7491 - mae: 34.7491\n",
      "Epoch 368/500\n",
      "2/2 [==============================] - 0s 4ms/step - loss: 7.3759 - mae: 7.3759\n",
      "Epoch 369/500\n",
      "2/2 [==============================] - 0s 4ms/step - loss: 9.1821 - mae: 9.1821\n",
      "Epoch 370/500\n",
      "2/2 [==============================] - 0s 4ms/step - loss: 10.8770 - mae: 10.8770\n",
      "Epoch 371/500\n",
      "2/2 [==============================] - 0s 4ms/step - loss: 8.9434 - mae: 8.9434\n",
      "Epoch 372/500\n",
      "2/2 [==============================] - 0s 6ms/step - loss: 7.7062 - mae: 7.7062\n",
      "Epoch 373/500\n",
      "2/2 [==============================] - 0s 4ms/step - loss: 25.0880 - mae: 25.0880\n",
      "Epoch 374/500\n",
      "2/2 [==============================] - 0s 4ms/step - loss: 13.1550 - mae: 13.1550\n",
      "Epoch 375/500\n",
      "2/2 [==============================] - 0s 5ms/step - loss: 11.8798 - mae: 11.8798\n",
      "Epoch 376/500\n",
      "2/2 [==============================] - 0s 4ms/step - loss: 14.1559 - mae: 14.1559\n",
      "Epoch 377/500\n",
      "2/2 [==============================] - 0s 4ms/step - loss: 15.7385 - mae: 15.7385\n",
      "Epoch 378/500\n",
      "2/2 [==============================] - 0s 4ms/step - loss: 17.0741 - mae: 17.0741\n",
      "Epoch 379/500\n",
      "2/2 [==============================] - 0s 5ms/step - loss: 19.3302 - mae: 19.3302\n",
      "Epoch 380/500\n",
      "2/2 [==============================] - 0s 4ms/step - loss: 15.6846 - mae: 15.6846\n",
      "Epoch 381/500\n",
      "2/2 [==============================] - 0s 4ms/step - loss: 11.4824 - mae: 11.4824\n",
      "Epoch 382/500\n",
      "2/2 [==============================] - 0s 6ms/step - loss: 16.3557 - mae: 16.3557\n",
      "Epoch 383/500\n",
      "2/2 [==============================] - 0s 5ms/step - loss: 22.1227 - mae: 22.1227\n",
      "Epoch 384/500\n",
      "2/2 [==============================] - 0s 4ms/step - loss: 7.7255 - mae: 7.7255\n",
      "Epoch 385/500\n",
      "2/2 [==============================] - 0s 5ms/step - loss: 10.6287 - mae: 10.6287\n",
      "Epoch 386/500\n",
      "2/2 [==============================] - 0s 5ms/step - loss: 19.1244 - mae: 19.1244\n",
      "Epoch 387/500\n",
      "2/2 [==============================] - 0s 4ms/step - loss: 26.4215 - mae: 26.4215\n",
      "Epoch 388/500\n",
      "2/2 [==============================] - 0s 7ms/step - loss: 10.0705 - mae: 10.0705\n",
      "Epoch 389/500\n",
      "2/2 [==============================] - 0s 5ms/step - loss: 5.1685 - mae: 5.1685\n",
      "Epoch 390/500\n",
      "2/2 [==============================] - 0s 4ms/step - loss: 18.7646 - mae: 18.7646\n",
      "Epoch 391/500\n",
      "2/2 [==============================] - 0s 4ms/step - loss: 9.3491 - mae: 9.3491\n",
      "Epoch 392/500\n",
      "2/2 [==============================] - 0s 4ms/step - loss: 14.4185 - mae: 14.4185\n",
      "Epoch 393/500\n",
      "2/2 [==============================] - 0s 5ms/step - loss: 15.4263 - mae: 15.4263\n",
      "Epoch 394/500\n",
      "2/2 [==============================] - 0s 4ms/step - loss: 14.7577 - mae: 14.7577\n",
      "Epoch 395/500\n",
      "2/2 [==============================] - 0s 4ms/step - loss: 24.9975 - mae: 24.9975\n",
      "Epoch 396/500\n",
      "2/2 [==============================] - 0s 4ms/step - loss: 19.0871 - mae: 19.0871\n",
      "Epoch 397/500\n",
      "2/2 [==============================] - 0s 4ms/step - loss: 11.5957 - mae: 11.5957\n",
      "Epoch 398/500\n",
      "2/2 [==============================] - 0s 7ms/step - loss: 19.2560 - mae: 19.2560\n",
      "Epoch 399/500\n",
      "2/2 [==============================] - 0s 4ms/step - loss: 25.8624 - mae: 25.8624\n",
      "Epoch 400/500\n",
      "2/2 [==============================] - 0s 4ms/step - loss: 15.5327 - mae: 15.5327\n",
      "Epoch 401/500\n",
      "2/2 [==============================] - 0s 4ms/step - loss: 14.6775 - mae: 14.6775\n",
      "Epoch 402/500\n",
      "2/2 [==============================] - 0s 4ms/step - loss: 24.3046 - mae: 24.3046\n",
      "Epoch 403/500\n",
      "2/2 [==============================] - 0s 4ms/step - loss: 16.2192 - mae: 16.2192\n",
      "Epoch 404/500\n",
      "2/2 [==============================] - 0s 4ms/step - loss: 10.4034 - mae: 10.4034\n",
      "Epoch 405/500\n",
      "2/2 [==============================] - 0s 6ms/step - loss: 6.3919 - mae: 6.3919\n",
      "Epoch 406/500\n",
      "2/2 [==============================] - 0s 5ms/step - loss: 17.6867 - mae: 17.6867\n",
      "Epoch 407/500\n",
      "2/2 [==============================] - 0s 4ms/step - loss: 11.0478 - mae: 11.0478\n",
      "Epoch 408/500\n",
      "2/2 [==============================] - 0s 4ms/step - loss: 21.1173 - mae: 21.1173\n",
      "Epoch 409/500\n",
      "2/2 [==============================] - 0s 4ms/step - loss: 30.1792 - mae: 30.1792\n",
      "Epoch 410/500\n",
      "2/2 [==============================] - 0s 4ms/step - loss: 9.8704 - mae: 9.8704\n",
      "Epoch 411/500\n",
      "2/2 [==============================] - 0s 3ms/step - loss: 14.7362 - mae: 14.7362\n",
      "Epoch 412/500\n",
      "2/2 [==============================] - 0s 6ms/step - loss: 21.4968 - mae: 21.4968\n",
      "Epoch 413/500\n",
      "2/2 [==============================] - 0s 4ms/step - loss: 13.2478 - mae: 13.2478\n",
      "Epoch 414/500\n",
      "2/2 [==============================] - 0s 4ms/step - loss: 8.2422 - mae: 8.2422\n",
      "Epoch 415/500\n",
      "2/2 [==============================] - 0s 5ms/step - loss: 11.6766 - mae: 11.6766\n",
      "Epoch 416/500\n",
      "2/2 [==============================] - 0s 7ms/step - loss: 25.5699 - mae: 25.5699\n",
      "Epoch 417/500\n",
      "2/2 [==============================] - 0s 4ms/step - loss: 15.8771 - mae: 15.8771\n",
      "Epoch 418/500\n",
      "2/2 [==============================] - 0s 5ms/step - loss: 12.5447 - mae: 12.5447\n",
      "Epoch 419/500\n",
      "2/2 [==============================] - 0s 5ms/step - loss: 15.7108 - mae: 15.7108\n",
      "Epoch 420/500\n",
      "2/2 [==============================] - 0s 4ms/step - loss: 24.3839 - mae: 24.3839\n",
      "Epoch 421/500\n",
      "2/2 [==============================] - 0s 5ms/step - loss: 18.3862 - mae: 18.3862\n",
      "Epoch 422/500\n",
      "2/2 [==============================] - 0s 6ms/step - loss: 8.6586 - mae: 8.6586\n",
      "Epoch 423/500\n",
      "2/2 [==============================] - 0s 5ms/step - loss: 24.5994 - mae: 24.5994\n",
      "Epoch 424/500\n",
      "2/2 [==============================] - 0s 5ms/step - loss: 16.9614 - mae: 16.9614\n",
      "Epoch 425/500\n",
      "2/2 [==============================] - 0s 4ms/step - loss: 7.3915 - mae: 7.3915\n",
      "Epoch 426/500\n",
      "2/2 [==============================] - 0s 5ms/step - loss: 21.1609 - mae: 21.1609\n",
      "Epoch 427/500\n",
      "2/2 [==============================] - 0s 4ms/step - loss: 6.5677 - mae: 6.5677\n",
      "Epoch 428/500\n",
      "2/2 [==============================] - 0s 4ms/step - loss: 13.5509 - mae: 13.5509\n",
      "Epoch 429/500\n",
      "2/2 [==============================] - 0s 3ms/step - loss: 11.5221 - mae: 11.5221\n",
      "Epoch 430/500\n",
      "2/2 [==============================] - 0s 5ms/step - loss: 10.3030 - mae: 10.3030\n",
      "Epoch 431/500\n",
      "2/2 [==============================] - 0s 4ms/step - loss: 11.5700 - mae: 11.5700\n",
      "Epoch 432/500\n",
      "2/2 [==============================] - 0s 4ms/step - loss: 10.0167 - mae: 10.0167\n",
      "Epoch 433/500\n",
      "2/2 [==============================] - 0s 4ms/step - loss: 3.6182 - mae: 3.6182\n",
      "Epoch 434/500\n",
      "2/2 [==============================] - 0s 4ms/step - loss: 37.1263 - mae: 37.1263\n",
      "Epoch 435/500\n",
      "2/2 [==============================] - 0s 4ms/step - loss: 14.0403 - mae: 14.0403\n",
      "Epoch 436/500\n",
      "2/2 [==============================] - 0s 4ms/step - loss: 12.2518 - mae: 12.2518\n",
      "Epoch 437/500\n",
      "2/2 [==============================] - 0s 5ms/step - loss: 16.3146 - mae: 16.3146\n",
      "Epoch 438/500\n",
      "2/2 [==============================] - 0s 4ms/step - loss: 13.9809 - mae: 13.9809\n",
      "Epoch 439/500\n",
      "2/2 [==============================] - 0s 4ms/step - loss: 32.0187 - mae: 32.0187\n",
      "Epoch 440/500\n",
      "2/2 [==============================] - 0s 4ms/step - loss: 12.5868 - mae: 12.5868\n",
      "Epoch 441/500\n",
      "2/2 [==============================] - 0s 4ms/step - loss: 15.8324 - mae: 15.8324\n",
      "Epoch 442/500\n",
      "2/2 [==============================] - 0s 4ms/step - loss: 23.7852 - mae: 23.7852\n",
      "Epoch 443/500\n",
      "2/2 [==============================] - 0s 5ms/step - loss: 19.9434 - mae: 19.9434\n",
      "Epoch 444/500\n",
      "2/2 [==============================] - 0s 5ms/step - loss: 8.4703 - mae: 8.4703\n",
      "Epoch 445/500\n",
      "2/2 [==============================] - 0s 4ms/step - loss: 12.8572 - mae: 12.8572\n",
      "Epoch 446/500\n",
      "2/2 [==============================] - 0s 4ms/step - loss: 15.5727 - mae: 15.5727\n",
      "Epoch 447/500\n",
      "2/2 [==============================] - 0s 5ms/step - loss: 14.7293 - mae: 14.7293\n",
      "Epoch 448/500\n",
      "2/2 [==============================] - 0s 4ms/step - loss: 11.6062 - mae: 11.6062\n",
      "Epoch 449/500\n",
      "2/2 [==============================] - 0s 3ms/step - loss: 14.8084 - mae: 14.8084\n",
      "Epoch 450/500\n",
      "2/2 [==============================] - 0s 4ms/step - loss: 17.5627 - mae: 17.5627\n",
      "Epoch 451/500\n",
      "2/2 [==============================] - 0s 4ms/step - loss: 14.6271 - mae: 14.6271\n",
      "Epoch 452/500\n",
      "2/2 [==============================] - 0s 4ms/step - loss: 31.2785 - mae: 31.2785\n",
      "Epoch 453/500\n",
      "2/2 [==============================] - 0s 4ms/step - loss: 10.5746 - mae: 10.5746\n",
      "Epoch 454/500\n",
      "2/2 [==============================] - 0s 5ms/step - loss: 26.8639 - mae: 26.8639\n",
      "Epoch 455/500\n",
      "2/2 [==============================] - 0s 4ms/step - loss: 12.2989 - mae: 12.2989\n",
      "Epoch 456/500\n",
      "2/2 [==============================] - 0s 4ms/step - loss: 15.3474 - mae: 15.3474\n",
      "Epoch 457/500\n",
      "2/2 [==============================] - 0s 4ms/step - loss: 19.0544 - mae: 19.0544\n",
      "Epoch 458/500\n",
      "2/2 [==============================] - 0s 4ms/step - loss: 23.4873 - mae: 23.4873\n",
      "Epoch 459/500\n",
      "2/2 [==============================] - 0s 4ms/step - loss: 16.9386 - mae: 16.9386\n",
      "Epoch 460/500\n",
      "2/2 [==============================] - 0s 4ms/step - loss: 6.1253 - mae: 6.1253\n",
      "Epoch 461/500\n",
      "2/2 [==============================] - 0s 6ms/step - loss: 16.8819 - mae: 16.8819\n",
      "Epoch 462/500\n",
      "2/2 [==============================] - 0s 4ms/step - loss: 16.8420 - mae: 16.8420\n",
      "Epoch 463/500\n",
      "2/2 [==============================] - 0s 4ms/step - loss: 42.6033 - mae: 42.6033\n",
      "Epoch 464/500\n",
      "2/2 [==============================] - 0s 6ms/step - loss: 16.7618 - mae: 16.7618\n",
      "Epoch 465/500\n",
      "2/2 [==============================] - 0s 4ms/step - loss: 8.1192 - mae: 8.1192\n",
      "Epoch 466/500\n",
      "2/2 [==============================] - 0s 4ms/step - loss: 13.6612 - mae: 13.6612\n",
      "Epoch 467/500\n",
      "2/2 [==============================] - 0s 4ms/step - loss: 6.5093 - mae: 6.5093\n",
      "Epoch 468/500\n",
      "2/2 [==============================] - 0s 6ms/step - loss: 15.0233 - mae: 15.0233\n",
      "Epoch 469/500\n",
      "2/2 [==============================] - 0s 4ms/step - loss: 13.7477 - mae: 13.7477\n",
      "Epoch 470/500\n",
      "2/2 [==============================] - 0s 5ms/step - loss: 6.7993 - mae: 6.7993\n",
      "Epoch 471/500\n",
      "2/2 [==============================] - 0s 6ms/step - loss: 23.0309 - mae: 23.0309\n",
      "Epoch 472/500\n",
      "2/2 [==============================] - 0s 7ms/step - loss: 13.3164 - mae: 13.3164\n",
      "Epoch 473/500\n",
      "2/2 [==============================] - 0s 6ms/step - loss: 15.2296 - mae: 15.2296\n",
      "Epoch 474/500\n",
      "2/2 [==============================] - 0s 4ms/step - loss: 11.7038 - mae: 11.7038\n",
      "Epoch 475/500\n",
      "2/2 [==============================] - 0s 4ms/step - loss: 16.3458 - mae: 16.3458\n",
      "Epoch 476/500\n",
      "2/2 [==============================] - 0s 4ms/step - loss: 13.8686 - mae: 13.8686\n",
      "Epoch 477/500\n",
      "2/2 [==============================] - 0s 5ms/step - loss: 30.6216 - mae: 30.6216\n",
      "Epoch 478/500\n",
      "2/2 [==============================] - 0s 4ms/step - loss: 8.2612 - mae: 8.2612\n",
      "Epoch 479/500\n",
      "2/2 [==============================] - 0s 4ms/step - loss: 11.3055 - mae: 11.3055\n",
      "Epoch 480/500\n",
      "2/2 [==============================] - 0s 5ms/step - loss: 17.9699 - mae: 17.9699\n",
      "Epoch 481/500\n",
      "2/2 [==============================] - 0s 4ms/step - loss: 15.8642 - mae: 15.8642\n",
      "Epoch 482/500\n",
      "2/2 [==============================] - 0s 4ms/step - loss: 21.4050 - mae: 21.4050\n",
      "Epoch 483/500\n",
      "2/2 [==============================] - 0s 4ms/step - loss: 25.1554 - mae: 25.1554\n",
      "Epoch 484/500\n",
      "2/2 [==============================] - 0s 6ms/step - loss: 23.7590 - mae: 23.7590\n",
      "Epoch 485/500\n",
      "2/2 [==============================] - 0s 4ms/step - loss: 5.7795 - mae: 5.7795\n",
      "Epoch 486/500\n",
      "2/2 [==============================] - 0s 4ms/step - loss: 19.6859 - mae: 19.6859\n",
      "Epoch 487/500\n",
      "2/2 [==============================] - 0s 7ms/step - loss: 13.9559 - mae: 13.9559\n",
      "Epoch 488/500\n",
      "2/2 [==============================] - 0s 5ms/step - loss: 30.4363 - mae: 30.4363\n",
      "Epoch 489/500\n",
      "2/2 [==============================] - 0s 4ms/step - loss: 11.6813 - mae: 11.6813\n",
      "Epoch 490/500\n",
      "2/2 [==============================] - 0s 4ms/step - loss: 12.4322 - mae: 12.4322\n",
      "Epoch 491/500\n",
      "2/2 [==============================] - 0s 4ms/step - loss: 23.5990 - mae: 23.5990\n",
      "Epoch 492/500\n",
      "2/2 [==============================] - 0s 4ms/step - loss: 20.4433 - mae: 20.4433\n",
      "Epoch 493/500\n",
      "2/2 [==============================] - 0s 5ms/step - loss: 5.0161 - mae: 5.0161\n",
      "Epoch 494/500\n",
      "2/2 [==============================] - 0s 5ms/step - loss: 12.7217 - mae: 12.7217\n",
      "Epoch 495/500\n",
      "2/2 [==============================] - 0s 4ms/step - loss: 13.4291 - mae: 13.4291\n",
      "Epoch 496/500\n",
      "2/2 [==============================] - 0s 4ms/step - loss: 12.7104 - mae: 12.7104\n",
      "Epoch 497/500\n",
      "2/2 [==============================] - 0s 4ms/step - loss: 17.6918 - mae: 17.6918\n",
      "Epoch 498/500\n",
      "2/2 [==============================] - 0s 4ms/step - loss: 23.4197 - mae: 23.4197\n",
      "Epoch 499/500\n",
      "2/2 [==============================] - 0s 4ms/step - loss: 9.1588 - mae: 9.1588\n",
      "Epoch 500/500\n",
      "2/2 [==============================] - 0s 4ms/step - loss: 14.3931 - mae: 14.3931\n"
     ]
    },
    {
     "data": {
      "text/plain": [
       "<keras.src.callbacks.History at 0x7f5398190c90>"
      ]
     },
     "execution_count": 46,
     "metadata": {},
     "output_type": "execute_result"
    }
   ],
   "source": [
    "# Set the seed\n",
    "tf.random.set_seed(42)\n",
    "\n",
    "# 1. Create the model\n",
    "model_3 = tf.keras.Sequential([\n",
    "    tf.keras.layers.Dense(10),\n",
    "    tf.keras.layers.Dense(1)\n",
    "])\n",
    "\n",
    "# 2. Compile the model\n",
    "model_3.compile(loss=tf.keras.losses.mae,\n",
    "                optimizer=tf.keras.optimizers.SGD(),\n",
    "                metrics=['mae'])\n",
    "\n",
    "# 3. Fit the model\n",
    "model_3.fit(tf.expand_dims(X_train, axis=-1), y_train, epochs=500)"
   ]
  },
  {
   "cell_type": "code",
   "execution_count": 47,
   "metadata": {},
   "outputs": [
    {
     "name": "stdout",
     "output_type": "stream",
     "text": [
      "1/1 [==============================] - 0s 21ms/step\n"
     ]
    },
    {
     "data": {
      "image/png": "[encoded data removed]",
      "text/plain": [
       "<Figure size 1000x700 with 1 Axes>"
      ]
     },
     "metadata": {},
     "output_type": "display_data"
    }
   ],
   "source": [
    "# Make and plot some predictions\n",
    "y_preds_3 = model.predict(X_test)\n",
    "plot_predictions(predictions=y_preds_3)"
   ]
  },
  {
   "cell_type": "code",
   "execution_count": 48,
   "metadata": {},
   "outputs": [
    {
     "data": {
      "text/plain": [
       "(<tf.Tensor: shape=(), dtype=float32, numpy=5.718995>,\n",
       " <tf.Tensor: shape=(), dtype=float32, numpy=36.945293>)"
      ]
     },
     "execution_count": 48,
     "metadata": {},
     "output_type": "execute_result"
    }
   ],
   "source": [
    "# Calculate model_3 evaluation metrics\n",
    "mae_3 = mae(y_test, y_preds_3)\n",
    "mse_3 = mse(y_test, y_preds_3)\n",
    "mae_3, mse_3"
   ]
  },
  {
   "cell_type": "markdown",
   "metadata": {},
   "source": [
    "### Comparing the results of our experiments\n",
    "\n",
    "We've run a few experiments, let's compare the results."
   ]
  },
  {
   "cell_type": "code",
   "execution_count": 49,
   "metadata": {},
   "outputs": [
    {
     "data": {
      "text/html": [
       "<div>\n",
       "<style scoped>\n",
       "    .dataframe tbody tr th:only-of-type {\n",
       "        vertical-align: middle;\n",
       "    }\n",
       "\n",
       "    .dataframe tbody tr th {\n",
       "        vertical-align: top;\n",
       "    }\n",
       "\n",
       "    .dataframe thead th {\n",
       "        text-align: right;\n",
       "    }\n",
       "</style>\n",
       "<table border=\"1\" class=\"dataframe\">\n",
       "  <thead>\n",
       "    <tr style=\"text-align: right;\">\n",
       "      <th></th>\n",
       "      <th>model</th>\n",
       "      <th>MAE</th>\n",
       "      <th>MSE</th>\n",
       "    </tr>\n",
       "  </thead>\n",
       "  <tbody>\n",
       "    <tr>\n",
       "      <th>0</th>\n",
       "      <td>model_1</td>\n",
       "      <td>8.557459</td>\n",
       "      <td>79.708061</td>\n",
       "    </tr>\n",
       "    <tr>\n",
       "      <th>1</th>\n",
       "      <td>model_2</td>\n",
       "      <td>5.718995</td>\n",
       "      <td>36.945293</td>\n",
       "    </tr>\n",
       "    <tr>\n",
       "      <th>2</th>\n",
       "      <td>model_3</td>\n",
       "      <td>5.718995</td>\n",
       "      <td>36.945293</td>\n",
       "    </tr>\n",
       "  </tbody>\n",
       "</table>\n",
       "</div>"
      ],
      "text/plain": [
       "     model       MAE        MSE\n",
       "0  model_1  8.557459  79.708061\n",
       "1  model_2  5.718995  36.945293\n",
       "2  model_3  5.718995  36.945293"
      ]
     },
     "execution_count": 49,
     "metadata": {},
     "output_type": "execute_result"
    }
   ],
   "source": [
    "# Let's compare our model's results using a pandas DataFrame\n",
    "import pandas as pd\n",
    "\n",
    "model_results = [['model_1', mae_1.numpy(), mse_1.numpy()],\n",
    "                 ['model_2', mae_2.numpy(), mse_2.numpy()],\n",
    "                 ['model_3', mae_3.numpy(), mse_3.numpy()]]\n",
    "\n",
    "result_df = pd.DataFrame(model_results, columns=['model', 'MAE', 'MSE'])\n",
    "result_df"
   ]
  },
  {
   "cell_type": "markdown",
   "metadata": {},
   "source": [
    "It looks like models 2 and 3 performed the same. Possibly due to some overfitting protector when fitting for a large number of epochs."
   ]
  },
  {
   "cell_type": "code",
   "execution_count": 50,
   "metadata": {},
   "outputs": [
    {
     "name": "stdout",
     "output_type": "stream",
     "text": [
      "Model: \"sequential_7\"\n",
      "_________________________________________________________________\n",
      " Layer (type)                Output Shape              Param #   \n",
      "=================================================================\n",
      " dense_12 (Dense)            (None, 10)                20        \n",
      "                                                                 \n",
      " dense_13 (Dense)            (None, 1)                 11        \n",
      "                                                                 \n",
      "=================================================================\n",
      "Total params: 31 (124.00 Byte)\n",
      "Trainable params: 31 (124.00 Byte)\n",
      "Non-trainable params: 0 (0.00 Byte)\n",
      "_________________________________________________________________\n"
     ]
    }
   ],
   "source": [
    "model_2.summary()"
   ]
  },
  {
   "cell_type": "markdown",
   "metadata": {},
   "source": [
    "**Note:** One of your main goals should be to minimize the time between your experiments. The more experiments you do, the more things you'll figure out which don't work an din turn, get closer to figuring out what does work. Remember the machine learning practitioner's motto: \"experiment, experiment, experiment.\""
   ]
  },
  {
   "cell_type": "markdown",
   "metadata": {},
   "source": [
    "## Tracking you experiments \n",
    "\n",
    "One really good habit in machine learning modelling is to track the results of your experiments.\n",
    "\n",
    "And when doing so, it can be tedious if you're running lots of experiments.\n",
    "\n",
    "Luckily, there are tools to help us!\n",
    "\n",
    "**Resource:** As you build more models, you'll wnat to look into using:\n",
    "\n",
    "* TensorBoard - a component of the TensorFlow library to help track modelling experiments (we'll see this one later).\n",
    "* Weights & Biases - a tool for tracking all kinds of machine learning experiments (plugs straight into TensorBoard)."
   ]
  },
  {
   "cell_type": "markdown",
   "metadata": {},
   "source": [
    "## Saving our models\n",
    "\n",
    "Saving our models allows us to use them outside of Google Colab (or wherever they were trained) such as in a web application or mobile app.\n",
    "\n",
    "There are two main formats we can save our model's to:\n",
    "\n",
    "1. The SavedModel format\n",
    "2. The HDF5 format"
   ]
  },
  {
   "cell_type": "code",
   "execution_count": 51,
   "metadata": {},
   "outputs": [
    {
     "name": "stdout",
     "output_type": "stream",
     "text": [
      "INFO:tensorflow:Unsupported signature for serialization: ((TensorSpec(shape=(1, 10), dtype=tf.float32, name='gradient'), <tensorflow.python.framework.func_graph.UnknownArgument object at 0x7f539829e790>, 139997011530000), {}).\n"
     ]
    },
    {
     "name": "stderr",
     "output_type": "stream",
     "text": [
      "INFO:tensorflow:Unsupported signature for serialization: ((TensorSpec(shape=(1, 10), dtype=tf.float32, name='gradient'), <tensorflow.python.framework.func_graph.UnknownArgument object at 0x7f539829e790>, 139997011530000), {}).\n"
     ]
    },
    {
     "name": "stdout",
     "output_type": "stream",
     "text": [
      "INFO:tensorflow:Unsupported signature for serialization: ((TensorSpec(shape=(10,), dtype=tf.float32, name='gradient'), <tensorflow.python.framework.func_graph.UnknownArgument object at 0x7f53982a6110>, 139997011529920), {}).\n"
     ]
    },
    {
     "name": "stderr",
     "output_type": "stream",
     "text": [
      "INFO:tensorflow:Unsupported signature for serialization: ((TensorSpec(shape=(10,), dtype=tf.float32, name='gradient'), <tensorflow.python.framework.func_graph.UnknownArgument object at 0x7f53982a6110>, 139997011529920), {}).\n"
     ]
    },
    {
     "name": "stdout",
     "output_type": "stream",
     "text": [
      "INFO:tensorflow:Unsupported signature for serialization: ((TensorSpec(shape=(10, 1), dtype=tf.float32, name='gradient'), <tensorflow.python.framework.func_graph.UnknownArgument object at 0x7f53982ad790>, 139997011532400), {}).\n"
     ]
    },
    {
     "name": "stderr",
     "output_type": "stream",
     "text": [
      "INFO:tensorflow:Unsupported signature for serialization: ((TensorSpec(shape=(10, 1), dtype=tf.float32, name='gradient'), <tensorflow.python.framework.func_graph.UnknownArgument object at 0x7f53982ad790>, 139997011532400), {}).\n"
     ]
    },
    {
     "name": "stdout",
     "output_type": "stream",
     "text": [
      "INFO:tensorflow:Unsupported signature for serialization: ((TensorSpec(shape=(1,), dtype=tf.float32, name='gradient'), <tensorflow.python.framework.func_graph.UnknownArgument object at 0x7f53982b4cd0>, 139997011532160), {}).\n"
     ]
    },
    {
     "name": "stderr",
     "output_type": "stream",
     "text": [
      "INFO:tensorflow:Unsupported signature for serialization: ((TensorSpec(shape=(1,), dtype=tf.float32, name='gradient'), <tensorflow.python.framework.func_graph.UnknownArgument object at 0x7f53982b4cd0>, 139997011532160), {}).\n"
     ]
    },
    {
     "name": "stdout",
     "output_type": "stream",
     "text": [
      "INFO:tensorflow:Unsupported signature for serialization: ((TensorSpec(shape=(1, 10), dtype=tf.float32, name='gradient'), <tensorflow.python.framework.func_graph.UnknownArgument object at 0x7f539829e790>, 139997011530000), {}).\n"
     ]
    },
    {
     "name": "stderr",
     "output_type": "stream",
     "text": [
      "INFO:tensorflow:Unsupported signature for serialization: ((TensorSpec(shape=(1, 10), dtype=tf.float32, name='gradient'), <tensorflow.python.framework.func_graph.UnknownArgument object at 0x7f539829e790>, 139997011530000), {}).\n"
     ]
    },
    {
     "name": "stdout",
     "output_type": "stream",
     "text": [
      "INFO:tensorflow:Unsupported signature for serialization: ((TensorSpec(shape=(10,), dtype=tf.float32, name='gradient'), <tensorflow.python.framework.func_graph.UnknownArgument object at 0x7f53982a6110>, 139997011529920), {}).\n"
     ]
    },
    {
     "name": "stderr",
     "output_type": "stream",
     "text": [
      "INFO:tensorflow:Unsupported signature for serialization: ((TensorSpec(shape=(10,), dtype=tf.float32, name='gradient'), <tensorflow.python.framework.func_graph.UnknownArgument object at 0x7f53982a6110>, 139997011529920), {}).\n"
     ]
    },
    {
     "name": "stdout",
     "output_type": "stream",
     "text": [
      "INFO:tensorflow:Unsupported signature for serialization: ((TensorSpec(shape=(10, 1), dtype=tf.float32, name='gradient'), <tensorflow.python.framework.func_graph.UnknownArgument object at 0x7f53982ad790>, 139997011532400), {}).\n"
     ]
    },
    {
     "name": "stderr",
     "output_type": "stream",
     "text": [
      "INFO:tensorflow:Unsupported signature for serialization: ((TensorSpec(shape=(10, 1), dtype=tf.float32, name='gradient'), <tensorflow.python.framework.func_graph.UnknownArgument object at 0x7f53982ad790>, 139997011532400), {}).\n"
     ]
    },
    {
     "name": "stdout",
     "output_type": "stream",
     "text": [
      "INFO:tensorflow:Unsupported signature for serialization: ((TensorSpec(shape=(1,), dtype=tf.float32, name='gradient'), <tensorflow.python.framework.func_graph.UnknownArgument object at 0x7f53982b4cd0>, 139997011532160), {}).\n"
     ]
    },
    {
     "name": "stderr",
     "output_type": "stream",
     "text": [
      "INFO:tensorflow:Unsupported signature for serialization: ((TensorSpec(shape=(1,), dtype=tf.float32, name='gradient'), <tensorflow.python.framework.func_graph.UnknownArgument object at 0x7f53982b4cd0>, 139997011532160), {}).\n"
     ]
    },
    {
     "name": "stdout",
     "output_type": "stream",
     "text": [
      "INFO:tensorflow:Assets written to: best_model_SavedModel_format/assets\n"
     ]
    },
    {
     "name": "stderr",
     "output_type": "stream",
     "text": [
      "INFO:tensorflow:Assets written to: best_model_SavedModel_format/assets\n"
     ]
    }
   ],
   "source": [
    "# Svae model\n",
    "model_2.save('best_model_SavedModel_format')"
   ]
  },
  {
   "cell_type": "code",
   "execution_count": 52,
   "metadata": {},
   "outputs": [
    {
     "name": "stderr",
     "output_type": "stream",
     "text": [
      "/usr/local/lib/python3.11/dist-packages/keras/src/engine/training.py:3103: UserWarning: You are saving your model as an HDF5 file via `model.save()`. This file format is considered legacy. We recommend using instead the native Keras format, e.g. `model.save('my_model.keras')`.\n",
      "  saving_api.save_model(\n"
     ]
    }
   ],
   "source": [
    "# Save model using the HDF5 format\n",
    "model_2.save('best_model_HDF5_format.h5')"
   ]
  },
  {
   "cell_type": "markdown",
   "metadata": {},
   "source": [
    "### Loading in a saved model"
   ]
  },
  {
   "cell_type": "code",
   "execution_count": 53,
   "metadata": {},
   "outputs": [
    {
     "name": "stdout",
     "output_type": "stream",
     "text": [
      "Model: \"sequential_7\"\n",
      "_________________________________________________________________\n",
      " Layer (type)                Output Shape              Param #   \n",
      "=================================================================\n",
      " dense_12 (Dense)            (None, 10)                20        \n",
      "                                                                 \n",
      " dense_13 (Dense)            (None, 1)                 11        \n",
      "                                                                 \n",
      "=================================================================\n",
      "Total params: 31 (124.00 Byte)\n",
      "Trainable params: 31 (124.00 Byte)\n",
      "Non-trainable params: 0 (0.00 Byte)\n",
      "_________________________________________________________________\n"
     ]
    }
   ],
   "source": [
    "# Load in the SavedModel format model\n",
    "loaded_SavedModel_format = tf.keras.models.load_model('best_model_HDF5_format.h5')\n",
    "loaded_SavedModel_format.summary()\n"
   ]
  },
  {
   "cell_type": "code",
   "execution_count": 54,
   "metadata": {},
   "outputs": [
    {
     "name": "stdout",
     "output_type": "stream",
     "text": [
      "1/1 [==============================] - 0s 26ms/step\n",
      "1/1 [==============================] - 0s 25ms/step\n"
     ]
    },
    {
     "data": {
      "text/plain": [
       "array([[ True],\n",
       "       [ True],\n",
       "       [ True],\n",
       "       [ True],\n",
       "       [ True],\n",
       "       [ True],\n",
       "       [ True],\n",
       "       [ True],\n",
       "       [ True],\n",
       "       [ True]])"
      ]
     },
     "execution_count": 54,
     "metadata": {},
     "output_type": "execute_result"
    }
   ],
   "source": [
    "# Compare model_2 predictions with SavedModel model predictions\n",
    "model_2_preds = model_2.predict(X_test)\n",
    "loaded_SavedModel_format_preds = loaded_SavedModel_format.predict(X_test)\n",
    "model_2_preds == loaded_SavedModel_format_preds"
   ]
  },
  {
   "cell_type": "code",
   "execution_count": 55,
   "metadata": {},
   "outputs": [
    {
     "name": "stdout",
     "output_type": "stream",
     "text": [
      "Model: \"sequential_7\"\n",
      "_________________________________________________________________\n",
      " Layer (type)                Output Shape              Param #   \n",
      "=================================================================\n",
      " dense_12 (Dense)            (None, 10)                20        \n",
      "                                                                 \n",
      " dense_13 (Dense)            (None, 1)                 11        \n",
      "                                                                 \n",
      "=================================================================\n",
      "Total params: 31 (124.00 Byte)\n",
      "Trainable params: 31 (124.00 Byte)\n",
      "Non-trainable params: 0 (0.00 Byte)\n",
      "_________________________________________________________________\n"
     ]
    }
   ],
   "source": [
    "# Load in a model using the .h5 format\n",
    "loaded_h5_model = tf.keras.models.load_model('best_model_HDF5_format.h5')\n",
    "loaded_h5_model.summary()"
   ]
  },
  {
   "cell_type": "code",
   "execution_count": 56,
   "metadata": {},
   "outputs": [
    {
     "name": "stdout",
     "output_type": "stream",
     "text": [
      "1/1 [==============================] - 0s 28ms/step\n"
     ]
    },
    {
     "data": {
      "text/plain": [
       "array([[ True],\n",
       "       [ True],\n",
       "       [ True],\n",
       "       [ True],\n",
       "       [ True],\n",
       "       [ True],\n",
       "       [ True],\n",
       "       [ True],\n",
       "       [ True],\n",
       "       [ True]])"
      ]
     },
     "execution_count": 56,
     "metadata": {},
     "output_type": "execute_result"
    }
   ],
   "source": [
    "# Check to ensure that loaded model is the same as model_2\n",
    "loaded_h5_model_preds = loaded_h5_model.predict(X_test)\n",
    "loaded_h5_model_preds == model_2_preds"
   ]
  },
  {
   "cell_type": "markdown",
   "metadata": {},
   "source": [
    "## A larger Example"
   ]
  },
  {
   "cell_type": "code",
   "execution_count": 57,
   "metadata": {},
   "outputs": [],
   "source": [
    "# Import required libraries\n",
    "import tensorflow as tf\n",
    "import pandas as pd\n",
    "import matplotlib.pyplot as plt\n",
    "\n"
   ]
  },
  {
   "cell_type": "code",
   "execution_count": 58,
   "metadata": {},
   "outputs": [
    {
     "data": {
      "text/html": [
       "<div>\n",
       "<style scoped>\n",
       "    .dataframe tbody tr th:only-of-type {\n",
       "        vertical-align: middle;\n",
       "    }\n",
       "\n",
       "    .dataframe tbody tr th {\n",
       "        vertical-align: top;\n",
       "    }\n",
       "\n",
       "    .dataframe thead th {\n",
       "        text-align: right;\n",
       "    }\n",
       "</style>\n",
       "<table border=\"1\" class=\"dataframe\">\n",
       "  <thead>\n",
       "    <tr style=\"text-align: right;\">\n",
       "      <th></th>\n",
       "      <th>age</th>\n",
       "      <th>sex</th>\n",
       "      <th>bmi</th>\n",
       "      <th>children</th>\n",
       "      <th>smoker</th>\n",
       "      <th>region</th>\n",
       "      <th>charges</th>\n",
       "    </tr>\n",
       "  </thead>\n",
       "  <tbody>\n",
       "    <tr>\n",
       "      <th>0</th>\n",
       "      <td>19</td>\n",
       "      <td>female</td>\n",
       "      <td>27.900</td>\n",
       "      <td>0</td>\n",
       "      <td>yes</td>\n",
       "      <td>southwest</td>\n",
       "      <td>16884.92400</td>\n",
       "    </tr>\n",
       "    <tr>\n",
       "      <th>1</th>\n",
       "      <td>18</td>\n",
       "      <td>male</td>\n",
       "      <td>33.770</td>\n",
       "      <td>1</td>\n",
       "      <td>no</td>\n",
       "      <td>southeast</td>\n",
       "      <td>1725.55230</td>\n",
       "    </tr>\n",
       "    <tr>\n",
       "      <th>2</th>\n",
       "      <td>28</td>\n",
       "      <td>male</td>\n",
       "      <td>33.000</td>\n",
       "      <td>3</td>\n",
       "      <td>no</td>\n",
       "      <td>southeast</td>\n",
       "      <td>4449.46200</td>\n",
       "    </tr>\n",
       "    <tr>\n",
       "      <th>3</th>\n",
       "      <td>33</td>\n",
       "      <td>male</td>\n",
       "      <td>22.705</td>\n",
       "      <td>0</td>\n",
       "      <td>no</td>\n",
       "      <td>northwest</td>\n",
       "      <td>21984.47061</td>\n",
       "    </tr>\n",
       "    <tr>\n",
       "      <th>4</th>\n",
       "      <td>32</td>\n",
       "      <td>male</td>\n",
       "      <td>28.880</td>\n",
       "      <td>0</td>\n",
       "      <td>no</td>\n",
       "      <td>northwest</td>\n",
       "      <td>3866.85520</td>\n",
       "    </tr>\n",
       "  </tbody>\n",
       "</table>\n",
       "</div>"
      ],
      "text/plain": [
       "   age     sex     bmi  children smoker     region      charges\n",
       "0   19  female  27.900         0    yes  southwest  16884.92400\n",
       "1   18    male  33.770         1     no  southeast   1725.55230\n",
       "2   28    male  33.000         3     no  southeast   4449.46200\n",
       "3   33    male  22.705         0     no  northwest  21984.47061\n",
       "4   32    male  28.880         0     no  northwest   3866.85520"
      ]
     },
     "execution_count": 58,
     "metadata": {},
     "output_type": "execute_result"
    }
   ],
   "source": [
    "# Read in the insurance dataset\n",
    "insurance = pd.read_csv('./tensorflow-bootcamp/insurance.csv')\n",
    "insurance.head()"
   ]
  },
  {
   "cell_type": "code",
   "execution_count": 59,
   "metadata": {},
   "outputs": [
    {
     "name": "stdout",
     "output_type": "stream",
     "text": [
      "<class 'pandas.core.frame.DataFrame'>\n",
      "RangeIndex: 1338 entries, 0 to 1337\n",
      "Data columns (total 7 columns):\n",
      " #   Column    Non-Null Count  Dtype  \n",
      "---  ------    --------------  -----  \n",
      " 0   age       1338 non-null   int64  \n",
      " 1   sex       1338 non-null   object \n",
      " 2   bmi       1338 non-null   float64\n",
      " 3   children  1338 non-null   int64  \n",
      " 4   smoker    1338 non-null   object \n",
      " 5   region    1338 non-null   object \n",
      " 6   charges   1338 non-null   float64\n",
      "dtypes: float64(2), int64(2), object(3)\n",
      "memory usage: 73.3+ KB\n"
     ]
    }
   ],
   "source": [
    "insurance.info()"
   ]
  },
  {
   "cell_type": "code",
   "execution_count": 60,
   "metadata": {},
   "outputs": [
    {
     "data": {
      "text/html": [
       "<div>\n",
       "<style scoped>\n",
       "    .dataframe tbody tr th:only-of-type {\n",
       "        vertical-align: middle;\n",
       "    }\n",
       "\n",
       "    .dataframe tbody tr th {\n",
       "        vertical-align: top;\n",
       "    }\n",
       "\n",
       "    .dataframe thead th {\n",
       "        text-align: right;\n",
       "    }\n",
       "</style>\n",
       "<table border=\"1\" class=\"dataframe\">\n",
       "  <thead>\n",
       "    <tr style=\"text-align: right;\">\n",
       "      <th></th>\n",
       "      <th>age</th>\n",
       "      <th>bmi</th>\n",
       "      <th>children</th>\n",
       "      <th>charges</th>\n",
       "      <th>sex_female</th>\n",
       "      <th>sex_male</th>\n",
       "      <th>smoker_no</th>\n",
       "      <th>smoker_yes</th>\n",
       "      <th>region_northeast</th>\n",
       "      <th>region_northwest</th>\n",
       "      <th>region_southeast</th>\n",
       "      <th>region_southwest</th>\n",
       "    </tr>\n",
       "  </thead>\n",
       "  <tbody>\n",
       "    <tr>\n",
       "      <th>0</th>\n",
       "      <td>19</td>\n",
       "      <td>27.900</td>\n",
       "      <td>0</td>\n",
       "      <td>16884.92400</td>\n",
       "      <td>True</td>\n",
       "      <td>False</td>\n",
       "      <td>False</td>\n",
       "      <td>True</td>\n",
       "      <td>False</td>\n",
       "      <td>False</td>\n",
       "      <td>False</td>\n",
       "      <td>True</td>\n",
       "    </tr>\n",
       "    <tr>\n",
       "      <th>1</th>\n",
       "      <td>18</td>\n",
       "      <td>33.770</td>\n",
       "      <td>1</td>\n",
       "      <td>1725.55230</td>\n",
       "      <td>False</td>\n",
       "      <td>True</td>\n",
       "      <td>True</td>\n",
       "      <td>False</td>\n",
       "      <td>False</td>\n",
       "      <td>False</td>\n",
       "      <td>True</td>\n",
       "      <td>False</td>\n",
       "    </tr>\n",
       "    <tr>\n",
       "      <th>2</th>\n",
       "      <td>28</td>\n",
       "      <td>33.000</td>\n",
       "      <td>3</td>\n",
       "      <td>4449.46200</td>\n",
       "      <td>False</td>\n",
       "      <td>True</td>\n",
       "      <td>True</td>\n",
       "      <td>False</td>\n",
       "      <td>False</td>\n",
       "      <td>False</td>\n",
       "      <td>True</td>\n",
       "      <td>False</td>\n",
       "    </tr>\n",
       "    <tr>\n",
       "      <th>3</th>\n",
       "      <td>33</td>\n",
       "      <td>22.705</td>\n",
       "      <td>0</td>\n",
       "      <td>21984.47061</td>\n",
       "      <td>False</td>\n",
       "      <td>True</td>\n",
       "      <td>True</td>\n",
       "      <td>False</td>\n",
       "      <td>False</td>\n",
       "      <td>True</td>\n",
       "      <td>False</td>\n",
       "      <td>False</td>\n",
       "    </tr>\n",
       "    <tr>\n",
       "      <th>4</th>\n",
       "      <td>32</td>\n",
       "      <td>28.880</td>\n",
       "      <td>0</td>\n",
       "      <td>3866.85520</td>\n",
       "      <td>False</td>\n",
       "      <td>True</td>\n",
       "      <td>True</td>\n",
       "      <td>False</td>\n",
       "      <td>False</td>\n",
       "      <td>True</td>\n",
       "      <td>False</td>\n",
       "      <td>False</td>\n",
       "    </tr>\n",
       "  </tbody>\n",
       "</table>\n",
       "</div>"
      ],
      "text/plain": [
       "   age     bmi  children      charges  sex_female  sex_male  smoker_no  \\\n",
       "0   19  27.900         0  16884.92400        True     False      False   \n",
       "1   18  33.770         1   1725.55230       False      True       True   \n",
       "2   28  33.000         3   4449.46200       False      True       True   \n",
       "3   33  22.705         0  21984.47061       False      True       True   \n",
       "4   32  28.880         0   3866.85520       False      True       True   \n",
       "\n",
       "   smoker_yes  region_northeast  region_northwest  region_southeast  \\\n",
       "0        True             False             False             False   \n",
       "1       False             False             False              True   \n",
       "2       False             False             False              True   \n",
       "3       False             False              True             False   \n",
       "4       False             False              True             False   \n",
       "\n",
       "   region_southwest  \n",
       "0              True  \n",
       "1             False  \n",
       "2             False  \n",
       "3             False  \n",
       "4             False  "
      ]
     },
     "execution_count": 60,
     "metadata": {},
     "output_type": "execute_result"
    }
   ],
   "source": [
    "# Let's try to one-hot encode our DataFrame so it's all numbers\n",
    "insurance_one_hot = pd.get_dummies(insurance)\n",
    "insurance_one_hot.head()"
   ]
  },
  {
   "cell_type": "code",
   "execution_count": 61,
   "metadata": {},
   "outputs": [],
   "source": [
    "# Create X and y values (features and labels)\n",
    "X = insurance_one_hot.drop('charges', axis=1)\n",
    "y = insurance_one_hot['charges']"
   ]
  },
  {
   "cell_type": "code",
   "execution_count": 62,
   "metadata": {},
   "outputs": [
    {
     "data": {
      "text/html": [
       "<div>\n",
       "<style scoped>\n",
       "    .dataframe tbody tr th:only-of-type {\n",
       "        vertical-align: middle;\n",
       "    }\n",
       "\n",
       "    .dataframe tbody tr th {\n",
       "        vertical-align: top;\n",
       "    }\n",
       "\n",
       "    .dataframe thead th {\n",
       "        text-align: right;\n",
       "    }\n",
       "</style>\n",
       "<table border=\"1\" class=\"dataframe\">\n",
       "  <thead>\n",
       "    <tr style=\"text-align: right;\">\n",
       "      <th></th>\n",
       "      <th>age</th>\n",
       "      <th>bmi</th>\n",
       "      <th>children</th>\n",
       "      <th>sex_female</th>\n",
       "      <th>sex_male</th>\n",
       "      <th>smoker_no</th>\n",
       "      <th>smoker_yes</th>\n",
       "      <th>region_northeast</th>\n",
       "      <th>region_northwest</th>\n",
       "      <th>region_southeast</th>\n",
       "      <th>region_southwest</th>\n",
       "    </tr>\n",
       "  </thead>\n",
       "  <tbody>\n",
       "    <tr>\n",
       "      <th>0</th>\n",
       "      <td>19</td>\n",
       "      <td>27.900</td>\n",
       "      <td>0</td>\n",
       "      <td>True</td>\n",
       "      <td>False</td>\n",
       "      <td>False</td>\n",
       "      <td>True</td>\n",
       "      <td>False</td>\n",
       "      <td>False</td>\n",
       "      <td>False</td>\n",
       "      <td>True</td>\n",
       "    </tr>\n",
       "    <tr>\n",
       "      <th>1</th>\n",
       "      <td>18</td>\n",
       "      <td>33.770</td>\n",
       "      <td>1</td>\n",
       "      <td>False</td>\n",
       "      <td>True</td>\n",
       "      <td>True</td>\n",
       "      <td>False</td>\n",
       "      <td>False</td>\n",
       "      <td>False</td>\n",
       "      <td>True</td>\n",
       "      <td>False</td>\n",
       "    </tr>\n",
       "    <tr>\n",
       "      <th>2</th>\n",
       "      <td>28</td>\n",
       "      <td>33.000</td>\n",
       "      <td>3</td>\n",
       "      <td>False</td>\n",
       "      <td>True</td>\n",
       "      <td>True</td>\n",
       "      <td>False</td>\n",
       "      <td>False</td>\n",
       "      <td>False</td>\n",
       "      <td>True</td>\n",
       "      <td>False</td>\n",
       "    </tr>\n",
       "    <tr>\n",
       "      <th>3</th>\n",
       "      <td>33</td>\n",
       "      <td>22.705</td>\n",
       "      <td>0</td>\n",
       "      <td>False</td>\n",
       "      <td>True</td>\n",
       "      <td>True</td>\n",
       "      <td>False</td>\n",
       "      <td>False</td>\n",
       "      <td>True</td>\n",
       "      <td>False</td>\n",
       "      <td>False</td>\n",
       "    </tr>\n",
       "    <tr>\n",
       "      <th>4</th>\n",
       "      <td>32</td>\n",
       "      <td>28.880</td>\n",
       "      <td>0</td>\n",
       "      <td>False</td>\n",
       "      <td>True</td>\n",
       "      <td>True</td>\n",
       "      <td>False</td>\n",
       "      <td>False</td>\n",
       "      <td>True</td>\n",
       "      <td>False</td>\n",
       "      <td>False</td>\n",
       "    </tr>\n",
       "  </tbody>\n",
       "</table>\n",
       "</div>"
      ],
      "text/plain": [
       "   age     bmi  children  sex_female  sex_male  smoker_no  smoker_yes  \\\n",
       "0   19  27.900         0        True     False      False        True   \n",
       "1   18  33.770         1       False      True       True       False   \n",
       "2   28  33.000         3       False      True       True       False   \n",
       "3   33  22.705         0       False      True       True       False   \n",
       "4   32  28.880         0       False      True       True       False   \n",
       "\n",
       "   region_northeast  region_northwest  region_southeast  region_southwest  \n",
       "0             False             False             False              True  \n",
       "1             False             False              True             False  \n",
       "2             False             False              True             False  \n",
       "3             False              True             False             False  \n",
       "4             False              True             False             False  "
      ]
     },
     "execution_count": 62,
     "metadata": {},
     "output_type": "execute_result"
    }
   ],
   "source": [
    "X.head()"
   ]
  },
  {
   "cell_type": "code",
   "execution_count": 63,
   "metadata": {},
   "outputs": [
    {
     "data": {
      "text/plain": [
       "0    16884.92400\n",
       "1     1725.55230\n",
       "2     4449.46200\n",
       "3    21984.47061\n",
       "4     3866.85520\n",
       "Name: charges, dtype: float64"
      ]
     },
     "execution_count": 63,
     "metadata": {},
     "output_type": "execute_result"
    }
   ],
   "source": [
    "y.head()"
   ]
  },
  {
   "cell_type": "code",
   "execution_count": 64,
   "metadata": {},
   "outputs": [
    {
     "data": {
      "text/plain": [
       "((1070, 11), (268, 11), (1070,), (268,))"
      ]
     },
     "execution_count": 64,
     "metadata": {},
     "output_type": "execute_result"
    }
   ],
   "source": [
    "# Create training and test sets\n",
    "from sklearn.model_selection import train_test_split\n",
    "\n",
    "X_train, X_test, y_train, y_test = train_test_split(X, y, test_size=0.2, random_state=42)\n",
    "X_train.shape, X_test.shape, y_train.shape, y_test.shape"
   ]
  },
  {
   "cell_type": "code",
   "execution_count": 65,
   "metadata": {},
   "outputs": [],
   "source": [
    "# Convert integers to floats-- TensorFlow like floats\n",
    "X_train = X_train['age'].astype(float)\n",
    "X_test = X_test['age'].astype(float)"
   ]
  },
  {
   "cell_type": "code",
   "execution_count": 66,
   "metadata": {},
   "outputs": [
    {
     "name": "stdout",
     "output_type": "stream",
     "text": [
      "<class 'pandas.core.series.Series'>\n",
      "Index: 1070 entries, 560 to 1126\n",
      "Series name: age\n",
      "Non-Null Count  Dtype  \n",
      "--------------  -----  \n",
      "1070 non-null   float64\n",
      "dtypes: float64(1)\n",
      "memory usage: 16.7 KB\n"
     ]
    }
   ],
   "source": [
    "X_train.info()"
   ]
  },
  {
   "cell_type": "code",
   "execution_count": 67,
   "metadata": {},
   "outputs": [
    {
     "name": "stdout",
     "output_type": "stream",
     "text": [
      "Epoch 1/100\n",
      "34/34 [==============================] - 0s 2ms/step - loss: 8522.9629 - mae: 8522.9629\n",
      "Epoch 2/100\n",
      "34/34 [==============================] - 0s 2ms/step - loss: 7554.0063 - mae: 7554.0063\n",
      "Epoch 3/100\n",
      "34/34 [==============================] - 0s 2ms/step - loss: 7255.5088 - mae: 7255.5088\n",
      "Epoch 4/100\n",
      "34/34 [==============================] - 0s 2ms/step - loss: 7259.1743 - mae: 7259.1743\n",
      "Epoch 5/100\n",
      "34/34 [==============================] - 0s 2ms/step - loss: 7505.9575 - mae: 7505.9575\n",
      "Epoch 6/100\n",
      "34/34 [==============================] - 0s 2ms/step - loss: 7353.9170 - mae: 7353.9170\n",
      "Epoch 7/100\n",
      "34/34 [==============================] - 0s 2ms/step - loss: 7316.4316 - mae: 7316.4316\n",
      "Epoch 8/100\n",
      "34/34 [==============================] - 0s 2ms/step - loss: 7467.8955 - mae: 7467.8955\n",
      "Epoch 9/100\n",
      "34/34 [==============================] - 0s 3ms/step - loss: 7349.3970 - mae: 7349.3970\n",
      "Epoch 10/100\n",
      "34/34 [==============================] - 0s 3ms/step - loss: 7450.5625 - mae: 7450.5625\n",
      "Epoch 11/100\n",
      "34/34 [==============================] - 0s 3ms/step - loss: 7447.2710 - mae: 7447.2710\n",
      "Epoch 12/100\n",
      "34/34 [==============================] - 0s 2ms/step - loss: 7360.4634 - mae: 7360.4634\n",
      "Epoch 13/100\n",
      "34/34 [==============================] - 0s 2ms/step - loss: 7477.5596 - mae: 7477.5596\n",
      "Epoch 14/100\n",
      "34/34 [==============================] - 0s 2ms/step - loss: 7451.3472 - mae: 7451.3472\n",
      "Epoch 15/100\n",
      "34/34 [==============================] - 0s 2ms/step - loss: 7383.8823 - mae: 7383.8823\n",
      "Epoch 16/100\n",
      "34/34 [==============================] - 0s 2ms/step - loss: 7439.8296 - mae: 7439.8296\n",
      "Epoch 17/100\n",
      "34/34 [==============================] - 0s 2ms/step - loss: 7403.8369 - mae: 7403.8369\n",
      "Epoch 18/100\n",
      "34/34 [==============================] - 0s 2ms/step - loss: 7516.7544 - mae: 7516.7544\n",
      "Epoch 19/100\n",
      "34/34 [==============================] - 0s 2ms/step - loss: 7582.1362 - mae: 7582.1362\n",
      "Epoch 20/100\n",
      "34/34 [==============================] - 0s 2ms/step - loss: 7606.7520 - mae: 7606.7520\n",
      "Epoch 21/100\n",
      "34/34 [==============================] - 0s 2ms/step - loss: 7322.5757 - mae: 7322.5757\n",
      "Epoch 22/100\n",
      "34/34 [==============================] - 0s 2ms/step - loss: 7620.1909 - mae: 7620.1909\n",
      "Epoch 23/100\n",
      "34/34 [==============================] - 0s 2ms/step - loss: 7586.7729 - mae: 7586.7729\n",
      "Epoch 24/100\n",
      "34/34 [==============================] - 0s 2ms/step - loss: 7474.7178 - mae: 7474.7178\n",
      "Epoch 25/100\n",
      "34/34 [==============================] - 0s 2ms/step - loss: 7441.7754 - mae: 7441.7754\n",
      "Epoch 26/100\n",
      "34/34 [==============================] - 0s 2ms/step - loss: 7412.3989 - mae: 7412.3989\n",
      "Epoch 27/100\n",
      "34/34 [==============================] - 0s 2ms/step - loss: 7336.9395 - mae: 7336.9395\n",
      "Epoch 28/100\n",
      "34/34 [==============================] - 0s 2ms/step - loss: 7461.0312 - mae: 7461.0312\n",
      "Epoch 29/100\n",
      "34/34 [==============================] - 0s 3ms/step - loss: 7386.1426 - mae: 7386.1426\n",
      "Epoch 30/100\n",
      "34/34 [==============================] - 0s 2ms/step - loss: 7529.2119 - mae: 7529.2119\n",
      "Epoch 31/100\n",
      "34/34 [==============================] - 0s 2ms/step - loss: 7484.8950 - mae: 7484.8950\n",
      "Epoch 32/100\n",
      "34/34 [==============================] - 0s 2ms/step - loss: 7391.9497 - mae: 7391.9497\n",
      "Epoch 33/100\n",
      "34/34 [==============================] - 0s 2ms/step - loss: 7405.2129 - mae: 7405.2129\n",
      "Epoch 34/100\n",
      "34/34 [==============================] - 0s 2ms/step - loss: 7429.5459 - mae: 7429.5459\n",
      "Epoch 35/100\n",
      "34/34 [==============================] - 0s 2ms/step - loss: 7416.5088 - mae: 7416.5088\n",
      "Epoch 36/100\n",
      "34/34 [==============================] - 0s 3ms/step - loss: 7426.6001 - mae: 7426.6001\n",
      "Epoch 37/100\n",
      "34/34 [==============================] - 0s 3ms/step - loss: 7448.9692 - mae: 7448.9692\n",
      "Epoch 38/100\n",
      "34/34 [==============================] - 0s 3ms/step - loss: 7472.6226 - mae: 7472.6226\n",
      "Epoch 39/100\n",
      "34/34 [==============================] - 0s 2ms/step - loss: 7350.9331 - mae: 7350.9331\n",
      "Epoch 40/100\n",
      "34/34 [==============================] - 0s 2ms/step - loss: 7366.2178 - mae: 7366.2178\n",
      "Epoch 41/100\n",
      "34/34 [==============================] - 0s 3ms/step - loss: 7573.7866 - mae: 7573.7866\n",
      "Epoch 42/100\n",
      "34/34 [==============================] - 0s 2ms/step - loss: 7552.7227 - mae: 7552.7227\n",
      "Epoch 43/100\n",
      "34/34 [==============================] - 0s 2ms/step - loss: 7508.1431 - mae: 7508.1431\n",
      "Epoch 44/100\n",
      "34/34 [==============================] - 0s 2ms/step - loss: 7340.7715 - mae: 7340.7715\n",
      "Epoch 45/100\n",
      "34/34 [==============================] - 0s 2ms/step - loss: 7512.8066 - mae: 7512.8066\n",
      "Epoch 46/100\n",
      "34/34 [==============================] - 0s 3ms/step - loss: 7354.3188 - mae: 7354.3188\n",
      "Epoch 47/100\n",
      "34/34 [==============================] - 0s 2ms/step - loss: 7460.1953 - mae: 7460.1953\n",
      "Epoch 48/100\n",
      "34/34 [==============================] - 0s 3ms/step - loss: 7341.1226 - mae: 7341.1226\n",
      "Epoch 49/100\n",
      "34/34 [==============================] - 0s 3ms/step - loss: 7437.3911 - mae: 7437.3911\n",
      "Epoch 50/100\n",
      "34/34 [==============================] - 0s 3ms/step - loss: 7249.1655 - mae: 7249.1655\n",
      "Epoch 51/100\n",
      "34/34 [==============================] - 0s 2ms/step - loss: 7417.3662 - mae: 7417.3662\n",
      "Epoch 52/100\n",
      "34/34 [==============================] - 0s 3ms/step - loss: 7361.6074 - mae: 7361.6074\n",
      "Epoch 53/100\n",
      "34/34 [==============================] - 0s 2ms/step - loss: 7598.3389 - mae: 7598.3389\n",
      "Epoch 54/100\n",
      "34/34 [==============================] - 0s 2ms/step - loss: 7356.9185 - mae: 7356.9185\n",
      "Epoch 55/100\n",
      "34/34 [==============================] - 0s 2ms/step - loss: 7306.8579 - mae: 7306.8579\n",
      "Epoch 56/100\n",
      "34/34 [==============================] - 0s 2ms/step - loss: 7396.2012 - mae: 7396.2012\n",
      "Epoch 57/100\n",
      "34/34 [==============================] - 0s 2ms/step - loss: 7316.9580 - mae: 7316.9580\n",
      "Epoch 58/100\n",
      "34/34 [==============================] - 0s 2ms/step - loss: 7373.8247 - mae: 7373.8247\n",
      "Epoch 59/100\n",
      "34/34 [==============================] - 0s 2ms/step - loss: 7435.1187 - mae: 7435.1187\n",
      "Epoch 60/100\n",
      "34/34 [==============================] - 0s 2ms/step - loss: 7435.7070 - mae: 7435.7070\n",
      "Epoch 61/100\n",
      "34/34 [==============================] - 0s 2ms/step - loss: 7402.6665 - mae: 7402.6665\n",
      "Epoch 62/100\n",
      "34/34 [==============================] - 0s 3ms/step - loss: 7297.6567 - mae: 7297.6567\n",
      "Epoch 63/100\n",
      "34/34 [==============================] - 0s 3ms/step - loss: 7525.0923 - mae: 7525.0923\n",
      "Epoch 64/100\n",
      "34/34 [==============================] - 0s 3ms/step - loss: 7398.4756 - mae: 7398.4756\n",
      "Epoch 65/100\n",
      "34/34 [==============================] - 0s 2ms/step - loss: 7493.0483 - mae: 7493.0483\n",
      "Epoch 66/100\n",
      "34/34 [==============================] - 0s 2ms/step - loss: 7451.7646 - mae: 7451.7646\n",
      "Epoch 67/100\n",
      "34/34 [==============================] - 0s 2ms/step - loss: 7413.9893 - mae: 7413.9893\n",
      "Epoch 68/100\n",
      "34/34 [==============================] - 0s 3ms/step - loss: 7519.2988 - mae: 7519.2988\n",
      "Epoch 69/100\n",
      "34/34 [==============================] - 0s 2ms/step - loss: 7523.0664 - mae: 7523.0664\n",
      "Epoch 70/100\n",
      "34/34 [==============================] - 0s 2ms/step - loss: 7579.5190 - mae: 7579.5190\n",
      "Epoch 71/100\n",
      "34/34 [==============================] - 0s 3ms/step - loss: 7460.9834 - mae: 7460.9834\n",
      "Epoch 72/100\n",
      "34/34 [==============================] - 0s 3ms/step - loss: 7347.5679 - mae: 7347.5679\n",
      "Epoch 73/100\n",
      "34/34 [==============================] - 0s 2ms/step - loss: 7329.5103 - mae: 7329.5103\n",
      "Epoch 74/100\n",
      "34/34 [==============================] - 0s 3ms/step - loss: 7475.4634 - mae: 7475.4634\n",
      "Epoch 75/100\n",
      "34/34 [==============================] - 0s 3ms/step - loss: 7308.4697 - mae: 7308.4697\n",
      "Epoch 76/100\n",
      "34/34 [==============================] - 0s 2ms/step - loss: 7356.0659 - mae: 7356.0659\n",
      "Epoch 77/100\n",
      "34/34 [==============================] - 0s 3ms/step - loss: 7479.7979 - mae: 7479.7979\n",
      "Epoch 78/100\n",
      "34/34 [==============================] - 0s 3ms/step - loss: 7533.3203 - mae: 7533.3203\n",
      "Epoch 79/100\n",
      "34/34 [==============================] - 0s 3ms/step - loss: 7485.8887 - mae: 7485.8887\n",
      "Epoch 80/100\n",
      "34/34 [==============================] - 0s 3ms/step - loss: 7310.7012 - mae: 7310.7012\n",
      "Epoch 81/100\n",
      "34/34 [==============================] - 0s 3ms/step - loss: 7387.5889 - mae: 7387.5889\n",
      "Epoch 82/100\n",
      "34/34 [==============================] - 0s 3ms/step - loss: 7507.8306 - mae: 7507.8306\n",
      "Epoch 83/100\n",
      "34/34 [==============================] - 0s 3ms/step - loss: 7404.0322 - mae: 7404.0322\n",
      "Epoch 84/100\n",
      "34/34 [==============================] - 0s 2ms/step - loss: 7387.2637 - mae: 7387.2637\n",
      "Epoch 85/100\n",
      "34/34 [==============================] - 0s 2ms/step - loss: 7271.0381 - mae: 7271.0381\n",
      "Epoch 86/100\n",
      "34/34 [==============================] - 0s 2ms/step - loss: 7441.9341 - mae: 7441.9341\n",
      "Epoch 87/100\n",
      "34/34 [==============================] - 0s 2ms/step - loss: 7350.6489 - mae: 7350.6489\n",
      "Epoch 88/100\n",
      "34/34 [==============================] - 0s 2ms/step - loss: 7428.4829 - mae: 7428.4829\n",
      "Epoch 89/100\n",
      "34/34 [==============================] - 0s 2ms/step - loss: 7471.2788 - mae: 7471.2788\n",
      "Epoch 90/100\n",
      "34/34 [==============================] - 0s 2ms/step - loss: 7424.3877 - mae: 7424.3877\n",
      "Epoch 91/100\n",
      "34/34 [==============================] - 0s 2ms/step - loss: 7486.9487 - mae: 7486.9487\n",
      "Epoch 92/100\n",
      "34/34 [==============================] - 0s 2ms/step - loss: 7462.7969 - mae: 7462.7969\n",
      "Epoch 93/100\n",
      "34/34 [==============================] - 0s 2ms/step - loss: 7389.3506 - mae: 7389.3506\n",
      "Epoch 94/100\n",
      "34/34 [==============================] - 0s 3ms/step - loss: 7444.7412 - mae: 7444.7412\n",
      "Epoch 95/100\n",
      "34/34 [==============================] - 0s 2ms/step - loss: 7534.9238 - mae: 7534.9238\n",
      "Epoch 96/100\n",
      "34/34 [==============================] - 0s 2ms/step - loss: 7320.1025 - mae: 7320.1025\n",
      "Epoch 97/100\n",
      "34/34 [==============================] - 0s 2ms/step - loss: 7429.3804 - mae: 7429.3804\n",
      "Epoch 98/100\n",
      "34/34 [==============================] - 0s 2ms/step - loss: 7391.7744 - mae: 7391.7744\n",
      "Epoch 99/100\n",
      "34/34 [==============================] - 0s 2ms/step - loss: 7363.4497 - mae: 7363.4497\n",
      "Epoch 100/100\n",
      "34/34 [==============================] - 0s 2ms/step - loss: 7421.4512 - mae: 7421.4512\n"
     ]
    },
    {
     "data": {
      "text/plain": [
       "<keras.src.callbacks.History at 0x7f5419df1c90>"
      ]
     },
     "execution_count": 67,
     "metadata": {},
     "output_type": "execute_result"
    }
   ],
   "source": [
    "# Build a neural network (sort of like model_2 above)\n",
    "\n",
    "# Set random seed \n",
    "tf.random.set_seed(42)\n",
    "\n",
    "# 1. Create a model\n",
    "insurance_model = tf.keras.Sequential([\n",
    "    tf.keras.layers.Dense(10),\n",
    "    tf.keras.layers.Dense(1)\n",
    "])\n",
    "\n",
    "# 2. Compile the model\n",
    "insurance_model.compile(loss=tf.keras.losses.mae,\n",
    "                        optimizer=tf.keras.optimizers.SGD(),\n",
    "                        metrics=['mae'])\n",
    "\n",
    "# 3. Fit the model\n",
    "insurance_model.fit(X_train, y_train, epochs=100)\n",
    "\n"
   ]
  },
  {
   "cell_type": "code",
   "execution_count": 68,
   "metadata": {},
   "outputs": [
    {
     "name": "stdout",
     "output_type": "stream",
     "text": [
      "Model: \"sequential_9\"\n",
      "_________________________________________________________________\n",
      " Layer (type)                Output Shape              Param #   \n",
      "=================================================================\n",
      " dense_16 (Dense)            (None, 10)                20        \n",
      "                                                                 \n",
      " dense_17 (Dense)            (None, 1)                 11        \n",
      "                                                                 \n",
      "=================================================================\n",
      "Total params: 31 (124.00 Byte)\n",
      "Trainable params: 31 (124.00 Byte)\n",
      "Non-trainable params: 0 (0.00 Byte)\n",
      "_________________________________________________________________\n"
     ]
    }
   ],
   "source": [
    "insurance_model.summary()"
   ]
  },
  {
   "cell_type": "code",
   "execution_count": 69,
   "metadata": {},
   "outputs": [
    {
     "name": "stdout",
     "output_type": "stream",
     "text": [
      "9/9 [==============================] - 0s 2ms/step - loss: 7706.1465 - mae: 7706.1465\n"
     ]
    },
    {
     "data": {
      "text/plain": [
       "[7706.146484375, 7706.146484375]"
      ]
     },
     "execution_count": 69,
     "metadata": {},
     "output_type": "execute_result"
    }
   ],
   "source": [
    "# Check the results of the insurance model on the test data\n",
    "insurance_model.evaluate(X_test, y_test)"
   ]
  },
  {
   "cell_type": "code",
   "execution_count": 70,
   "metadata": {},
   "outputs": [
    {
     "data": {
      "text/plain": [
       "560      9193.83850\n",
       "1285     8534.67180\n",
       "1142    27117.99378\n",
       "969      8596.82780\n",
       "486     12475.35130\n",
       "           ...     \n",
       "1095     4561.18850\n",
       "1130     8582.30230\n",
       "1294    11931.12525\n",
       "860     46113.51100\n",
       "1126    10214.63600\n",
       "Name: charges, Length: 1070, dtype: float64"
      ]
     },
     "execution_count": 70,
     "metadata": {},
     "output_type": "execute_result"
    }
   ],
   "source": [
    "y_train"
   ]
  },
  {
   "cell_type": "code",
   "execution_count": 71,
   "metadata": {},
   "outputs": [
    {
     "data": {
      "text/plain": [
       "(9575.4421, 13346.089736364485)"
      ]
     },
     "execution_count": 71,
     "metadata": {},
     "output_type": "execute_result"
    }
   ],
   "source": [
    "y_train.median(), y_train.mean()"
   ]
  },
  {
   "cell_type": "markdown",
   "metadata": {},
   "source": [
    "Right now it looks like our model isn't performing too well... Let's try and improve it.\n",
    "\n",
    "To try to improve our model, we'll run 2 experiments:\n",
    "1. Add an extra layer with more hidden units and use Adam optimizer.\n",
    "2. Train for longer"
   ]
  },
  {
   "cell_type": "code",
   "execution_count": 72,
   "metadata": {},
   "outputs": [
    {
     "name": "stdout",
     "output_type": "stream",
     "text": [
      "Epoch 1/100\n",
      "34/34 [==============================] - 1s 2ms/step - loss: 13314.8154 - mae: 13314.8154\n",
      "Epoch 2/100\n",
      "34/34 [==============================] - 0s 3ms/step - loss: 13206.8135 - mae: 13206.8135\n",
      "Epoch 3/100\n",
      "34/34 [==============================] - 0s 3ms/step - loss: 12997.3916 - mae: 12997.3916\n",
      "Epoch 4/100\n",
      "34/34 [==============================] - 0s 3ms/step - loss: 12606.7529 - mae: 12606.7529\n",
      "Epoch 5/100\n",
      "34/34 [==============================] - 0s 3ms/step - loss: 11952.5977 - mae: 11952.5977\n",
      "Epoch 6/100\n",
      "34/34 [==============================] - 0s 3ms/step - loss: 10939.2080 - mae: 10939.2080\n",
      "Epoch 7/100\n",
      "34/34 [==============================] - 0s 3ms/step - loss: 9561.2393 - mae: 9561.2393\n",
      "Epoch 8/100\n",
      "34/34 [==============================] - 0s 3ms/step - loss: 8085.5664 - mae: 8085.5664\n",
      "Epoch 9/100\n",
      "34/34 [==============================] - 0s 3ms/step - loss: 7137.6060 - mae: 7137.6060\n",
      "Epoch 10/100\n",
      "34/34 [==============================] - 0s 3ms/step - loss: 6998.8540 - mae: 6998.8540\n",
      "Epoch 11/100\n",
      "34/34 [==============================] - 0s 3ms/step - loss: 6999.6304 - mae: 6999.6304\n",
      "Epoch 12/100\n",
      "34/34 [==============================] - 0s 3ms/step - loss: 6997.5552 - mae: 6997.5552\n",
      "Epoch 13/100\n",
      "34/34 [==============================] - 0s 3ms/step - loss: 6996.5161 - mae: 6996.5161\n",
      "Epoch 14/100\n",
      "34/34 [==============================] - 0s 2ms/step - loss: 6995.1777 - mae: 6995.1777\n",
      "Epoch 15/100\n",
      "34/34 [==============================] - 0s 5ms/step - loss: 6996.1504 - mae: 6996.1504\n",
      "Epoch 16/100\n",
      "34/34 [==============================] - 0s 3ms/step - loss: 6994.6968 - mae: 6994.6968\n",
      "Epoch 17/100\n",
      "34/34 [==============================] - 0s 2ms/step - loss: 6994.4785 - mae: 6994.4785\n",
      "Epoch 18/100\n",
      "34/34 [==============================] - 0s 3ms/step - loss: 6993.3203 - mae: 6993.3203\n",
      "Epoch 19/100\n",
      "34/34 [==============================] - 0s 2ms/step - loss: 6992.8711 - mae: 6992.8711\n",
      "Epoch 20/100\n",
      "34/34 [==============================] - 0s 3ms/step - loss: 6992.0186 - mae: 6992.0186\n",
      "Epoch 21/100\n",
      "34/34 [==============================] - 0s 3ms/step - loss: 6993.4077 - mae: 6993.4077\n",
      "Epoch 22/100\n",
      "34/34 [==============================] - 0s 3ms/step - loss: 6990.8267 - mae: 6990.8267\n",
      "Epoch 23/100\n",
      "34/34 [==============================] - 0s 3ms/step - loss: 6991.0459 - mae: 6991.0459\n",
      "Epoch 24/100\n",
      "34/34 [==============================] - 0s 3ms/step - loss: 6989.9292 - mae: 6989.9292\n",
      "Epoch 25/100\n",
      "34/34 [==============================] - 0s 3ms/step - loss: 6993.2378 - mae: 6993.2378\n",
      "Epoch 26/100\n",
      "34/34 [==============================] - 0s 3ms/step - loss: 6989.4531 - mae: 6989.4531\n",
      "Epoch 27/100\n",
      "34/34 [==============================] - 0s 3ms/step - loss: 6987.9531 - mae: 6987.9531\n",
      "Epoch 28/100\n",
      "34/34 [==============================] - 0s 2ms/step - loss: 6986.5264 - mae: 6986.5264\n",
      "Epoch 29/100\n",
      "34/34 [==============================] - 0s 3ms/step - loss: 6985.9907 - mae: 6985.9907\n",
      "Epoch 30/100\n",
      "34/34 [==============================] - 0s 2ms/step - loss: 6987.7124 - mae: 6987.7124\n",
      "Epoch 31/100\n",
      "34/34 [==============================] - 0s 2ms/step - loss: 6985.2441 - mae: 6985.2441\n",
      "Epoch 32/100\n",
      "34/34 [==============================] - 0s 2ms/step - loss: 6984.3979 - mae: 6984.3979\n",
      "Epoch 33/100\n",
      "34/34 [==============================] - 0s 3ms/step - loss: 6983.8789 - mae: 6983.8789\n",
      "Epoch 34/100\n",
      "34/34 [==============================] - 0s 3ms/step - loss: 6984.5640 - mae: 6984.5640\n",
      "Epoch 35/100\n",
      "34/34 [==============================] - 0s 3ms/step - loss: 6983.3022 - mae: 6983.3022\n",
      "Epoch 36/100\n",
      "34/34 [==============================] - 0s 3ms/step - loss: 6981.8662 - mae: 6981.8662\n",
      "Epoch 37/100\n",
      "34/34 [==============================] - 0s 3ms/step - loss: 6980.5732 - mae: 6980.5732\n",
      "Epoch 38/100\n",
      "34/34 [==============================] - 0s 3ms/step - loss: 6981.6294 - mae: 6981.6294\n",
      "Epoch 39/100\n",
      "34/34 [==============================] - 0s 3ms/step - loss: 6979.1152 - mae: 6979.1152\n",
      "Epoch 40/100\n",
      "34/34 [==============================] - 0s 3ms/step - loss: 6977.9209 - mae: 6977.9209\n",
      "Epoch 41/100\n",
      "34/34 [==============================] - 0s 3ms/step - loss: 6978.8984 - mae: 6978.8984\n",
      "Epoch 42/100\n",
      "34/34 [==============================] - 0s 3ms/step - loss: 6981.2969 - mae: 6981.2969\n",
      "Epoch 43/100\n",
      "34/34 [==============================] - 0s 4ms/step - loss: 6976.8032 - mae: 6976.8032\n",
      "Epoch 44/100\n",
      "34/34 [==============================] - 0s 3ms/step - loss: 6975.5566 - mae: 6975.5566\n",
      "Epoch 45/100\n",
      "34/34 [==============================] - 0s 3ms/step - loss: 6977.0625 - mae: 6977.0625\n",
      "Epoch 46/100\n",
      "34/34 [==============================] - 0s 3ms/step - loss: 6973.9912 - mae: 6973.9912\n",
      "Epoch 47/100\n",
      "34/34 [==============================] - 0s 3ms/step - loss: 6975.8408 - mae: 6975.8408\n",
      "Epoch 48/100\n",
      "34/34 [==============================] - 0s 3ms/step - loss: 6972.7041 - mae: 6972.7041\n",
      "Epoch 49/100\n",
      "34/34 [==============================] - 0s 3ms/step - loss: 6974.3667 - mae: 6974.3667\n",
      "Epoch 50/100\n",
      "34/34 [==============================] - 0s 3ms/step - loss: 6970.8740 - mae: 6970.8740\n",
      "Epoch 51/100\n",
      "34/34 [==============================] - 0s 3ms/step - loss: 6972.9951 - mae: 6972.9951\n",
      "Epoch 52/100\n",
      "34/34 [==============================] - 0s 3ms/step - loss: 6972.2476 - mae: 6972.2476\n",
      "Epoch 53/100\n",
      "34/34 [==============================] - 0s 3ms/step - loss: 6969.4497 - mae: 6969.4497\n",
      "Epoch 54/100\n",
      "34/34 [==============================] - 0s 3ms/step - loss: 6968.0879 - mae: 6968.0879\n",
      "Epoch 55/100\n",
      "34/34 [==============================] - 0s 3ms/step - loss: 6967.4429 - mae: 6967.4429\n",
      "Epoch 56/100\n",
      "34/34 [==============================] - 0s 3ms/step - loss: 6966.0479 - mae: 6966.0479\n",
      "Epoch 57/100\n",
      "34/34 [==============================] - 0s 3ms/step - loss: 6965.3999 - mae: 6965.3999\n",
      "Epoch 58/100\n",
      "34/34 [==============================] - 0s 3ms/step - loss: 6964.4785 - mae: 6964.4785\n",
      "Epoch 59/100\n",
      "34/34 [==============================] - 0s 3ms/step - loss: 6964.0703 - mae: 6964.0703\n",
      "Epoch 60/100\n",
      "34/34 [==============================] - 0s 3ms/step - loss: 6964.1406 - mae: 6964.1406\n",
      "Epoch 61/100\n",
      "34/34 [==============================] - 0s 3ms/step - loss: 6964.2134 - mae: 6964.2134\n",
      "Epoch 62/100\n",
      "34/34 [==============================] - 0s 3ms/step - loss: 6961.3013 - mae: 6961.3013\n",
      "Epoch 63/100\n",
      "34/34 [==============================] - 0s 3ms/step - loss: 6960.6880 - mae: 6960.6880\n",
      "Epoch 64/100\n",
      "34/34 [==============================] - 0s 3ms/step - loss: 6960.7905 - mae: 6960.7905\n",
      "Epoch 65/100\n",
      "34/34 [==============================] - 0s 3ms/step - loss: 6959.5918 - mae: 6959.5918\n",
      "Epoch 66/100\n",
      "34/34 [==============================] - 0s 3ms/step - loss: 6957.8799 - mae: 6957.8799\n",
      "Epoch 67/100\n",
      "34/34 [==============================] - 0s 3ms/step - loss: 6960.2344 - mae: 6960.2344\n",
      "Epoch 68/100\n",
      "34/34 [==============================] - 0s 3ms/step - loss: 6957.1538 - mae: 6957.1538\n",
      "Epoch 69/100\n",
      "34/34 [==============================] - 0s 3ms/step - loss: 6956.2021 - mae: 6956.2021\n",
      "Epoch 70/100\n",
      "34/34 [==============================] - 0s 3ms/step - loss: 6956.3555 - mae: 6956.3555\n",
      "Epoch 71/100\n",
      "34/34 [==============================] - 0s 3ms/step - loss: 6956.3389 - mae: 6956.3389\n",
      "Epoch 72/100\n",
      "34/34 [==============================] - 0s 3ms/step - loss: 6955.4917 - mae: 6955.4917\n",
      "Epoch 73/100\n",
      "34/34 [==============================] - 0s 3ms/step - loss: 6952.9102 - mae: 6952.9102\n",
      "Epoch 74/100\n",
      "34/34 [==============================] - 0s 3ms/step - loss: 6951.2881 - mae: 6951.2881\n",
      "Epoch 75/100\n",
      "34/34 [==============================] - 0s 3ms/step - loss: 6951.0815 - mae: 6951.0815\n",
      "Epoch 76/100\n",
      "34/34 [==============================] - 0s 2ms/step - loss: 6954.8389 - mae: 6954.8389\n",
      "Epoch 77/100\n",
      "34/34 [==============================] - 0s 2ms/step - loss: 6947.6143 - mae: 6947.6143\n",
      "Epoch 78/100\n",
      "34/34 [==============================] - 0s 2ms/step - loss: 6949.0186 - mae: 6949.0186\n",
      "Epoch 79/100\n",
      "34/34 [==============================] - 0s 3ms/step - loss: 6948.5054 - mae: 6948.5054\n",
      "Epoch 80/100\n",
      "34/34 [==============================] - 0s 2ms/step - loss: 6947.4834 - mae: 6947.4834\n",
      "Epoch 81/100\n",
      "34/34 [==============================] - 0s 2ms/step - loss: 6945.4585 - mae: 6945.4585\n",
      "Epoch 82/100\n",
      "34/34 [==============================] - 0s 2ms/step - loss: 6945.7480 - mae: 6945.7480\n",
      "Epoch 83/100\n",
      "34/34 [==============================] - 0s 2ms/step - loss: 6948.6890 - mae: 6948.6890\n",
      "Epoch 84/100\n",
      "34/34 [==============================] - 0s 2ms/step - loss: 6943.4526 - mae: 6943.4526\n",
      "Epoch 85/100\n",
      "34/34 [==============================] - 0s 2ms/step - loss: 6945.2876 - mae: 6945.2876\n",
      "Epoch 86/100\n",
      "34/34 [==============================] - 0s 2ms/step - loss: 6943.0161 - mae: 6943.0161\n",
      "Epoch 87/100\n",
      "34/34 [==============================] - 0s 2ms/step - loss: 6941.5503 - mae: 6941.5503\n",
      "Epoch 88/100\n",
      "34/34 [==============================] - 0s 2ms/step - loss: 6941.0752 - mae: 6941.0752\n",
      "Epoch 89/100\n",
      "34/34 [==============================] - 0s 2ms/step - loss: 6939.1968 - mae: 6939.1968\n",
      "Epoch 90/100\n",
      "34/34 [==============================] - 0s 2ms/step - loss: 6941.3188 - mae: 6941.3188\n",
      "Epoch 91/100\n",
      "34/34 [==============================] - 0s 2ms/step - loss: 6937.2979 - mae: 6937.2979\n",
      "Epoch 92/100\n",
      "34/34 [==============================] - 0s 2ms/step - loss: 6937.7017 - mae: 6937.7017\n",
      "Epoch 93/100\n",
      "34/34 [==============================] - 0s 2ms/step - loss: 6937.9399 - mae: 6937.9399\n",
      "Epoch 94/100\n",
      "34/34 [==============================] - 0s 2ms/step - loss: 6936.5571 - mae: 6936.5571\n",
      "Epoch 95/100\n",
      "34/34 [==============================] - 0s 2ms/step - loss: 6935.3540 - mae: 6935.3540\n",
      "Epoch 96/100\n",
      "34/34 [==============================] - 0s 2ms/step - loss: 6934.4688 - mae: 6934.4688\n",
      "Epoch 97/100\n",
      "34/34 [==============================] - 0s 2ms/step - loss: 6934.4365 - mae: 6934.4365\n",
      "Epoch 98/100\n",
      "34/34 [==============================] - 0s 2ms/step - loss: 6932.1479 - mae: 6932.1479\n",
      "Epoch 99/100\n",
      "34/34 [==============================] - 0s 2ms/step - loss: 6930.7417 - mae: 6930.7417\n",
      "Epoch 100/100\n",
      "34/34 [==============================] - 0s 2ms/step - loss: 6931.4707 - mae: 6931.4707\n"
     ]
    },
    {
     "data": {
      "text/plain": [
       "<keras.src.callbacks.History at 0x7f530be7e990>"
      ]
     },
     "execution_count": 72,
     "metadata": {},
     "output_type": "execute_result"
    }
   ],
   "source": [
    "# Set random seed\n",
    "tf.random.set_seed(42)\n",
    "\n",
    "# 1. Create the model\n",
    "insurance_model_2 = tf.keras.Sequential([\n",
    "    tf.keras.layers.Dense(100),\n",
    "    tf.keras.layers.Dense(10),\n",
    "    tf.keras.layers.Dense(1)\n",
    "])\n",
    "\n",
    "# 2. Compile the model\n",
    "insurance_model_2.compile(loss=tf.keras.losses.mae,\n",
    "                          optimizer=tf.keras.optimizers.Adam(),\n",
    "                          metrics=['mae'])\n",
    "\n",
    "# 3. Fit the model\n",
    "insurance_model_2.fit(X_train, y_train, epochs=100)"
   ]
  },
  {
   "cell_type": "code",
   "execution_count": 73,
   "metadata": {},
   "outputs": [
    {
     "name": "stdout",
     "output_type": "stream",
     "text": [
      "9/9 [==============================] - 0s 2ms/step - loss: 6869.7915 - mae: 6869.7915\n"
     ]
    },
    {
     "data": {
      "text/plain": [
       "[6869.79150390625, 6869.79150390625]"
      ]
     },
     "execution_count": 73,
     "metadata": {},
     "output_type": "execute_result"
    }
   ],
   "source": [
    "# Evaluate the larger model\n",
    "insurance_model_2.evaluate(X_test, y_test)"
   ]
  },
  {
   "cell_type": "code",
   "execution_count": 74,
   "metadata": {},
   "outputs": [
    {
     "name": "stdout",
     "output_type": "stream",
     "text": [
      "Epoch 1/200\n",
      "34/34 [==============================] - 1s 2ms/step - loss: 13290.5830 - mae: 13290.5830\n",
      "Epoch 2/200\n",
      "34/34 [==============================] - 0s 2ms/step - loss: 13156.4805 - mae: 13156.4805\n",
      "Epoch 3/200\n",
      "34/34 [==============================] - 0s 2ms/step - loss: 12910.6631 - mae: 12910.6631\n",
      "Epoch 4/200\n",
      "34/34 [==============================] - 0s 2ms/step - loss: 12471.1240 - mae: 12471.1240\n",
      "Epoch 5/200\n",
      "34/34 [==============================] - 0s 2ms/step - loss: 11756.5732 - mae: 11756.5732\n",
      "Epoch 6/200\n",
      "34/34 [==============================] - 0s 2ms/step - loss: 10674.7969 - mae: 10674.7969\n",
      "Epoch 7/200\n",
      "34/34 [==============================] - 0s 3ms/step - loss: 9261.0420 - mae: 9261.0420\n",
      "Epoch 8/200\n",
      "34/34 [==============================] - 0s 2ms/step - loss: 7837.2891 - mae: 7837.2891\n",
      "Epoch 9/200\n",
      "34/34 [==============================] - 0s 2ms/step - loss: 7068.7837 - mae: 7068.7837\n",
      "Epoch 10/200\n",
      "34/34 [==============================] - 0s 2ms/step - loss: 6998.0303 - mae: 6998.0303\n",
      "Epoch 11/200\n",
      "34/34 [==============================] - 0s 3ms/step - loss: 6999.1382 - mae: 6999.1382\n",
      "Epoch 12/200\n",
      "34/34 [==============================] - 0s 3ms/step - loss: 6997.0254 - mae: 6997.0254\n",
      "Epoch 13/200\n",
      "34/34 [==============================] - 0s 3ms/step - loss: 6995.8740 - mae: 6995.8740\n",
      "Epoch 14/200\n",
      "34/34 [==============================] - 0s 3ms/step - loss: 6994.7866 - mae: 6994.7866\n",
      "Epoch 15/200\n",
      "34/34 [==============================] - 0s 3ms/step - loss: 6995.6675 - mae: 6995.6675\n",
      "Epoch 16/200\n",
      "34/34 [==============================] - 0s 3ms/step - loss: 6994.4932 - mae: 6994.4932\n",
      "Epoch 17/200\n",
      "34/34 [==============================] - 0s 3ms/step - loss: 6994.0093 - mae: 6994.0093\n",
      "Epoch 18/200\n",
      "34/34 [==============================] - 0s 3ms/step - loss: 6992.8501 - mae: 6992.8501\n",
      "Epoch 19/200\n",
      "34/34 [==============================] - 0s 3ms/step - loss: 6992.4111 - mae: 6992.4111\n",
      "Epoch 20/200\n",
      "34/34 [==============================] - 0s 3ms/step - loss: 6991.5547 - mae: 6991.5547\n",
      "Epoch 21/200\n",
      "34/34 [==============================] - 0s 3ms/step - loss: 6993.5225 - mae: 6993.5225\n",
      "Epoch 22/200\n",
      "34/34 [==============================] - 0s 3ms/step - loss: 6990.3027 - mae: 6990.3027\n",
      "Epoch 23/200\n",
      "34/34 [==============================] - 0s 3ms/step - loss: 6990.5923 - mae: 6990.5923\n",
      "Epoch 24/200\n",
      "34/34 [==============================] - 0s 4ms/step - loss: 6989.4688 - mae: 6989.4688\n",
      "Epoch 25/200\n",
      "34/34 [==============================] - 0s 3ms/step - loss: 6992.8398 - mae: 6992.8398\n",
      "Epoch 26/200\n",
      "34/34 [==============================] - 0s 3ms/step - loss: 6988.9858 - mae: 6988.9858\n",
      "Epoch 27/200\n",
      "34/34 [==============================] - 0s 3ms/step - loss: 6987.5190 - mae: 6987.5190\n",
      "Epoch 28/200\n",
      "34/34 [==============================] - 0s 3ms/step - loss: 6986.0879 - mae: 6986.0879\n",
      "Epoch 29/200\n",
      "34/34 [==============================] - 0s 3ms/step - loss: 6985.5166 - mae: 6985.5166\n",
      "Epoch 30/200\n",
      "34/34 [==============================] - 0s 3ms/step - loss: 6987.3110 - mae: 6987.3110\n",
      "Epoch 31/200\n",
      "34/34 [==============================] - 0s 3ms/step - loss: 6984.8374 - mae: 6984.8374\n",
      "Epoch 32/200\n",
      "34/34 [==============================] - 0s 3ms/step - loss: 6984.0459 - mae: 6984.0459\n",
      "Epoch 33/200\n",
      "34/34 [==============================] - 0s 3ms/step - loss: 6984.0088 - mae: 6984.0088\n",
      "Epoch 34/200\n",
      "34/34 [==============================] - 0s 3ms/step - loss: 6984.1270 - mae: 6984.1270\n",
      "Epoch 35/200\n",
      "34/34 [==============================] - 0s 3ms/step - loss: 6982.6895 - mae: 6982.6895\n",
      "Epoch 36/200\n",
      "34/34 [==============================] - 0s 3ms/step - loss: 6981.4648 - mae: 6981.4648\n",
      "Epoch 37/200\n",
      "34/34 [==============================] - 0s 3ms/step - loss: 6980.0981 - mae: 6980.0981\n",
      "Epoch 38/200\n",
      "34/34 [==============================] - 0s 3ms/step - loss: 6981.0952 - mae: 6981.0952\n",
      "Epoch 39/200\n",
      "34/34 [==============================] - 0s 3ms/step - loss: 6978.7227 - mae: 6978.7227\n",
      "Epoch 40/200\n",
      "34/34 [==============================] - 0s 3ms/step - loss: 6977.5229 - mae: 6977.5229\n",
      "Epoch 41/200\n",
      "34/34 [==============================] - 0s 3ms/step - loss: 6978.2480 - mae: 6978.2480\n",
      "Epoch 42/200\n",
      "34/34 [==============================] - 0s 3ms/step - loss: 6980.8477 - mae: 6980.8477\n",
      "Epoch 43/200\n",
      "34/34 [==============================] - 0s 3ms/step - loss: 6976.3301 - mae: 6976.3301\n",
      "Epoch 44/200\n",
      "34/34 [==============================] - 0s 3ms/step - loss: 6975.3008 - mae: 6975.3008\n",
      "Epoch 45/200\n",
      "34/34 [==============================] - 0s 3ms/step - loss: 6976.6729 - mae: 6976.6729\n",
      "Epoch 46/200\n",
      "34/34 [==============================] - 0s 3ms/step - loss: 6973.5854 - mae: 6973.5854\n",
      "Epoch 47/200\n",
      "34/34 [==============================] - 0s 3ms/step - loss: 6975.4971 - mae: 6975.4971\n",
      "Epoch 48/200\n",
      "34/34 [==============================] - 0s 3ms/step - loss: 6972.3047 - mae: 6972.3047\n",
      "Epoch 49/200\n",
      "34/34 [==============================] - 0s 3ms/step - loss: 6973.8438 - mae: 6973.8438\n",
      "Epoch 50/200\n",
      "34/34 [==============================] - 0s 3ms/step - loss: 6970.5151 - mae: 6970.5151\n",
      "Epoch 51/200\n",
      "34/34 [==============================] - 0s 3ms/step - loss: 6972.6460 - mae: 6972.6460\n",
      "Epoch 52/200\n",
      "34/34 [==============================] - 0s 3ms/step - loss: 6971.7285 - mae: 6971.7285\n",
      "Epoch 53/200\n",
      "34/34 [==============================] - 0s 3ms/step - loss: 6968.8296 - mae: 6968.8296\n",
      "Epoch 54/200\n",
      "34/34 [==============================] - 0s 3ms/step - loss: 6967.4731 - mae: 6967.4731\n",
      "Epoch 55/200\n",
      "34/34 [==============================] - 0s 3ms/step - loss: 6967.0605 - mae: 6967.0605\n",
      "Epoch 56/200\n",
      "34/34 [==============================] - 0s 3ms/step - loss: 6965.6377 - mae: 6965.6377\n",
      "Epoch 57/200\n",
      "34/34 [==============================] - 0s 3ms/step - loss: 6964.9287 - mae: 6964.9287\n",
      "Epoch 58/200\n",
      "34/34 [==============================] - 0s 3ms/step - loss: 6964.0645 - mae: 6964.0645\n",
      "Epoch 59/200\n",
      "34/34 [==============================] - 0s 3ms/step - loss: 6963.4731 - mae: 6963.4731\n",
      "Epoch 60/200\n",
      "34/34 [==============================] - 0s 3ms/step - loss: 6963.7554 - mae: 6963.7554\n",
      "Epoch 61/200\n",
      "34/34 [==============================] - 0s 3ms/step - loss: 6963.8135 - mae: 6963.8135\n",
      "Epoch 62/200\n",
      "34/34 [==============================] - 0s 3ms/step - loss: 6960.9146 - mae: 6960.9146\n",
      "Epoch 63/200\n",
      "34/34 [==============================] - 0s 3ms/step - loss: 6960.2378 - mae: 6960.2378\n",
      "Epoch 64/200\n",
      "34/34 [==============================] - 0s 3ms/step - loss: 6960.4531 - mae: 6960.4531\n",
      "Epoch 65/200\n",
      "34/34 [==============================] - 0s 3ms/step - loss: 6959.0776 - mae: 6959.0776\n",
      "Epoch 66/200\n",
      "34/34 [==============================] - 0s 3ms/step - loss: 6957.4922 - mae: 6957.4922\n",
      "Epoch 67/200\n",
      "34/34 [==============================] - 0s 3ms/step - loss: 6959.9409 - mae: 6959.9409\n",
      "Epoch 68/200\n",
      "34/34 [==============================] - 0s 3ms/step - loss: 6956.6919 - mae: 6956.6919\n",
      "Epoch 69/200\n",
      "34/34 [==============================] - 0s 3ms/step - loss: 6955.7983 - mae: 6955.7983\n",
      "Epoch 70/200\n",
      "34/34 [==============================] - 0s 2ms/step - loss: 6955.4863 - mae: 6955.4863\n",
      "Epoch 71/200\n",
      "34/34 [==============================] - 0s 2ms/step - loss: 6956.4292 - mae: 6956.4292\n",
      "Epoch 72/200\n",
      "34/34 [==============================] - 0s 3ms/step - loss: 6955.2578 - mae: 6955.2578\n",
      "Epoch 73/200\n",
      "34/34 [==============================] - 0s 3ms/step - loss: 6952.5488 - mae: 6952.5488\n",
      "Epoch 74/200\n",
      "34/34 [==============================] - 0s 3ms/step - loss: 6950.8501 - mae: 6950.8501\n",
      "Epoch 75/200\n",
      "34/34 [==============================] - 0s 3ms/step - loss: 6950.8691 - mae: 6950.8691\n",
      "Epoch 76/200\n",
      "34/34 [==============================] - 0s 3ms/step - loss: 6954.5044 - mae: 6954.5044\n",
      "Epoch 77/200\n",
      "34/34 [==============================] - 0s 3ms/step - loss: 6947.1035 - mae: 6947.1035\n",
      "Epoch 78/200\n",
      "34/34 [==============================] - 0s 2ms/step - loss: 6948.7783 - mae: 6948.7783\n",
      "Epoch 79/200\n",
      "34/34 [==============================] - 0s 3ms/step - loss: 6947.9336 - mae: 6947.9336\n",
      "Epoch 80/200\n",
      "34/34 [==============================] - 0s 3ms/step - loss: 6947.1021 - mae: 6947.1021\n",
      "Epoch 81/200\n",
      "34/34 [==============================] - 0s 3ms/step - loss: 6945.2378 - mae: 6945.2378\n",
      "Epoch 82/200\n",
      "34/34 [==============================] - 0s 3ms/step - loss: 6945.0503 - mae: 6945.0503\n",
      "Epoch 83/200\n",
      "34/34 [==============================] - 0s 3ms/step - loss: 6948.1445 - mae: 6948.1445\n",
      "Epoch 84/200\n",
      "34/34 [==============================] - 0s 2ms/step - loss: 6943.2402 - mae: 6943.2402\n",
      "Epoch 85/200\n",
      "34/34 [==============================] - 0s 3ms/step - loss: 6944.7354 - mae: 6944.7354\n",
      "Epoch 86/200\n",
      "34/34 [==============================] - 0s 3ms/step - loss: 6942.5649 - mae: 6942.5649\n",
      "Epoch 87/200\n",
      "34/34 [==============================] - 0s 3ms/step - loss: 6941.0708 - mae: 6941.0708\n",
      "Epoch 88/200\n",
      "34/34 [==============================] - 0s 3ms/step - loss: 6940.6899 - mae: 6940.6899\n",
      "Epoch 89/200\n",
      "34/34 [==============================] - 0s 3ms/step - loss: 6938.7485 - mae: 6938.7485\n",
      "Epoch 90/200\n",
      "34/34 [==============================] - 0s 3ms/step - loss: 6941.2915 - mae: 6941.2915\n",
      "Epoch 91/200\n",
      "34/34 [==============================] - 0s 3ms/step - loss: 6936.6685 - mae: 6936.6685\n",
      "Epoch 92/200\n",
      "34/34 [==============================] - 0s 3ms/step - loss: 6937.7114 - mae: 6937.7114\n",
      "Epoch 93/200\n",
      "34/34 [==============================] - 0s 3ms/step - loss: 6937.3359 - mae: 6937.3359\n",
      "Epoch 94/200\n",
      "34/34 [==============================] - 0s 3ms/step - loss: 6936.1450 - mae: 6936.1450\n",
      "Epoch 95/200\n",
      "34/34 [==============================] - 0s 3ms/step - loss: 6934.9727 - mae: 6934.9727\n",
      "Epoch 96/200\n",
      "34/34 [==============================] - 0s 3ms/step - loss: 6934.0337 - mae: 6934.0337\n",
      "Epoch 97/200\n",
      "34/34 [==============================] - 0s 3ms/step - loss: 6934.3716 - mae: 6934.3716\n",
      "Epoch 98/200\n",
      "34/34 [==============================] - 0s 2ms/step - loss: 6931.7979 - mae: 6931.7979\n",
      "Epoch 99/200\n",
      "34/34 [==============================] - 0s 3ms/step - loss: 6930.4521 - mae: 6930.4521\n",
      "Epoch 100/200\n",
      "34/34 [==============================] - 0s 3ms/step - loss: 6930.8774 - mae: 6930.8774\n",
      "Epoch 101/200\n",
      "34/34 [==============================] - 0s 3ms/step - loss: 6929.0430 - mae: 6929.0430\n",
      "Epoch 102/200\n",
      "34/34 [==============================] - 0s 2ms/step - loss: 6927.9839 - mae: 6927.9839\n",
      "Epoch 103/200\n",
      "34/34 [==============================] - 0s 2ms/step - loss: 6926.3394 - mae: 6926.3394\n",
      "Epoch 104/200\n",
      "34/34 [==============================] - 0s 2ms/step - loss: 6927.4731 - mae: 6927.4731\n",
      "Epoch 105/200\n",
      "34/34 [==============================] - 0s 2ms/step - loss: 6925.1206 - mae: 6925.1206\n",
      "Epoch 106/200\n",
      "34/34 [==============================] - 0s 2ms/step - loss: 6923.7671 - mae: 6923.7671\n",
      "Epoch 107/200\n",
      "34/34 [==============================] - 0s 2ms/step - loss: 6922.6201 - mae: 6922.6201\n",
      "Epoch 108/200\n",
      "34/34 [==============================] - 0s 2ms/step - loss: 6933.7715 - mae: 6933.7715\n",
      "Epoch 109/200\n",
      "34/34 [==============================] - 0s 3ms/step - loss: 6922.1421 - mae: 6922.1421\n",
      "Epoch 110/200\n",
      "34/34 [==============================] - 0s 3ms/step - loss: 6925.3511 - mae: 6925.3511\n",
      "Epoch 111/200\n",
      "34/34 [==============================] - 0s 2ms/step - loss: 6923.0806 - mae: 6923.0806\n",
      "Epoch 112/200\n",
      "34/34 [==============================] - 0s 2ms/step - loss: 6919.8931 - mae: 6919.8931\n",
      "Epoch 113/200\n",
      "34/34 [==============================] - 0s 2ms/step - loss: 6921.2207 - mae: 6921.2207\n",
      "Epoch 114/200\n",
      "34/34 [==============================] - 0s 2ms/step - loss: 6917.6606 - mae: 6917.6606\n",
      "Epoch 115/200\n",
      "34/34 [==============================] - 0s 2ms/step - loss: 6918.1050 - mae: 6918.1050\n",
      "Epoch 116/200\n",
      "34/34 [==============================] - 0s 2ms/step - loss: 6916.5850 - mae: 6916.5850\n",
      "Epoch 117/200\n",
      "34/34 [==============================] - 0s 2ms/step - loss: 6916.7891 - mae: 6916.7891\n",
      "Epoch 118/200\n",
      "34/34 [==============================] - 0s 2ms/step - loss: 6914.4604 - mae: 6914.4604\n",
      "Epoch 119/200\n",
      "34/34 [==============================] - 0s 2ms/step - loss: 6915.2197 - mae: 6915.2197\n",
      "Epoch 120/200\n",
      "34/34 [==============================] - 0s 2ms/step - loss: 6912.5596 - mae: 6912.5596\n",
      "Epoch 121/200\n",
      "34/34 [==============================] - 0s 2ms/step - loss: 6912.1226 - mae: 6912.1226\n",
      "Epoch 122/200\n",
      "34/34 [==============================] - 0s 3ms/step - loss: 6911.1143 - mae: 6911.1143\n",
      "Epoch 123/200\n",
      "34/34 [==============================] - 0s 2ms/step - loss: 6909.3823 - mae: 6909.3823\n",
      "Epoch 124/200\n",
      "34/34 [==============================] - 0s 2ms/step - loss: 6908.2637 - mae: 6908.2637\n",
      "Epoch 125/200\n",
      "34/34 [==============================] - 0s 2ms/step - loss: 6911.0386 - mae: 6911.0386\n",
      "Epoch 126/200\n",
      "34/34 [==============================] - 0s 2ms/step - loss: 6906.8105 - mae: 6906.8105\n",
      "Epoch 127/200\n",
      "34/34 [==============================] - 0s 2ms/step - loss: 6906.2324 - mae: 6906.2324\n",
      "Epoch 128/200\n",
      "34/34 [==============================] - 0s 2ms/step - loss: 6905.5347 - mae: 6905.5347\n",
      "Epoch 129/200\n",
      "34/34 [==============================] - 0s 2ms/step - loss: 6903.5229 - mae: 6903.5229\n",
      "Epoch 130/200\n",
      "34/34 [==============================] - 0s 2ms/step - loss: 6903.2549 - mae: 6903.2549\n",
      "Epoch 131/200\n",
      "34/34 [==============================] - 0s 2ms/step - loss: 6905.0312 - mae: 6905.0312\n",
      "Epoch 132/200\n",
      "34/34 [==============================] - 0s 3ms/step - loss: 6908.3389 - mae: 6908.3389\n",
      "Epoch 133/200\n",
      "34/34 [==============================] - 0s 3ms/step - loss: 6900.1182 - mae: 6900.1182\n",
      "Epoch 134/200\n",
      "34/34 [==============================] - 0s 3ms/step - loss: 6899.3394 - mae: 6899.3394\n",
      "Epoch 135/200\n",
      "34/34 [==============================] - 0s 3ms/step - loss: 6898.2729 - mae: 6898.2729\n",
      "Epoch 136/200\n",
      "34/34 [==============================] - 0s 3ms/step - loss: 6896.7256 - mae: 6896.7256\n",
      "Epoch 137/200\n",
      "34/34 [==============================] - 0s 3ms/step - loss: 6896.9585 - mae: 6896.9585\n",
      "Epoch 138/200\n",
      "34/34 [==============================] - 0s 3ms/step - loss: 6894.1118 - mae: 6894.1118\n",
      "Epoch 139/200\n",
      "34/34 [==============================] - 0s 3ms/step - loss: 6893.8999 - mae: 6893.8999\n",
      "Epoch 140/200\n",
      "34/34 [==============================] - 0s 3ms/step - loss: 6894.9824 - mae: 6894.9824\n",
      "Epoch 141/200\n",
      "34/34 [==============================] - 0s 3ms/step - loss: 6893.9102 - mae: 6893.9102\n",
      "Epoch 142/200\n",
      "34/34 [==============================] - 0s 3ms/step - loss: 6892.1880 - mae: 6892.1880\n",
      "Epoch 143/200\n",
      "34/34 [==============================] - 0s 3ms/step - loss: 6896.0806 - mae: 6896.0806\n",
      "Epoch 144/200\n",
      "34/34 [==============================] - 0s 3ms/step - loss: 6892.5005 - mae: 6892.5005\n",
      "Epoch 145/200\n",
      "34/34 [==============================] - 0s 3ms/step - loss: 6889.6299 - mae: 6889.6299\n",
      "Epoch 146/200\n",
      "34/34 [==============================] - 0s 2ms/step - loss: 6892.8677 - mae: 6892.8677\n",
      "Epoch 147/200\n",
      "34/34 [==============================] - 0s 2ms/step - loss: 6888.6572 - mae: 6888.6572\n",
      "Epoch 148/200\n",
      "34/34 [==============================] - 0s 2ms/step - loss: 6885.3594 - mae: 6885.3594\n",
      "Epoch 149/200\n",
      "34/34 [==============================] - 0s 2ms/step - loss: 6884.8154 - mae: 6884.8154\n",
      "Epoch 150/200\n",
      "34/34 [==============================] - 0s 2ms/step - loss: 6883.5215 - mae: 6883.5215\n",
      "Epoch 151/200\n",
      "34/34 [==============================] - 0s 3ms/step - loss: 6883.2915 - mae: 6883.2915\n",
      "Epoch 152/200\n",
      "34/34 [==============================] - 0s 2ms/step - loss: 6881.1201 - mae: 6881.1201\n",
      "Epoch 153/200\n",
      "34/34 [==============================] - 0s 2ms/step - loss: 6884.2402 - mae: 6884.2402\n",
      "Epoch 154/200\n",
      "34/34 [==============================] - 0s 2ms/step - loss: 6880.2695 - mae: 6880.2695\n",
      "Epoch 155/200\n",
      "34/34 [==============================] - 0s 2ms/step - loss: 6878.4106 - mae: 6878.4106\n",
      "Epoch 156/200\n",
      "34/34 [==============================] - 0s 2ms/step - loss: 6877.0981 - mae: 6877.0981\n",
      "Epoch 157/200\n",
      "34/34 [==============================] - 0s 2ms/step - loss: 6876.7188 - mae: 6876.7188\n",
      "Epoch 158/200\n",
      "34/34 [==============================] - 0s 2ms/step - loss: 6877.5557 - mae: 6877.5557\n",
      "Epoch 159/200\n",
      "34/34 [==============================] - 0s 2ms/step - loss: 6874.6748 - mae: 6874.6748\n",
      "Epoch 160/200\n",
      "34/34 [==============================] - 0s 3ms/step - loss: 6875.1099 - mae: 6875.1099\n",
      "Epoch 161/200\n",
      "34/34 [==============================] - 0s 2ms/step - loss: 6873.1704 - mae: 6873.1704\n",
      "Epoch 162/200\n",
      "34/34 [==============================] - 0s 2ms/step - loss: 6870.2773 - mae: 6870.2773\n",
      "Epoch 163/200\n",
      "34/34 [==============================] - 0s 3ms/step - loss: 6869.8008 - mae: 6869.8008\n",
      "Epoch 164/200\n",
      "34/34 [==============================] - 0s 4ms/step - loss: 6868.7002 - mae: 6868.7002\n",
      "Epoch 165/200\n",
      "34/34 [==============================] - 0s 4ms/step - loss: 6870.1899 - mae: 6870.1899\n",
      "Epoch 166/200\n",
      "34/34 [==============================] - 0s 3ms/step - loss: 6866.9263 - mae: 6866.9263\n",
      "Epoch 167/200\n",
      "34/34 [==============================] - 0s 3ms/step - loss: 6865.8276 - mae: 6865.8276\n",
      "Epoch 168/200\n",
      "34/34 [==============================] - 0s 3ms/step - loss: 6867.1685 - mae: 6867.1685\n",
      "Epoch 169/200\n",
      "34/34 [==============================] - 0s 3ms/step - loss: 6864.5986 - mae: 6864.5986\n",
      "Epoch 170/200\n",
      "34/34 [==============================] - 0s 3ms/step - loss: 6861.8569 - mae: 6861.8569\n",
      "Epoch 171/200\n",
      "34/34 [==============================] - 0s 3ms/step - loss: 6862.8447 - mae: 6862.8447\n",
      "Epoch 172/200\n",
      "34/34 [==============================] - 0s 3ms/step - loss: 6861.8818 - mae: 6861.8818\n",
      "Epoch 173/200\n",
      "34/34 [==============================] - 0s 3ms/step - loss: 6861.6694 - mae: 6861.6694\n",
      "Epoch 174/200\n",
      "34/34 [==============================] - 0s 3ms/step - loss: 6858.7158 - mae: 6858.7158\n",
      "Epoch 175/200\n",
      "34/34 [==============================] - 0s 3ms/step - loss: 6856.3154 - mae: 6856.3154\n",
      "Epoch 176/200\n",
      "34/34 [==============================] - 0s 3ms/step - loss: 6855.6592 - mae: 6855.6592\n",
      "Epoch 177/200\n",
      "34/34 [==============================] - 0s 3ms/step - loss: 6853.1938 - mae: 6853.1938\n",
      "Epoch 178/200\n",
      "34/34 [==============================] - 0s 3ms/step - loss: 6852.2090 - mae: 6852.2090\n",
      "Epoch 179/200\n",
      "34/34 [==============================] - 0s 3ms/step - loss: 6851.8589 - mae: 6851.8589\n",
      "Epoch 180/200\n",
      "34/34 [==============================] - 0s 3ms/step - loss: 6850.4819 - mae: 6850.4819\n",
      "Epoch 181/200\n",
      "34/34 [==============================] - 0s 2ms/step - loss: 6848.9014 - mae: 6848.9014\n",
      "Epoch 182/200\n",
      "34/34 [==============================] - 0s 3ms/step - loss: 6846.3569 - mae: 6846.3569\n",
      "Epoch 183/200\n",
      "34/34 [==============================] - 0s 3ms/step - loss: 6847.1313 - mae: 6847.1313\n",
      "Epoch 184/200\n",
      "34/34 [==============================] - 0s 3ms/step - loss: 6847.2925 - mae: 6847.2925\n",
      "Epoch 185/200\n",
      "34/34 [==============================] - 0s 3ms/step - loss: 6844.7134 - mae: 6844.7134\n",
      "Epoch 186/200\n",
      "34/34 [==============================] - 0s 2ms/step - loss: 6842.4702 - mae: 6842.4702\n",
      "Epoch 187/200\n",
      "34/34 [==============================] - 0s 2ms/step - loss: 6843.3384 - mae: 6843.3384\n",
      "Epoch 188/200\n",
      "34/34 [==============================] - 0s 2ms/step - loss: 6839.6606 - mae: 6839.6606\n",
      "Epoch 189/200\n",
      "34/34 [==============================] - 0s 2ms/step - loss: 6838.9937 - mae: 6838.9937\n",
      "Epoch 190/200\n",
      "34/34 [==============================] - 0s 2ms/step - loss: 6840.5347 - mae: 6840.5347\n",
      "Epoch 191/200\n",
      "34/34 [==============================] - 0s 2ms/step - loss: 6835.4224 - mae: 6835.4224\n",
      "Epoch 192/200\n",
      "34/34 [==============================] - 0s 3ms/step - loss: 6834.4004 - mae: 6834.4004\n",
      "Epoch 193/200\n",
      "34/34 [==============================] - 0s 2ms/step - loss: 6834.7607 - mae: 6834.7607\n",
      "Epoch 194/200\n",
      "34/34 [==============================] - 0s 2ms/step - loss: 6833.6753 - mae: 6833.6753\n",
      "Epoch 195/200\n",
      "34/34 [==============================] - 0s 2ms/step - loss: 6831.2534 - mae: 6831.2534\n",
      "Epoch 196/200\n",
      "34/34 [==============================] - 0s 2ms/step - loss: 6830.3125 - mae: 6830.3125\n",
      "Epoch 197/200\n",
      "34/34 [==============================] - 0s 2ms/step - loss: 6829.3179 - mae: 6829.3179\n",
      "Epoch 198/200\n",
      "34/34 [==============================] - 0s 2ms/step - loss: 6826.3804 - mae: 6826.3804\n",
      "Epoch 199/200\n",
      "34/34 [==============================] - 0s 2ms/step - loss: 6824.6396 - mae: 6824.6396\n",
      "Epoch 200/200\n",
      "34/34 [==============================] - 0s 2ms/step - loss: 6827.9507 - mae: 6827.9507\n"
     ]
    },
    {
     "data": {
      "text/plain": [
       "<keras.src.callbacks.History at 0x7f530834efd0>"
      ]
     },
     "execution_count": 74,
     "metadata": {},
     "output_type": "execute_result"
    }
   ],
   "source": [
    "# Set random seed\n",
    "tf.random.set_seed(42)\n",
    "\n",
    "# 1. Create the model (same as above)\n",
    "insurance_model_3 = tf.keras.Sequential([\n",
    "    tf.keras.layers.Dense(100),\n",
    "    tf.keras.layers.Dense(10),\n",
    "    tf.keras.layers.Dense(1)\n",
    "])\n",
    "\n",
    "# 2. Compile the model\n",
    "insurance_model_3.compile(loss=tf.keras.losses.mae,\n",
    "                          optimizer=tf.keras.optimizers.Adam(),\n",
    "                          metrics=['mae'])\n",
    "\n",
    "# 3. Fit the model\n",
    "insurance_model_3.fit(X_train, y_train, epochs=200)"
   ]
  },
  {
   "cell_type": "code",
   "execution_count": 75,
   "metadata": {},
   "outputs": [
    {
     "name": "stdout",
     "output_type": "stream",
     "text": [
      "9/9 [==============================] - 0s 2ms/step - loss: 6710.9419 - mae: 6710.9419\n"
     ]
    },
    {
     "data": {
      "text/plain": [
       "[6710.94189453125, 6710.94189453125]"
      ]
     },
     "execution_count": 75,
     "metadata": {},
     "output_type": "execute_result"
    }
   ],
   "source": [
    "# Evaluate our third model\n",
    "insurance_model_3.evaluate(X_test, y_test)"
   ]
  },
  {
   "cell_type": "markdown",
   "metadata": {},
   "source": [
    "**Question:** How long should you train for?\n",
    "\n",
    "It depends on the problem you are working on. However, many people have asked this question before... So TensorFlow has a solution, its called the EarlyStopping Callback."
   ]
  },
  {
   "cell_type": "markdown",
   "metadata": {},
   "source": [
    "## Preprocessing data (normalization and standardization)\n",
    "\n",
    "In terms of scaling values, neural networks tend to prefer normalization.\n",
    "\n",
    "If you're not sure on which to use, you could try both and see which performs better."
   ]
  },
  {
   "cell_type": "code",
   "execution_count": 79,
   "metadata": {},
   "outputs": [
    {
     "data": {
      "text/html": [
       "<div>\n",
       "<style scoped>\n",
       "    .dataframe tbody tr th:only-of-type {\n",
       "        vertical-align: middle;\n",
       "    }\n",
       "\n",
       "    .dataframe tbody tr th {\n",
       "        vertical-align: top;\n",
       "    }\n",
       "\n",
       "    .dataframe thead th {\n",
       "        text-align: right;\n",
       "    }\n",
       "</style>\n",
       "<table border=\"1\" class=\"dataframe\">\n",
       "  <thead>\n",
       "    <tr style=\"text-align: right;\">\n",
       "      <th></th>\n",
       "      <th>age</th>\n",
       "      <th>sex</th>\n",
       "      <th>bmi</th>\n",
       "      <th>children</th>\n",
       "      <th>smoker</th>\n",
       "      <th>region</th>\n",
       "      <th>charges</th>\n",
       "    </tr>\n",
       "  </thead>\n",
       "  <tbody>\n",
       "    <tr>\n",
       "      <th>0</th>\n",
       "      <td>19</td>\n",
       "      <td>female</td>\n",
       "      <td>27.900</td>\n",
       "      <td>0</td>\n",
       "      <td>yes</td>\n",
       "      <td>southwest</td>\n",
       "      <td>16884.92400</td>\n",
       "    </tr>\n",
       "    <tr>\n",
       "      <th>1</th>\n",
       "      <td>18</td>\n",
       "      <td>male</td>\n",
       "      <td>33.770</td>\n",
       "      <td>1</td>\n",
       "      <td>no</td>\n",
       "      <td>southeast</td>\n",
       "      <td>1725.55230</td>\n",
       "    </tr>\n",
       "    <tr>\n",
       "      <th>2</th>\n",
       "      <td>28</td>\n",
       "      <td>male</td>\n",
       "      <td>33.000</td>\n",
       "      <td>3</td>\n",
       "      <td>no</td>\n",
       "      <td>southeast</td>\n",
       "      <td>4449.46200</td>\n",
       "    </tr>\n",
       "    <tr>\n",
       "      <th>3</th>\n",
       "      <td>33</td>\n",
       "      <td>male</td>\n",
       "      <td>22.705</td>\n",
       "      <td>0</td>\n",
       "      <td>no</td>\n",
       "      <td>northwest</td>\n",
       "      <td>21984.47061</td>\n",
       "    </tr>\n",
       "    <tr>\n",
       "      <th>4</th>\n",
       "      <td>32</td>\n",
       "      <td>male</td>\n",
       "      <td>28.880</td>\n",
       "      <td>0</td>\n",
       "      <td>no</td>\n",
       "      <td>northwest</td>\n",
       "      <td>3866.85520</td>\n",
       "    </tr>\n",
       "  </tbody>\n",
       "</table>\n",
       "</div>"
      ],
      "text/plain": [
       "   age     sex     bmi  children smoker     region      charges\n",
       "0   19  female  27.900         0    yes  southwest  16884.92400\n",
       "1   18    male  33.770         1     no  southeast   1725.55230\n",
       "2   28    male  33.000         3     no  southeast   4449.46200\n",
       "3   33    male  22.705         0     no  northwest  21984.47061\n",
       "4   32    male  28.880         0     no  northwest   3866.85520"
      ]
     },
     "execution_count": 79,
     "metadata": {},
     "output_type": "execute_result"
    }
   ],
   "source": [
    "import pandas as pd\n",
    "import matplotlib.pyplot as plt\n",
    "import tensorflow as tf\n",
    "\n",
    "# Read in hte insurance dataframe\n",
    "insurance = pd.read_csv('./tensorflow-bootcamp/insurance.csv')\n",
    "insurance.head()"
   ]
  },
  {
   "cell_type": "markdown",
   "metadata": {},
   "source": [
    "To prepare our data, we can borrow a few classes from Scikit-Learn."
   ]
  },
  {
   "cell_type": "code",
   "execution_count": 80,
   "metadata": {},
   "outputs": [],
   "source": [
    "from sklearn.compose import make_column_transformer\n",
    "from sklearn.preprocessing import MinMaxScaler, OneHotEncoder\n",
    "from sklearn.model_selection import train_test_split\n",
    "\n",
    "# Create a column transformer\n",
    "ct = make_column_transformer(\n",
    "    (MinMaxScaler(), ['age', 'bmi', 'children']), # Turn all values in these columns between 0 and 1\n",
    "    (OneHotEncoder(handle_unknown='ignore'), ['sex', 'smoker', 'region']) # One-hot encode categorical data\n",
    ")\n",
    "\n",
    "# Create X & y values\n",
    "X = insurance.drop('charges', axis=1)\n",
    "y = insurance['charges']\n",
    "\n",
    "# Build our train and test sets\n",
    "X_train, X_test, y_train, y_test = train_test_split(X, y, test_size=0.2, random_state=42)\n",
    "\n",
    "# Fit the column transformer to our training data\n",
    "ct.fit(X_train)\n",
    "\n",
    "# Transform training and test data with normalization (MinMaxScaler) and OneHotEncoder\n",
    "X_train_normal = ct.transform(X_train)\n",
    "X_test_normal = ct.transform(X_test)"
   ]
  },
  {
   "cell_type": "code",
   "execution_count": 87,
   "metadata": {},
   "outputs": [
    {
     "data": {
      "text/plain": [
       "(age                19\n",
       " sex            female\n",
       " bmi              27.9\n",
       " children            0\n",
       " smoker            yes\n",
       " region      southwest\n",
       " Name: 0, dtype: object,\n",
       " (1070, 6))"
      ]
     },
     "execution_count": 87,
     "metadata": {},
     "output_type": "execute_result"
    }
   ],
   "source": [
    "# What does our data look like now?\n",
    "X_train.loc[0], X_train.shape"
   ]
  },
  {
   "cell_type": "code",
   "execution_count": 86,
   "metadata": {},
   "outputs": [
    {
     "data": {
      "text/plain": [
       "(1070, 11)"
      ]
     },
     "execution_count": 86,
     "metadata": {},
     "output_type": "execute_result"
    }
   ],
   "source": [
    "X_train_normal.shape"
   ]
  },
  {
   "cell_type": "markdown",
   "metadata": {},
   "source": [
    "Our data has been normalized and one hot encoded.\n",
    "Now let's build a neural network model on it and see how it goes."
   ]
  },
  {
   "cell_type": "code",
   "execution_count": 91,
   "metadata": {},
   "outputs": [
    {
     "name": "stdout",
     "output_type": "stream",
     "text": [
      "Epoch 1/100\n",
      "34/34 [==============================] - 1s 5ms/step - loss: 13344.0273 - mae: 13344.0273\n",
      "Epoch 2/100\n",
      "34/34 [==============================] - 0s 4ms/step - loss: 13336.2666 - mae: 13336.2666\n",
      "Epoch 3/100\n",
      "34/34 [==============================] - 0s 2ms/step - loss: 13316.4756 - mae: 13316.4756\n",
      "Epoch 4/100\n",
      "34/34 [==============================] - 0s 3ms/step - loss: 13274.0381 - mae: 13274.0381\n",
      "Epoch 5/100\n",
      "34/34 [==============================] - 0s 3ms/step - loss: 13197.6455 - mae: 13197.6455\n",
      "Epoch 6/100\n",
      "34/34 [==============================] - 0s 3ms/step - loss: 13076.4082 - mae: 13076.4082\n",
      "Epoch 7/100\n",
      "34/34 [==============================] - 0s 3ms/step - loss: 12900.0059 - mae: 12900.0059\n",
      "Epoch 8/100\n",
      "34/34 [==============================] - 0s 3ms/step - loss: 12658.2773 - mae: 12658.2773\n",
      "Epoch 9/100\n",
      "34/34 [==============================] - 0s 3ms/step - loss: 12341.0088 - mae: 12341.0088\n",
      "Epoch 10/100\n",
      "34/34 [==============================] - 0s 3ms/step - loss: 11943.0977 - mae: 11943.0977\n",
      "Epoch 11/100\n",
      "34/34 [==============================] - 0s 3ms/step - loss: 11472.9062 - mae: 11472.9062\n",
      "Epoch 12/100\n",
      "34/34 [==============================] - 0s 2ms/step - loss: 10968.2822 - mae: 10968.2822\n",
      "Epoch 13/100\n",
      "34/34 [==============================] - 0s 2ms/step - loss: 10467.7412 - mae: 10467.7412\n",
      "Epoch 14/100\n",
      "34/34 [==============================] - 0s 2ms/step - loss: 9969.5830 - mae: 9969.5830\n",
      "Epoch 15/100\n",
      "34/34 [==============================] - 0s 3ms/step - loss: 9498.7021 - mae: 9498.7021\n",
      "Epoch 16/100\n",
      "34/34 [==============================] - 0s 2ms/step - loss: 9081.4424 - mae: 9081.4424\n",
      "Epoch 17/100\n",
      "34/34 [==============================] - 0s 3ms/step - loss: 8734.3350 - mae: 8734.3350\n",
      "Epoch 18/100\n",
      "34/34 [==============================] - 0s 3ms/step - loss: 8452.4902 - mae: 8452.4893\n",
      "Epoch 19/100\n",
      "34/34 [==============================] - 0s 2ms/step - loss: 8236.3193 - mae: 8236.3193\n",
      "Epoch 20/100\n",
      "34/34 [==============================] - 0s 2ms/step - loss: 8088.5757 - mae: 8088.5757\n",
      "Epoch 21/100\n",
      "34/34 [==============================] - 0s 2ms/step - loss: 7980.0488 - mae: 7980.0488\n",
      "Epoch 22/100\n",
      "34/34 [==============================] - 0s 2ms/step - loss: 7905.2197 - mae: 7905.2197\n",
      "Epoch 23/100\n",
      "34/34 [==============================] - 0s 2ms/step - loss: 7846.6074 - mae: 7846.6074\n",
      "Epoch 24/100\n",
      "34/34 [==============================] - 0s 2ms/step - loss: 7795.2510 - mae: 7795.2510\n",
      "Epoch 25/100\n",
      "34/34 [==============================] - 0s 2ms/step - loss: 7757.0288 - mae: 7757.0288\n",
      "Epoch 26/100\n",
      "34/34 [==============================] - 0s 3ms/step - loss: 7705.9487 - mae: 7705.9487\n",
      "Epoch 27/100\n",
      "34/34 [==============================] - 0s 3ms/step - loss: 7663.9829 - mae: 7663.9829\n",
      "Epoch 28/100\n",
      "34/34 [==============================] - 0s 3ms/step - loss: 7621.6558 - mae: 7621.6558\n",
      "Epoch 29/100\n",
      "34/34 [==============================] - 0s 3ms/step - loss: 7579.4541 - mae: 7579.4541\n",
      "Epoch 30/100\n",
      "34/34 [==============================] - 0s 3ms/step - loss: 7536.3315 - mae: 7536.3315\n",
      "Epoch 31/100\n",
      "34/34 [==============================] - 0s 2ms/step - loss: 7492.7954 - mae: 7492.7954\n",
      "Epoch 32/100\n",
      "34/34 [==============================] - 0s 2ms/step - loss: 7448.9795 - mae: 7448.9795\n",
      "Epoch 33/100\n",
      "34/34 [==============================] - 0s 2ms/step - loss: 7404.8545 - mae: 7404.8545\n",
      "Epoch 34/100\n",
      "34/34 [==============================] - 0s 2ms/step - loss: 7356.9819 - mae: 7356.9819\n",
      "Epoch 35/100\n",
      "34/34 [==============================] - 0s 2ms/step - loss: 7310.6074 - mae: 7310.6074\n",
      "Epoch 36/100\n",
      "34/34 [==============================] - 0s 2ms/step - loss: 7260.8296 - mae: 7260.8296\n",
      "Epoch 37/100\n",
      "34/34 [==============================] - 0s 2ms/step - loss: 7210.9365 - mae: 7210.9365\n",
      "Epoch 38/100\n",
      "34/34 [==============================] - 0s 2ms/step - loss: 7160.3882 - mae: 7160.3882\n",
      "Epoch 39/100\n",
      "34/34 [==============================] - 0s 2ms/step - loss: 7106.0322 - mae: 7106.0322\n",
      "Epoch 40/100\n",
      "34/34 [==============================] - 0s 2ms/step - loss: 7051.0728 - mae: 7051.0728\n",
      "Epoch 41/100\n",
      "34/34 [==============================] - 0s 2ms/step - loss: 6995.0210 - mae: 6995.0210\n",
      "Epoch 42/100\n",
      "34/34 [==============================] - 0s 2ms/step - loss: 6936.7944 - mae: 6936.7944\n",
      "Epoch 43/100\n",
      "34/34 [==============================] - 0s 2ms/step - loss: 6874.7705 - mae: 6874.7705\n",
      "Epoch 44/100\n",
      "34/34 [==============================] - 0s 2ms/step - loss: 6809.1460 - mae: 6809.1460\n",
      "Epoch 45/100\n",
      "34/34 [==============================] - 0s 2ms/step - loss: 6742.7886 - mae: 6742.7886\n",
      "Epoch 46/100\n",
      "34/34 [==============================] - 0s 3ms/step - loss: 6674.5679 - mae: 6674.5679\n",
      "Epoch 47/100\n",
      "34/34 [==============================] - 0s 3ms/step - loss: 6604.1353 - mae: 6604.1353\n",
      "Epoch 48/100\n",
      "34/34 [==============================] - 0s 3ms/step - loss: 6526.4673 - mae: 6526.4673\n",
      "Epoch 49/100\n",
      "34/34 [==============================] - 0s 3ms/step - loss: 6448.3853 - mae: 6448.3853\n",
      "Epoch 50/100\n",
      "34/34 [==============================] - 0s 3ms/step - loss: 6363.8447 - mae: 6363.8447\n",
      "Epoch 51/100\n",
      "34/34 [==============================] - 0s 3ms/step - loss: 6280.3257 - mae: 6280.3257\n",
      "Epoch 52/100\n",
      "34/34 [==============================] - 0s 3ms/step - loss: 6188.2202 - mae: 6188.2202\n",
      "Epoch 53/100\n",
      "34/34 [==============================] - 0s 3ms/step - loss: 6093.4849 - mae: 6093.4849\n",
      "Epoch 54/100\n",
      "34/34 [==============================] - 0s 2ms/step - loss: 5995.8843 - mae: 5995.8843\n",
      "Epoch 55/100\n",
      "34/34 [==============================] - 0s 3ms/step - loss: 5889.6250 - mae: 5889.6250\n",
      "Epoch 56/100\n",
      "34/34 [==============================] - 0s 3ms/step - loss: 5782.4805 - mae: 5782.4805\n",
      "Epoch 57/100\n",
      "34/34 [==============================] - 0s 3ms/step - loss: 5667.7261 - mae: 5667.7261\n",
      "Epoch 58/100\n",
      "34/34 [==============================] - 0s 3ms/step - loss: 5549.6899 - mae: 5549.6899\n",
      "Epoch 59/100\n",
      "34/34 [==============================] - 0s 3ms/step - loss: 5432.6885 - mae: 5432.6885\n",
      "Epoch 60/100\n",
      "34/34 [==============================] - 0s 3ms/step - loss: 5310.5557 - mae: 5310.5557\n",
      "Epoch 61/100\n",
      "34/34 [==============================] - 0s 3ms/step - loss: 5183.2358 - mae: 5183.2358\n",
      "Epoch 62/100\n",
      "34/34 [==============================] - 0s 3ms/step - loss: 5054.2900 - mae: 5054.2900\n",
      "Epoch 63/100\n",
      "34/34 [==============================] - 0s 3ms/step - loss: 4925.1260 - mae: 4925.1260\n",
      "Epoch 64/100\n",
      "34/34 [==============================] - 0s 2ms/step - loss: 4792.8984 - mae: 4792.8984\n",
      "Epoch 65/100\n",
      "34/34 [==============================] - 0s 3ms/step - loss: 4664.6963 - mae: 4664.6963\n",
      "Epoch 66/100\n",
      "34/34 [==============================] - 0s 2ms/step - loss: 4535.9727 - mae: 4535.9727\n",
      "Epoch 67/100\n",
      "34/34 [==============================] - 0s 2ms/step - loss: 4423.3936 - mae: 4423.3936\n",
      "Epoch 68/100\n",
      "34/34 [==============================] - 0s 2ms/step - loss: 4314.0669 - mae: 4314.0669\n",
      "Epoch 69/100\n",
      "34/34 [==============================] - 0s 2ms/step - loss: 4210.4058 - mae: 4210.4058\n",
      "Epoch 70/100\n",
      "34/34 [==============================] - 0s 2ms/step - loss: 4115.5000 - mae: 4115.5000\n",
      "Epoch 71/100\n",
      "34/34 [==============================] - 0s 2ms/step - loss: 4027.6038 - mae: 4027.6038\n",
      "Epoch 72/100\n",
      "34/34 [==============================] - 0s 2ms/step - loss: 3950.7485 - mae: 3950.7485\n",
      "Epoch 73/100\n",
      "34/34 [==============================] - 0s 2ms/step - loss: 3884.7795 - mae: 3884.7795\n",
      "Epoch 74/100\n",
      "34/34 [==============================] - 0s 2ms/step - loss: 3830.4265 - mae: 3830.4265\n",
      "Epoch 75/100\n",
      "34/34 [==============================] - 0s 2ms/step - loss: 3785.5361 - mae: 3785.5361\n",
      "Epoch 76/100\n",
      "34/34 [==============================] - 0s 3ms/step - loss: 3751.8638 - mae: 3751.8638\n",
      "Epoch 77/100\n",
      "34/34 [==============================] - 0s 3ms/step - loss: 3725.9504 - mae: 3725.9504\n",
      "Epoch 78/100\n",
      "34/34 [==============================] - 0s 2ms/step - loss: 3707.5671 - mae: 3707.5671\n",
      "Epoch 79/100\n",
      "34/34 [==============================] - 0s 2ms/step - loss: 3694.3452 - mae: 3694.3452\n",
      "Epoch 80/100\n",
      "34/34 [==============================] - 0s 2ms/step - loss: 3685.1067 - mae: 3685.1067\n",
      "Epoch 81/100\n",
      "34/34 [==============================] - 0s 2ms/step - loss: 3678.5388 - mae: 3678.5388\n",
      "Epoch 82/100\n",
      "34/34 [==============================] - 0s 2ms/step - loss: 3675.2498 - mae: 3675.2498\n",
      "Epoch 83/100\n",
      "34/34 [==============================] - 0s 2ms/step - loss: 3668.9802 - mae: 3668.9802\n",
      "Epoch 84/100\n",
      "34/34 [==============================] - 0s 3ms/step - loss: 3665.8081 - mae: 3665.8081\n",
      "Epoch 85/100\n",
      "34/34 [==============================] - 0s 3ms/step - loss: 3662.8110 - mae: 3662.8110\n",
      "Epoch 86/100\n",
      "34/34 [==============================] - 0s 3ms/step - loss: 3661.1577 - mae: 3661.1577\n",
      "Epoch 87/100\n",
      "34/34 [==============================] - 0s 3ms/step - loss: 3658.1797 - mae: 3658.1797\n",
      "Epoch 88/100\n",
      "34/34 [==============================] - 0s 3ms/step - loss: 3655.9529 - mae: 3655.9529\n",
      "Epoch 89/100\n",
      "34/34 [==============================] - 0s 2ms/step - loss: 3654.3352 - mae: 3654.3352\n",
      "Epoch 90/100\n",
      "34/34 [==============================] - 0s 3ms/step - loss: 3652.6006 - mae: 3652.6006\n",
      "Epoch 91/100\n",
      "34/34 [==============================] - 0s 3ms/step - loss: 3649.5310 - mae: 3649.5310\n",
      "Epoch 92/100\n",
      "34/34 [==============================] - 0s 3ms/step - loss: 3649.0483 - mae: 3649.0483\n",
      "Epoch 93/100\n",
      "34/34 [==============================] - 0s 3ms/step - loss: 3646.9526 - mae: 3646.9526\n",
      "Epoch 94/100\n",
      "34/34 [==============================] - 0s 3ms/step - loss: 3645.0225 - mae: 3645.0225\n",
      "Epoch 95/100\n",
      "34/34 [==============================] - 0s 3ms/step - loss: 3645.5127 - mae: 3645.5127\n",
      "Epoch 96/100\n",
      "34/34 [==============================] - 0s 2ms/step - loss: 3643.5012 - mae: 3643.5012\n",
      "Epoch 97/100\n",
      "34/34 [==============================] - 0s 3ms/step - loss: 3640.4631 - mae: 3640.4631\n",
      "Epoch 98/100\n",
      "34/34 [==============================] - 0s 3ms/step - loss: 3638.4629 - mae: 3638.4629\n",
      "Epoch 99/100\n",
      "34/34 [==============================] - 0s 3ms/step - loss: 3638.0571 - mae: 3638.0571\n",
      "Epoch 100/100\n",
      "34/34 [==============================] - 0s 3ms/step - loss: 3636.6382 - mae: 3636.6382\n"
     ]
    },
    {
     "data": {
      "text/plain": [
       "<keras.src.callbacks.History at 0x7f5309cbbd10>"
      ]
     },
     "execution_count": 91,
     "metadata": {},
     "output_type": "execute_result"
    }
   ],
   "source": [
    "# Build a neural network model to fit on our normalized data\n",
    "\n",
    "# Set random seed\n",
    "tf.random.set_seed(42)\n",
    "\n",
    "# 1. Create the model\n",
    "insurance_model_4 = tf.keras.Sequential([\n",
    "    tf.keras.layers.Dense(100),\n",
    "    tf.keras.layers.Dense(10),\n",
    "    tf.keras.layers.Dense(1)\n",
    "])\n",
    "\n",
    "# 2. Compile the model\n",
    "insurance_model_4.compile(loss=tf.keras.losses.mae,\n",
    "                          optimizer=tf.keras.optimizers.Adam(),\n",
    "                          metrics=['mae'])\n",
    "\n",
    "# 3. Fit the model\n",
    "insurance_model_4.fit(X_train_normal, y_train, epochs=100)"
   ]
  },
  {
   "cell_type": "markdown",
   "metadata": {},
   "source": [
    "Model performed better with scaling as compared to our previous best in `insurance_model_2`"
   ]
  },
  {
   "cell_type": "code",
   "execution_count": 92,
   "metadata": {},
   "outputs": [
    {
     "name": "stdout",
     "output_type": "stream",
     "text": [
      "9/9 [==============================] - 0s 2ms/step - loss: 3440.5552 - mae: 3440.5552\n"
     ]
    },
    {
     "data": {
      "text/plain": [
       "[3440.55517578125, 3440.55517578125]"
      ]
     },
     "execution_count": 92,
     "metadata": {},
     "output_type": "execute_result"
    }
   ],
   "source": [
    "# Evaluate our insurance model trainned on normalized data\n",
    "insurance_model_4.evaluate(X_test_normal, y_test)"
   ]
  },
  {
   "cell_type": "markdown",
   "metadata": {},
   "source": [
    "Cannot evaluate `insurance_model_2` on the same data because it was trained on different data, with different features/columns."
   ]
  },
  {
   "cell_type": "code",
   "execution_count": 95,
   "metadata": {},
   "outputs": [
    {
     "name": "stdout",
     "output_type": "stream",
     "text": [
      "Model: \"sequential_10\"\n",
      "_________________________________________________________________\n",
      " Layer (type)                Output Shape              Param #   \n",
      "=================================================================\n",
      " dense_18 (Dense)            (None, 100)               200       \n",
      "                                                                 \n",
      " dense_19 (Dense)            (None, 10)                1010      \n",
      "                                                                 \n",
      " dense_20 (Dense)            (None, 1)                 11        \n",
      "                                                                 \n",
      "=================================================================\n",
      "Total params: 1221 (4.77 KB)\n",
      "Trainable params: 1221 (4.77 KB)\n",
      "Non-trainable params: 0 (0.00 Byte)\n",
      "_________________________________________________________________\n"
     ]
    }
   ],
   "source": [
    "insurance_model_2.summary()"
   ]
  },
  {
   "cell_type": "code",
   "execution_count": 98,
   "metadata": {},
   "outputs": [],
   "source": [
    "X_test_normal_tensor = tf.constant(X_test_normal)"
   ]
  },
  {
   "cell_type": "code",
   "execution_count": null,
   "metadata": {},
   "outputs": [],
   "source": []
  }
 ],
 "metadata": {
  "kernelspec": {
   "display_name": "Python 3 (ipykernel)",
   "language": "python",
   "name": "python3"
  },
  "language_info": {
   "codemirror_mode": {
    "name": "ipython",
    "version": 3
   },
   "file_extension": ".py",
   "mimetype": "text/x-python",
   "name": "python",
   "nbconvert_exporter": "python",
   "pygments_lexer": "ipython3",
   "version": "3.11.0rc1"
  }
 },
 "nbformat": 4,
 "nbformat_minor": 2
}
